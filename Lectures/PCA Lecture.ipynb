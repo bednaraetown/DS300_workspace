{
 "cells": [
  {
   "cell_type": "code",
   "execution_count": 1,
   "id": "f44d3ef0",
   "metadata": {},
   "outputs": [],
   "source": [
    "import numpy as np\n",
    "from scipy.linalg import svd"
   ]
  },
  {
   "cell_type": "code",
   "execution_count": 2,
   "id": "a7a530fc",
   "metadata": {},
   "outputs": [
    {
     "data": {
      "text/plain": [
       "array([[ 7,  3,  2],\n",
       "       [ 2,  3, -2]])"
      ]
     },
     "execution_count": 2,
     "metadata": {},
     "output_type": "execute_result"
    }
   ],
   "source": [
    "A = np.array([[7,3,2],[2,3,-2]])\n",
    "A"
   ]
  },
  {
   "cell_type": "code",
   "execution_count": 3,
   "id": "cf9f2e63",
   "metadata": {},
   "outputs": [],
   "source": [
    "from sklearn.preprocessing import StandardScaler"
   ]
  },
  {
   "cell_type": "code",
   "execution_count": 4,
   "id": "6ddb34ad",
   "metadata": {},
   "outputs": [],
   "source": [
    "A = StandardScaler().fit_transform(A)"
   ]
  },
  {
   "cell_type": "code",
   "execution_count": 6,
   "id": "036e1ba0",
   "metadata": {},
   "outputs": [
    {
     "data": {
      "text/plain": [
       "array([[ 1.,  0.,  1.],\n",
       "       [-1.,  0., -1.]])"
      ]
     },
     "execution_count": 6,
     "metadata": {},
     "output_type": "execute_result"
    }
   ],
   "source": [
    "A"
   ]
  },
  {
   "cell_type": "code",
   "execution_count": 9,
   "id": "c9d20524",
   "metadata": {},
   "outputs": [
    {
     "data": {
      "text/plain": [
       "array([[ 0.66666667, -0.66666667],\n",
       "       [-0.66666667,  0.66666667]])"
      ]
     },
     "execution_count": 9,
     "metadata": {},
     "output_type": "execute_result"
    }
   ],
   "source": [
    "#Covariance matrix\n",
    "C = A.dot(A.T) / len(A[0])\n",
    "C"
   ]
  },
  {
   "cell_type": "code",
   "execution_count": 10,
   "id": "00fb897e",
   "metadata": {},
   "outputs": [
    {
     "name": "stdout",
     "output_type": "stream",
     "text": [
      "Eigenvalues:\n",
      " [1.33333333 0.        ]\n",
      "\n",
      "Eigenvectors:\n",
      " [[ 0.70710678  0.70710678]\n",
      " [-0.70710678  0.70710678]]\n"
     ]
    }
   ],
   "source": [
    "val, vec = np.linalg.eig(C)\n",
    "print('Eigenvalues:\\n', val)\n",
    "print('\\nEigenvectors:\\n', vec)"
   ]
  },
  {
   "cell_type": "markdown",
   "id": "fc42bbf4",
   "metadata": {},
   "source": [
    "Singular Vector Decompostition"
   ]
  },
  {
   "cell_type": "code",
   "execution_count": 11,
   "id": "c2e3c568",
   "metadata": {},
   "outputs": [],
   "source": [
    "U, S, V_T = svd(A)"
   ]
  },
  {
   "cell_type": "code",
   "execution_count": 13,
   "id": "384b4f88",
   "metadata": {},
   "outputs": [
    {
     "name": "stdout",
     "output_type": "stream",
     "text": [
      "U:\n",
      " [[ 0.70710678  0.70710678]\n",
      " [-0.70710678  0.70710678]]\n",
      "\n",
      "Singular Values:\n",
      " [2.00000000e+00 1.43493693e-17]\n",
      "\n",
      "EigenValues:\n",
      " [1.33333333e+00 6.86348000e-35]\n",
      "\n",
      "V_T:\n",
      " [[ 0.70710678  0.          0.70710678]\n",
      " [ 0.70710678  0.         -0.70710678]\n",
      " [ 0.          1.          0.        ]]\n"
     ]
    }
   ],
   "source": [
    "print('U:\\n',U)\n",
    "print('\\nSingular Values:\\n',S)\n",
    "print('\\nEigenValues:\\n',S*S/len(A[0]))\n",
    "print('\\nV_T:\\n',V_T)"
   ]
  },
  {
   "cell_type": "code",
   "execution_count": null,
   "id": "b544d02c",
   "metadata": {},
   "outputs": [],
   "source": []
  }
 ],
 "metadata": {
  "kernelspec": {
   "display_name": "Python 3 (ipykernel)",
   "language": "python",
   "name": "python3"
  },
  "language_info": {
   "codemirror_mode": {
    "name": "ipython",
    "version": 3
   },
   "file_extension": ".py",
   "mimetype": "text/x-python",
   "name": "python",
   "nbconvert_exporter": "python",
   "pygments_lexer": "ipython3",
   "version": "3.9.12"
  }
 },
 "nbformat": 4,
 "nbformat_minor": 5
}
