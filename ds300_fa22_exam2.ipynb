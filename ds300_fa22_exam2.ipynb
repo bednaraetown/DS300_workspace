{
 "cells": [
  {
   "cell_type": "markdown",
   "id": "50fe13e1",
   "metadata": {},
   "source": [
    "<h1><center>DS300: Exam 2</center></h1>"
   ]
  },
  {
   "cell_type": "markdown",
   "id": "6c812c80",
   "metadata": {},
   "source": [
    "## Introduction: \n",
    "\n",
    "A great number of fruits are grown around the world, each of which has various types. The factors that determine the type of fruit are the external appearance features such as color, length, diameter, and shape. The external appearance of the fruits is a major determinant of the fruit type. Determining the variety of fruits by looking at their external appearance may necessitate expertise, which is time-consuming and requires great effort. \n",
    "\n",
    "The aim of this study is to classify the types of date fruit, that are, Barhee, Deglet Nour, Sukkary, Rotab Mozafati, Ruthana, Safawi, and Sagai by using different machine learning methods. \n",
    "\n",
    "In accordance with this purpose, `898` images of `7` different date fruit types were obtained via the computer vision system. Through image processing techniques, a total of `34` features, including morphological features, shape, and color, were extracted from these images. \n",
    "\n",
    "![Date Fruits](https://github.com/BlueJayADAL/DS300/blob/master/datasets/datefruits.jpg?raw=true)"
   ]
  },
  {
   "cell_type": "markdown",
   "id": "feb451f3",
   "metadata": {},
   "source": [
    "## Q1: Data Loading (10 Points)"
   ]
  },
  {
   "cell_type": "code",
   "execution_count": 32,
   "id": "7a9d966f",
   "metadata": {},
   "outputs": [],
   "source": [
    "# Use the given random seed\n",
    "from numpy.random import seed\n",
    "seed(101)"
   ]
  },
  {
   "cell_type": "markdown",
   "id": "270c6b54",
   "metadata": {},
   "source": [
    "#### Import necessary libraries. "
   ]
  },
  {
   "cell_type": "code",
   "execution_count": 33,
   "id": "64eeacb2",
   "metadata": {},
   "outputs": [],
   "source": [
    "import pandas as pd\n",
    "import numpy as np\n",
    "import matplotlib.pyplot as plt\n",
    "import seaborn as sns"
   ]
  },
  {
   "cell_type": "markdown",
   "id": "a2209e41",
   "metadata": {},
   "source": [
    "#### Load the dataset from the given [URL](https://raw.githubusercontent.com/BlueJayADAL/DS300/master/datasets/datefruits.csv). Name the DataFrame as `df`."
   ]
  },
  {
   "cell_type": "code",
   "execution_count": 34,
   "id": "1a689d23",
   "metadata": {},
   "outputs": [
    {
     "data": {
      "text/html": [
       "<div>\n",
       "<style scoped>\n",
       "    .dataframe tbody tr th:only-of-type {\n",
       "        vertical-align: middle;\n",
       "    }\n",
       "\n",
       "    .dataframe tbody tr th {\n",
       "        vertical-align: top;\n",
       "    }\n",
       "\n",
       "    .dataframe thead th {\n",
       "        text-align: right;\n",
       "    }\n",
       "</style>\n",
       "<table border=\"1\" class=\"dataframe\">\n",
       "  <thead>\n",
       "    <tr style=\"text-align: right;\">\n",
       "      <th></th>\n",
       "      <th>AREA</th>\n",
       "      <th>PERIMETER</th>\n",
       "      <th>MAJOR_AXIS</th>\n",
       "      <th>MINOR_AXIS</th>\n",
       "      <th>ECCENTRICITY</th>\n",
       "      <th>EQDIASQ</th>\n",
       "      <th>SOLIDITY</th>\n",
       "      <th>CONVEX_AREA</th>\n",
       "      <th>EXTENT</th>\n",
       "      <th>ASPECT_RATIO</th>\n",
       "      <th>...</th>\n",
       "      <th>KurtosisRR</th>\n",
       "      <th>KurtosisRG</th>\n",
       "      <th>KurtosisRB</th>\n",
       "      <th>EntropyRR</th>\n",
       "      <th>EntropyRG</th>\n",
       "      <th>EntropyRB</th>\n",
       "      <th>ALLdaub4RR</th>\n",
       "      <th>ALLdaub4RG</th>\n",
       "      <th>ALLdaub4RB</th>\n",
       "      <th>Class</th>\n",
       "    </tr>\n",
       "  </thead>\n",
       "  <tbody>\n",
       "    <tr>\n",
       "      <th>0</th>\n",
       "      <td>422163</td>\n",
       "      <td>2378.9080</td>\n",
       "      <td>837.8484</td>\n",
       "      <td>645.6693</td>\n",
       "      <td>0.6373</td>\n",
       "      <td>733.1539</td>\n",
       "      <td>0.9947</td>\n",
       "      <td>424428</td>\n",
       "      <td>0.7831</td>\n",
       "      <td>1.2976</td>\n",
       "      <td>...</td>\n",
       "      <td>3.2370</td>\n",
       "      <td>2.9574</td>\n",
       "      <td>4.2287</td>\n",
       "      <td>-5.919126e+10</td>\n",
       "      <td>-50714214400</td>\n",
       "      <td>-39922372608</td>\n",
       "      <td>58.7255</td>\n",
       "      <td>54.9554</td>\n",
       "      <td>47.8400</td>\n",
       "      <td>BERHI</td>\n",
       "    </tr>\n",
       "    <tr>\n",
       "      <th>1</th>\n",
       "      <td>338136</td>\n",
       "      <td>2085.1440</td>\n",
       "      <td>723.8198</td>\n",
       "      <td>595.2073</td>\n",
       "      <td>0.5690</td>\n",
       "      <td>656.1464</td>\n",
       "      <td>0.9974</td>\n",
       "      <td>339014</td>\n",
       "      <td>0.7795</td>\n",
       "      <td>1.2161</td>\n",
       "      <td>...</td>\n",
       "      <td>2.6228</td>\n",
       "      <td>2.6350</td>\n",
       "      <td>3.1704</td>\n",
       "      <td>-3.423307e+10</td>\n",
       "      <td>-37462601728</td>\n",
       "      <td>-31477794816</td>\n",
       "      <td>50.0259</td>\n",
       "      <td>52.8168</td>\n",
       "      <td>47.8315</td>\n",
       "      <td>BERHI</td>\n",
       "    </tr>\n",
       "    <tr>\n",
       "      <th>2</th>\n",
       "      <td>526843</td>\n",
       "      <td>2647.3940</td>\n",
       "      <td>940.7379</td>\n",
       "      <td>715.3638</td>\n",
       "      <td>0.6494</td>\n",
       "      <td>819.0222</td>\n",
       "      <td>0.9962</td>\n",
       "      <td>528876</td>\n",
       "      <td>0.7657</td>\n",
       "      <td>1.3150</td>\n",
       "      <td>...</td>\n",
       "      <td>3.7516</td>\n",
       "      <td>3.8611</td>\n",
       "      <td>4.7192</td>\n",
       "      <td>-9.394835e+10</td>\n",
       "      <td>-74738221056</td>\n",
       "      <td>-60311207936</td>\n",
       "      <td>65.4772</td>\n",
       "      <td>59.2860</td>\n",
       "      <td>51.9378</td>\n",
       "      <td>BERHI</td>\n",
       "    </tr>\n",
       "    <tr>\n",
       "      <th>3</th>\n",
       "      <td>416063</td>\n",
       "      <td>2351.2100</td>\n",
       "      <td>827.9804</td>\n",
       "      <td>645.2988</td>\n",
       "      <td>0.6266</td>\n",
       "      <td>727.8378</td>\n",
       "      <td>0.9948</td>\n",
       "      <td>418255</td>\n",
       "      <td>0.7759</td>\n",
       "      <td>1.2831</td>\n",
       "      <td>...</td>\n",
       "      <td>5.0401</td>\n",
       "      <td>8.6136</td>\n",
       "      <td>8.2618</td>\n",
       "      <td>-3.207431e+10</td>\n",
       "      <td>-32060925952</td>\n",
       "      <td>-29575010304</td>\n",
       "      <td>43.3900</td>\n",
       "      <td>44.1259</td>\n",
       "      <td>41.1882</td>\n",
       "      <td>BERHI</td>\n",
       "    </tr>\n",
       "    <tr>\n",
       "      <th>4</th>\n",
       "      <td>347562</td>\n",
       "      <td>2160.3540</td>\n",
       "      <td>763.9877</td>\n",
       "      <td>582.8359</td>\n",
       "      <td>0.6465</td>\n",
       "      <td>665.2291</td>\n",
       "      <td>0.9908</td>\n",
       "      <td>350797</td>\n",
       "      <td>0.7569</td>\n",
       "      <td>1.3108</td>\n",
       "      <td>...</td>\n",
       "      <td>2.7016</td>\n",
       "      <td>2.9761</td>\n",
       "      <td>4.4146</td>\n",
       "      <td>-3.998097e+10</td>\n",
       "      <td>-35980042240</td>\n",
       "      <td>-25593278464</td>\n",
       "      <td>52.7743</td>\n",
       "      <td>50.9080</td>\n",
       "      <td>42.6666</td>\n",
       "      <td>BERHI</td>\n",
       "    </tr>\n",
       "    <tr>\n",
       "      <th>...</th>\n",
       "      <td>...</td>\n",
       "      <td>...</td>\n",
       "      <td>...</td>\n",
       "      <td>...</td>\n",
       "      <td>...</td>\n",
       "      <td>...</td>\n",
       "      <td>...</td>\n",
       "      <td>...</td>\n",
       "      <td>...</td>\n",
       "      <td>...</td>\n",
       "      <td>...</td>\n",
       "      <td>...</td>\n",
       "      <td>...</td>\n",
       "      <td>...</td>\n",
       "      <td>...</td>\n",
       "      <td>...</td>\n",
       "      <td>...</td>\n",
       "      <td>...</td>\n",
       "      <td>...</td>\n",
       "      <td>...</td>\n",
       "      <td>...</td>\n",
       "    </tr>\n",
       "    <tr>\n",
       "      <th>893</th>\n",
       "      <td>255403</td>\n",
       "      <td>1925.3650</td>\n",
       "      <td>691.8453</td>\n",
       "      <td>477.1796</td>\n",
       "      <td>0.7241</td>\n",
       "      <td>570.2536</td>\n",
       "      <td>0.9785</td>\n",
       "      <td>261028</td>\n",
       "      <td>0.7269</td>\n",
       "      <td>1.4499</td>\n",
       "      <td>...</td>\n",
       "      <td>2.2423</td>\n",
       "      <td>2.3704</td>\n",
       "      <td>2.7202</td>\n",
       "      <td>-2.529642e+10</td>\n",
       "      <td>-19168882688</td>\n",
       "      <td>-18473392128</td>\n",
       "      <td>49.0869</td>\n",
       "      <td>43.0422</td>\n",
       "      <td>42.4153</td>\n",
       "      <td>SOGAY</td>\n",
       "    </tr>\n",
       "    <tr>\n",
       "      <th>894</th>\n",
       "      <td>365924</td>\n",
       "      <td>2664.8230</td>\n",
       "      <td>855.4633</td>\n",
       "      <td>551.5447</td>\n",
       "      <td>0.7644</td>\n",
       "      <td>682.5752</td>\n",
       "      <td>0.9466</td>\n",
       "      <td>386566</td>\n",
       "      <td>0.6695</td>\n",
       "      <td>1.5510</td>\n",
       "      <td>...</td>\n",
       "      <td>3.4109</td>\n",
       "      <td>3.5805</td>\n",
       "      <td>3.9910</td>\n",
       "      <td>-3.160522e+10</td>\n",
       "      <td>-21945366528</td>\n",
       "      <td>-19277905920</td>\n",
       "      <td>46.8086</td>\n",
       "      <td>39.1046</td>\n",
       "      <td>36.5502</td>\n",
       "      <td>SOGAY</td>\n",
       "    </tr>\n",
       "    <tr>\n",
       "      <th>895</th>\n",
       "      <td>254330</td>\n",
       "      <td>1926.7360</td>\n",
       "      <td>747.4943</td>\n",
       "      <td>435.6219</td>\n",
       "      <td>0.8126</td>\n",
       "      <td>569.0545</td>\n",
       "      <td>0.9925</td>\n",
       "      <td>256255</td>\n",
       "      <td>0.7240</td>\n",
       "      <td>1.7159</td>\n",
       "      <td>...</td>\n",
       "      <td>2.2759</td>\n",
       "      <td>2.5090</td>\n",
       "      <td>2.6951</td>\n",
       "      <td>-2.224277e+10</td>\n",
       "      <td>-19594921984</td>\n",
       "      <td>-17592152064</td>\n",
       "      <td>44.1325</td>\n",
       "      <td>40.7986</td>\n",
       "      <td>40.9769</td>\n",
       "      <td>SOGAY</td>\n",
       "    </tr>\n",
       "    <tr>\n",
       "      <th>896</th>\n",
       "      <td>238955</td>\n",
       "      <td>1906.2679</td>\n",
       "      <td>716.6485</td>\n",
       "      <td>441.8297</td>\n",
       "      <td>0.7873</td>\n",
       "      <td>551.5859</td>\n",
       "      <td>0.9604</td>\n",
       "      <td>248795</td>\n",
       "      <td>0.6954</td>\n",
       "      <td>1.6220</td>\n",
       "      <td>...</td>\n",
       "      <td>2.6769</td>\n",
       "      <td>2.6874</td>\n",
       "      <td>2.7991</td>\n",
       "      <td>-2.604860e+10</td>\n",
       "      <td>-21299822592</td>\n",
       "      <td>-19809978368</td>\n",
       "      <td>51.2267</td>\n",
       "      <td>45.7162</td>\n",
       "      <td>45.6260</td>\n",
       "      <td>SOGAY</td>\n",
       "    </tr>\n",
       "    <tr>\n",
       "      <th>897</th>\n",
       "      <td>343792</td>\n",
       "      <td>2289.2720</td>\n",
       "      <td>823.8438</td>\n",
       "      <td>534.7757</td>\n",
       "      <td>0.7607</td>\n",
       "      <td>661.6113</td>\n",
       "      <td>0.9781</td>\n",
       "      <td>351472</td>\n",
       "      <td>0.6941</td>\n",
       "      <td>1.5405</td>\n",
       "      <td>...</td>\n",
       "      <td>2.5138</td>\n",
       "      <td>3.0369</td>\n",
       "      <td>3.0865</td>\n",
       "      <td>-3.198348e+10</td>\n",
       "      <td>-20482514944</td>\n",
       "      <td>-21219354624</td>\n",
       "      <td>47.3454</td>\n",
       "      <td>38.6966</td>\n",
       "      <td>39.6738</td>\n",
       "      <td>SOGAY</td>\n",
       "    </tr>\n",
       "  </tbody>\n",
       "</table>\n",
       "<p>898 rows × 35 columns</p>\n",
       "</div>"
      ],
      "text/plain": [
       "       AREA  PERIMETER  MAJOR_AXIS  MINOR_AXIS  ECCENTRICITY   EQDIASQ  \\\n",
       "0    422163  2378.9080    837.8484    645.6693        0.6373  733.1539   \n",
       "1    338136  2085.1440    723.8198    595.2073        0.5690  656.1464   \n",
       "2    526843  2647.3940    940.7379    715.3638        0.6494  819.0222   \n",
       "3    416063  2351.2100    827.9804    645.2988        0.6266  727.8378   \n",
       "4    347562  2160.3540    763.9877    582.8359        0.6465  665.2291   \n",
       "..      ...        ...         ...         ...           ...       ...   \n",
       "893  255403  1925.3650    691.8453    477.1796        0.7241  570.2536   \n",
       "894  365924  2664.8230    855.4633    551.5447        0.7644  682.5752   \n",
       "895  254330  1926.7360    747.4943    435.6219        0.8126  569.0545   \n",
       "896  238955  1906.2679    716.6485    441.8297        0.7873  551.5859   \n",
       "897  343792  2289.2720    823.8438    534.7757        0.7607  661.6113   \n",
       "\n",
       "     SOLIDITY  CONVEX_AREA  EXTENT  ASPECT_RATIO  ...  KurtosisRR  KurtosisRG  \\\n",
       "0      0.9947       424428  0.7831        1.2976  ...      3.2370      2.9574   \n",
       "1      0.9974       339014  0.7795        1.2161  ...      2.6228      2.6350   \n",
       "2      0.9962       528876  0.7657        1.3150  ...      3.7516      3.8611   \n",
       "3      0.9948       418255  0.7759        1.2831  ...      5.0401      8.6136   \n",
       "4      0.9908       350797  0.7569        1.3108  ...      2.7016      2.9761   \n",
       "..        ...          ...     ...           ...  ...         ...         ...   \n",
       "893    0.9785       261028  0.7269        1.4499  ...      2.2423      2.3704   \n",
       "894    0.9466       386566  0.6695        1.5510  ...      3.4109      3.5805   \n",
       "895    0.9925       256255  0.7240        1.7159  ...      2.2759      2.5090   \n",
       "896    0.9604       248795  0.6954        1.6220  ...      2.6769      2.6874   \n",
       "897    0.9781       351472  0.6941        1.5405  ...      2.5138      3.0369   \n",
       "\n",
       "     KurtosisRB     EntropyRR    EntropyRG    EntropyRB  ALLdaub4RR  \\\n",
       "0        4.2287 -5.919126e+10 -50714214400 -39922372608     58.7255   \n",
       "1        3.1704 -3.423307e+10 -37462601728 -31477794816     50.0259   \n",
       "2        4.7192 -9.394835e+10 -74738221056 -60311207936     65.4772   \n",
       "3        8.2618 -3.207431e+10 -32060925952 -29575010304     43.3900   \n",
       "4        4.4146 -3.998097e+10 -35980042240 -25593278464     52.7743   \n",
       "..          ...           ...          ...          ...         ...   \n",
       "893      2.7202 -2.529642e+10 -19168882688 -18473392128     49.0869   \n",
       "894      3.9910 -3.160522e+10 -21945366528 -19277905920     46.8086   \n",
       "895      2.6951 -2.224277e+10 -19594921984 -17592152064     44.1325   \n",
       "896      2.7991 -2.604860e+10 -21299822592 -19809978368     51.2267   \n",
       "897      3.0865 -3.198348e+10 -20482514944 -21219354624     47.3454   \n",
       "\n",
       "     ALLdaub4RG  ALLdaub4RB  Class  \n",
       "0       54.9554     47.8400  BERHI  \n",
       "1       52.8168     47.8315  BERHI  \n",
       "2       59.2860     51.9378  BERHI  \n",
       "3       44.1259     41.1882  BERHI  \n",
       "4       50.9080     42.6666  BERHI  \n",
       "..          ...         ...    ...  \n",
       "893     43.0422     42.4153  SOGAY  \n",
       "894     39.1046     36.5502  SOGAY  \n",
       "895     40.7986     40.9769  SOGAY  \n",
       "896     45.7162     45.6260  SOGAY  \n",
       "897     38.6966     39.6738  SOGAY  \n",
       "\n",
       "[898 rows x 35 columns]"
      ]
     },
     "execution_count": 34,
     "metadata": {},
     "output_type": "execute_result"
    }
   ],
   "source": [
    "url = 'https://raw.githubusercontent.com/BlueJayADAL/DS300/master/datasets/datefruits.csv'\n",
    "df = pd.read_csv(url)\n",
    "\n",
    "\n",
    "df"
   ]
  },
  {
   "cell_type": "markdown",
   "id": "68584980",
   "metadata": {},
   "source": [
    "#### Show the basic information."
   ]
  },
  {
   "cell_type": "code",
   "execution_count": 35,
   "id": "630863b9",
   "metadata": {},
   "outputs": [
    {
     "name": "stdout",
     "output_type": "stream",
     "text": [
      "<class 'pandas.core.frame.DataFrame'>\n",
      "RangeIndex: 898 entries, 0 to 897\n",
      "Data columns (total 35 columns):\n",
      " #   Column         Non-Null Count  Dtype  \n",
      "---  ------         --------------  -----  \n",
      " 0   AREA           898 non-null    int64  \n",
      " 1   PERIMETER      898 non-null    float64\n",
      " 2   MAJOR_AXIS     898 non-null    float64\n",
      " 3   MINOR_AXIS     898 non-null    float64\n",
      " 4   ECCENTRICITY   898 non-null    float64\n",
      " 5   EQDIASQ        898 non-null    float64\n",
      " 6   SOLIDITY       898 non-null    float64\n",
      " 7   CONVEX_AREA    898 non-null    int64  \n",
      " 8   EXTENT         898 non-null    float64\n",
      " 9   ASPECT_RATIO   898 non-null    float64\n",
      " 10  ROUNDNESS      898 non-null    float64\n",
      " 11  COMPACTNESS    898 non-null    float64\n",
      " 12  SHAPEFACTOR_1  898 non-null    float64\n",
      " 13  SHAPEFACTOR_2  898 non-null    float64\n",
      " 14  SHAPEFACTOR_3  898 non-null    float64\n",
      " 15  SHAPEFACTOR_4  898 non-null    float64\n",
      " 16  MeanRR         898 non-null    float64\n",
      " 17  MeanRG         898 non-null    float64\n",
      " 18  MeanRB         898 non-null    float64\n",
      " 19  StdDevRR       898 non-null    float64\n",
      " 20  StdDevRG       898 non-null    float64\n",
      " 21  StdDevRB       898 non-null    float64\n",
      " 22  SkewRR         898 non-null    float64\n",
      " 23  SkewRG         898 non-null    float64\n",
      " 24  SkewRB         898 non-null    float64\n",
      " 25  KurtosisRR     898 non-null    float64\n",
      " 26  KurtosisRG     898 non-null    float64\n",
      " 27  KurtosisRB     898 non-null    float64\n",
      " 28  EntropyRR      898 non-null    float64\n",
      " 29  EntropyRG      898 non-null    int64  \n",
      " 30  EntropyRB      898 non-null    int64  \n",
      " 31  ALLdaub4RR     898 non-null    float64\n",
      " 32  ALLdaub4RG     898 non-null    float64\n",
      " 33  ALLdaub4RB     898 non-null    float64\n",
      " 34  Class          898 non-null    object \n",
      "dtypes: float64(30), int64(4), object(1)\n",
      "memory usage: 245.7+ KB\n"
     ]
    }
   ],
   "source": [
    "df.info()\n",
    "\n"
   ]
  },
  {
   "cell_type": "markdown",
   "id": "812dd79e",
   "metadata": {},
   "source": [
    "## Q2: Data Preparation (10 Points)"
   ]
  },
  {
   "cell_type": "markdown",
   "id": "b94a82bb",
   "metadata": {},
   "source": [
    "#### Find the missing data. "
   ]
  },
  {
   "cell_type": "code",
   "execution_count": 36,
   "id": "cee41b6f",
   "metadata": {},
   "outputs": [
    {
     "data": {
      "text/plain": [
       "AREA             0\n",
       "PERIMETER        0\n",
       "MAJOR_AXIS       0\n",
       "MINOR_AXIS       0\n",
       "ECCENTRICITY     0\n",
       "EQDIASQ          0\n",
       "SOLIDITY         0\n",
       "CONVEX_AREA      0\n",
       "EXTENT           0\n",
       "ASPECT_RATIO     0\n",
       "ROUNDNESS        0\n",
       "COMPACTNESS      0\n",
       "SHAPEFACTOR_1    0\n",
       "SHAPEFACTOR_2    0\n",
       "SHAPEFACTOR_3    0\n",
       "SHAPEFACTOR_4    0\n",
       "MeanRR           0\n",
       "MeanRG           0\n",
       "MeanRB           0\n",
       "StdDevRR         0\n",
       "StdDevRG         0\n",
       "StdDevRB         0\n",
       "SkewRR           0\n",
       "SkewRG           0\n",
       "SkewRB           0\n",
       "KurtosisRR       0\n",
       "KurtosisRG       0\n",
       "KurtosisRB       0\n",
       "EntropyRR        0\n",
       "EntropyRG        0\n",
       "EntropyRB        0\n",
       "ALLdaub4RR       0\n",
       "ALLdaub4RG       0\n",
       "ALLdaub4RB       0\n",
       "Class            0\n",
       "dtype: int64"
      ]
     },
     "execution_count": 36,
     "metadata": {},
     "output_type": "execute_result"
    }
   ],
   "source": [
    "df.isna().sum()\n",
    "\n"
   ]
  },
  {
   "cell_type": "markdown",
   "id": "e83fe520",
   "metadata": {},
   "source": [
    "#### What are the unique classes for y label?"
   ]
  },
  {
   "cell_type": "code",
   "execution_count": 37,
   "id": "477e91f8",
   "metadata": {
    "scrolled": true
   },
   "outputs": [
    {
     "data": {
      "text/plain": [
       "array(['BERHI', 'DEGLET', 'DOKOL', 'IRAQI', 'ROTANA', 'SAFAVI', 'SOGAY'],\n",
       "      dtype=object)"
      ]
     },
     "execution_count": 37,
     "metadata": {},
     "output_type": "execute_result"
    }
   ],
   "source": [
    "df['Class'].unique()\n",
    "\n"
   ]
  },
  {
   "cell_type": "markdown",
   "id": "1e233d00",
   "metadata": {},
   "source": [
    "#### What's the average `EXTENT` for different `Class` types?"
   ]
  },
  {
   "cell_type": "code",
   "execution_count": 38,
   "id": "6d8eadad",
   "metadata": {},
   "outputs": [
    {
     "data": {
      "text/plain": [
       "Class\n",
       "BERHI     0.766549\n",
       "DEGLET    0.760827\n",
       "DOKOL     0.755143\n",
       "IRAQI     0.763890\n",
       "ROTANA    0.736674\n",
       "SAFAVI    0.686883\n",
       "SOGAY     0.731430\n",
       "Name: EXTENT, dtype: float64"
      ]
     },
     "execution_count": 38,
     "metadata": {},
     "output_type": "execute_result"
    }
   ],
   "source": [
    "df.groupby(['Class'])['EXTENT'].mean()\n",
    "\n"
   ]
  },
  {
   "cell_type": "markdown",
   "id": "04b5f319",
   "metadata": {},
   "source": [
    "#### Given the following `Class` to numeric encoding mapping, transform the `Class` column to numeric. "
   ]
  },
  {
   "cell_type": "code",
   "execution_count": 39,
   "id": "76cd8baa",
   "metadata": {},
   "outputs": [
    {
     "data": {
      "text/plain": [
       "{'BERHI': 0,\n",
       " 'DEGLET': 1,\n",
       " 'DOKOL': 2,\n",
       " 'IRAQI': 3,\n",
       " 'ROTANA': 4,\n",
       " 'SAFAVI': 5,\n",
       " 'SOGAY': 6}"
      ]
     },
     "execution_count": 39,
     "metadata": {},
     "output_type": "execute_result"
    }
   ],
   "source": [
    "# Given this mapping dictionary\n",
    "mapping_dict = {k:v for k, v in zip(df['Class'].unique(), np.arange(df['Class'].nunique()))}\n",
    "mapping_dict"
   ]
  },
  {
   "cell_type": "markdown",
   "id": "3243f137",
   "metadata": {},
   "source": [
    "#### Now, transform the `Class` column using the given mapping. \n",
    "Hint: use lambda or define your own function. "
   ]
  },
  {
   "cell_type": "code",
   "execution_count": 41,
   "id": "5298f316",
   "metadata": {},
   "outputs": [],
   "source": [
    "df.replace({\"Class\":mapping_dict}, inplace=True)"
   ]
  },
  {
   "cell_type": "code",
   "execution_count": 46,
   "id": "452f62a7",
   "metadata": {},
   "outputs": [
    {
     "data": {
      "text/plain": [
       "2    204\n",
       "5    199\n",
       "4    166\n",
       "1     98\n",
       "6     94\n",
       "3     72\n",
       "0     65\n",
       "Name: Class, dtype: int64"
      ]
     },
     "execution_count": 46,
     "metadata": {},
     "output_type": "execute_result"
    }
   ],
   "source": [
    "# Ensure the change was made. \n",
    "df['Class'].value_counts()"
   ]
  },
  {
   "cell_type": "markdown",
   "id": "fbfdcbb5",
   "metadata": {},
   "source": [
    "## Q3: EDA (10 Points)"
   ]
  },
  {
   "cell_type": "markdown",
   "id": "a6f69287",
   "metadata": {},
   "source": [
    "#### Display the count for each unique class. "
   ]
  },
  {
   "cell_type": "code",
   "execution_count": 47,
   "id": "35fc9da5",
   "metadata": {
    "scrolled": false
   },
   "outputs": [
    {
     "data": {
      "text/plain": [
       "<AxesSubplot:xlabel='Class', ylabel='count'>"
      ]
     },
     "execution_count": 47,
     "metadata": {},
     "output_type": "execute_result"
    },
    {
     "data": {
      "image/png": "[encoded data removed]",
      "text/plain": [
       "<Figure size 432x288 with 1 Axes>"
      ]
     },
     "metadata": {
      "needs_background": "light"
     },
     "output_type": "display_data"
    }
   ],
   "source": [
    "sns.countplot(x=df['Class'])\n",
    "\n"
   ]
  },
  {
   "cell_type": "markdown",
   "id": "5034a187",
   "metadata": {},
   "source": [
    "#### Study the x and y-axis in each subplot, then regenerate the following figure."
   ]
  },
  {
   "cell_type": "code",
   "execution_count": 48,
   "id": "20967f47",
   "metadata": {},
   "outputs": [
    {
     "data": {
      "text/plain": [
       "Index(['AREA', 'PERIMETER', 'MAJOR_AXIS', 'MINOR_AXIS', 'ECCENTRICITY',\n",
       "       'EQDIASQ', 'SOLIDITY', 'CONVEX_AREA', 'EXTENT', 'ASPECT_RATIO',\n",
       "       'ROUNDNESS', 'COMPACTNESS', 'SHAPEFACTOR_1', 'SHAPEFACTOR_2',\n",
       "       'SHAPEFACTOR_3', 'SHAPEFACTOR_4', 'MeanRR', 'MeanRG', 'MeanRB',\n",
       "       'StdDevRR', 'StdDevRG', 'StdDevRB', 'SkewRR', 'SkewRG', 'SkewRB',\n",
       "       'KurtosisRR', 'KurtosisRG', 'KurtosisRB', 'EntropyRR', 'EntropyRG',\n",
       "       'EntropyRB', 'ALLdaub4RR', 'ALLdaub4RG', 'ALLdaub4RB', 'Class'],\n",
       "      dtype='object')"
      ]
     },
     "execution_count": 48,
     "metadata": {},
     "output_type": "execute_result"
    }
   ],
   "source": [
    "# Show the exsiting column names\n",
    "df.columns"
   ]
  },
  {
   "cell_type": "code",
   "execution_count": 174,
   "id": "90a15fd7",
   "metadata": {},
   "outputs": [
    {
     "data": {
      "text/plain": [
       "Text(0, 0.5, 'Average of EXTENT')"
      ]
     },
     "execution_count": 174,
     "metadata": {},
     "output_type": "execute_result"
    },
    {
     "data": {
      "image/png": "[encoded data removed]",
      "text/plain": [
       "<Figure size 720x720 with 4 Axes>"
      ]
     },
     "metadata": {
      "needs_background": "light"
     },
     "output_type": "display_data"
    }
   ],
   "source": [
    "fig, axes = plt.subplots(nrows=2, ncols = 2, figsize = (10, 10))\n",
    "\n",
    "# The histogram on the upper left conner\n",
    "axes[0][0].hist(df['AREA'], bins = 30, color = 'b')\n",
    "axes[0][0].set_xlabel('AREA')\n",
    "axes[0][0].set_ylabel('Frequency')\n",
    "\n",
    "# Show the rest of the subplots\n",
    "axes[0][1].scatter(x=df['PERIMETER'], y=df['MAJOR_AXIS'], color = 'r')\n",
    "axes[0][1].set_xlabel('PERIMITER')\n",
    "axes[0][1].set_ylabel('MAJOR_AXIS')\n",
    "\n",
    "axes[1][0].pie(df['Class'].value_counts())\n",
    "axes[1][0].set_xlabel('%')\n",
    "axes[1][0].set_ylabel('Class')\n",
    "\n",
    "axes[1][1].bar(x=df['Class'], height=df['EXTENT'].mean(), color = 'g')\n",
    "axes[1][1].set_xlabel('Class')\n",
    "axes[1][1].set_ylabel('Average of EXTENT')\n",
    "\n"
   ]
  },
  {
   "cell_type": "markdown",
   "id": "cfc2e298",
   "metadata": {},
   "source": [
    "## Q4: Data Splitting and Scaling (10 Points)"
   ]
  },
  {
   "cell_type": "markdown",
   "id": "0996ce48",
   "metadata": {},
   "source": [
    "#### Prepare the X feature matrix and y label vector."
   ]
  },
  {
   "cell_type": "code",
   "execution_count": 50,
   "id": "9830ffbf",
   "metadata": {},
   "outputs": [],
   "source": [
    "X = df.drop('Class', axis=1)\n",
    "\n",
    "y = df['Class']\n"
   ]
  },
  {
   "cell_type": "markdown",
   "id": "a82d6c1e",
   "metadata": {},
   "source": [
    "#### Split the data using 80:20 split. Use random seed as 101."
   ]
  },
  {
   "cell_type": "code",
   "execution_count": 57,
   "id": "fe7f04d8",
   "metadata": {},
   "outputs": [],
   "source": [
    "from sklearn.model_selection import train_test_split"
   ]
  },
  {
   "cell_type": "code",
   "execution_count": 58,
   "id": "2c114c04",
   "metadata": {},
   "outputs": [],
   "source": [
    "X_train, X_test, y_train, y_test = train_test_split(X, y, test_size=.20, random_state=101)\n"
   ]
  },
  {
   "cell_type": "markdown",
   "id": "4f6fd355",
   "metadata": {},
   "source": [
    "#### Standardize the X_train and X_test so that they have zero mean and unit standard deviation. "
   ]
  },
  {
   "cell_type": "code",
   "execution_count": 59,
   "id": "7f10af4a",
   "metadata": {},
   "outputs": [],
   "source": [
    "from sklearn.preprocessing import StandardScaler"
   ]
  },
  {
   "cell_type": "code",
   "execution_count": 60,
   "id": "d5ab8e26",
   "metadata": {},
   "outputs": [],
   "source": [
    "scaler = StandardScaler()\n",
    "X_train = scaler.fit_transform(X_train)\n",
    "X_test = scaler.transform(X_test)\n",
    "\n",
    "\n"
   ]
  },
  {
   "cell_type": "code",
   "execution_count": 61,
   "id": "17b32a07",
   "metadata": {},
   "outputs": [
    {
     "name": "stdout",
     "output_type": "stream",
     "text": [
      "X_train:\n",
      " [[ 0.3895891   0.50460647  0.7653039   0.06886121  0.82943081  0.44538095\n",
      "   0.06074394  0.38781093 -1.1500177  -0.02866231 -0.33446916 -0.67954613\n",
      "  -0.04756124 -0.68208395 -0.75581611  0.3958629  -1.54021312 -1.39937391\n",
      "  -1.29663807 -1.56170204 -0.96931536 -1.68845372  1.43816503  1.72821536\n",
      "   0.88288696  1.10905047  1.75404855  0.77295717  1.16673098  1.06005942\n",
      "   0.89024064 -1.54032904 -1.39944107 -1.29682301]\n",
      " [-2.05579934 -2.46702624 -2.60598342 -1.98941811 -0.43840695 -2.40459485\n",
      "   0.35626917 -2.07000508  0.28707972 -0.04432337  0.54932935  0.58433366\n",
      "   0.04868234  3.83929083  0.60293188  0.34931139  0.25996829  0.28790824\n",
      "   0.21116302  0.35081135 -0.00527089  0.71155605 -0.4969096  -0.78534001\n",
      "  -0.64159598 -0.71593359 -0.72391782 -0.84546114  1.08905042  1.17265066\n",
      "   1.29948791  0.25991959  0.28791227  0.21120905]]\n",
      "X_test:\n",
      " [[ 1.15137268e+00  8.80163109e-01  5.03123412e-01  1.37101296e+00\n",
      "  -1.42475320e+00  1.06878240e+00  5.49703865e-01  1.11570861e+00\n",
      "  -8.95860124e-03 -5.10617983e-02  6.77780320e-01  1.28614020e+00\n",
      "  -7.38094907e-02 -6.82083954e-01  1.41566059e+00  4.42414409e-01\n",
      "   7.29819403e-01  7.10537525e-01  9.56735343e-01  6.84190107e-01\n",
      "   1.01352975e+00  2.54567544e-01 -3.83614344e-01 -8.02395598e-01\n",
      "  -6.17511016e-01 -6.62831639e-01 -7.38593046e-01 -5.18732382e-01\n",
      "  -1.78060991e+00 -1.88132588e+00 -2.08599642e+00  7.29526038e-01\n",
      "   7.10335765e-01  9.56363949e-01]\n",
      " [-1.47399755e+00 -1.53763638e+00 -1.56906060e+00 -1.32193984e+00\n",
      "   1.83126301e-01 -1.51335670e+00 -1.21944381e-01 -1.47737513e+00\n",
      "  -4.62384386e-01 -3.80971099e-02  1.08128196e-01  2.79895176e-04\n",
      "   4.93525570e-03  1.45961989e+00 -4.28409284e-02  1.07243530e-01\n",
      "  -3.02546576e-02 -1.46777209e-01 -3.03560654e-01  5.42119970e-02\n",
      "  -1.39763994e-01  1.03871381e-01 -6.20418286e-01 -6.93011157e-01\n",
      "  -5.44622319e-01 -6.36526830e-01 -7.50424442e-01 -7.29575455e-01\n",
      "   8.66008221e-01  9.77247825e-01  1.09325413e+00 -2.99207555e-02\n",
      "  -1.46214553e-01 -3.02709105e-01]]\n"
     ]
    }
   ],
   "source": [
    "# Display the standardized X for comparison\n",
    "print('X_train:\\n', X_train[:2])\n",
    "print('X_test:\\n', X_test[:2])"
   ]
  },
  {
   "cell_type": "markdown",
   "id": "2170f9ce",
   "metadata": {},
   "source": [
    "## Q5: Balancing the Data (10 Points)"
   ]
  },
  {
   "cell_type": "markdown",
   "id": "7a3d5da1",
   "metadata": {},
   "source": [
    "#### As found from Q3, the labels in the dataset are not balanced. We need to resample the training set (`X_train` and `y_train`) but keep the testing set unchanged. "
   ]
  },
  {
   "cell_type": "code",
   "execution_count": 63,
   "id": "9247bcdb",
   "metadata": {},
   "outputs": [],
   "source": [
    "# Use Sklearn's resampe() function\n",
    "from sklearn.utils import resample"
   ]
  },
  {
   "cell_type": "markdown",
   "id": "69825228",
   "metadata": {},
   "source": [
    "#### Recreate a DataFrame just for the training set by combining `X_train` and `y_train`."
   ]
  },
  {
   "cell_type": "code",
   "execution_count": 64,
   "id": "9547cd87",
   "metadata": {},
   "outputs": [
    {
     "data": {
      "text/html": [
       "<div>\n",
       "<style scoped>\n",
       "    .dataframe tbody tr th:only-of-type {\n",
       "        vertical-align: middle;\n",
       "    }\n",
       "\n",
       "    .dataframe tbody tr th {\n",
       "        vertical-align: top;\n",
       "    }\n",
       "\n",
       "    .dataframe thead th {\n",
       "        text-align: right;\n",
       "    }\n",
       "</style>\n",
       "<table border=\"1\" class=\"dataframe\">\n",
       "  <thead>\n",
       "    <tr style=\"text-align: right;\">\n",
       "      <th></th>\n",
       "      <th>AREA</th>\n",
       "      <th>PERIMETER</th>\n",
       "      <th>MAJOR_AXIS</th>\n",
       "      <th>MINOR_AXIS</th>\n",
       "      <th>ECCENTRICITY</th>\n",
       "      <th>EQDIASQ</th>\n",
       "      <th>SOLIDITY</th>\n",
       "      <th>CONVEX_AREA</th>\n",
       "      <th>EXTENT</th>\n",
       "      <th>ASPECT_RATIO</th>\n",
       "      <th>...</th>\n",
       "      <th>KurtosisRR</th>\n",
       "      <th>KurtosisRG</th>\n",
       "      <th>KurtosisRB</th>\n",
       "      <th>EntropyRR</th>\n",
       "      <th>EntropyRG</th>\n",
       "      <th>EntropyRB</th>\n",
       "      <th>ALLdaub4RR</th>\n",
       "      <th>ALLdaub4RG</th>\n",
       "      <th>ALLdaub4RB</th>\n",
       "      <th>Class</th>\n",
       "    </tr>\n",
       "  </thead>\n",
       "  <tbody>\n",
       "    <tr>\n",
       "      <th>0</th>\n",
       "      <td>0.389589</td>\n",
       "      <td>0.504606</td>\n",
       "      <td>0.765304</td>\n",
       "      <td>0.068861</td>\n",
       "      <td>0.829431</td>\n",
       "      <td>0.445381</td>\n",
       "      <td>0.060744</td>\n",
       "      <td>0.387811</td>\n",
       "      <td>-1.150018</td>\n",
       "      <td>-0.028662</td>\n",
       "      <td>...</td>\n",
       "      <td>1.109050</td>\n",
       "      <td>1.754049</td>\n",
       "      <td>0.772957</td>\n",
       "      <td>1.166731</td>\n",
       "      <td>1.060059</td>\n",
       "      <td>0.890241</td>\n",
       "      <td>-1.540329</td>\n",
       "      <td>-1.399441</td>\n",
       "      <td>-1.296823</td>\n",
       "      <td>5</td>\n",
       "    </tr>\n",
       "    <tr>\n",
       "      <th>1</th>\n",
       "      <td>-2.055799</td>\n",
       "      <td>-2.467026</td>\n",
       "      <td>-2.605983</td>\n",
       "      <td>-1.989418</td>\n",
       "      <td>-0.438407</td>\n",
       "      <td>-2.404595</td>\n",
       "      <td>0.356269</td>\n",
       "      <td>-2.070005</td>\n",
       "      <td>0.287080</td>\n",
       "      <td>-0.044323</td>\n",
       "      <td>...</td>\n",
       "      <td>-0.715934</td>\n",
       "      <td>-0.723918</td>\n",
       "      <td>-0.845461</td>\n",
       "      <td>1.089050</td>\n",
       "      <td>1.172651</td>\n",
       "      <td>1.299488</td>\n",
       "      <td>0.259920</td>\n",
       "      <td>0.287912</td>\n",
       "      <td>0.211209</td>\n",
       "      <td>2</td>\n",
       "    </tr>\n",
       "    <tr>\n",
       "      <th>2</th>\n",
       "      <td>-0.281998</td>\n",
       "      <td>-0.112017</td>\n",
       "      <td>0.136681</td>\n",
       "      <td>-0.449341</td>\n",
       "      <td>0.893611</td>\n",
       "      <td>-0.169495</td>\n",
       "      <td>0.114476</td>\n",
       "      <td>-0.288565</td>\n",
       "      <td>1.296983</td>\n",
       "      <td>-0.027482</td>\n",
       "      <td>...</td>\n",
       "      <td>-0.441316</td>\n",
       "      <td>-0.677531</td>\n",
       "      <td>-0.588135</td>\n",
       "      <td>-0.649276</td>\n",
       "      <td>-0.681421</td>\n",
       "      <td>-0.263926</td>\n",
       "      <td>0.819937</td>\n",
       "      <td>0.814932</td>\n",
       "      <td>0.497335</td>\n",
       "      <td>1</td>\n",
       "    </tr>\n",
       "    <tr>\n",
       "      <th>3</th>\n",
       "      <td>-1.417057</td>\n",
       "      <td>-1.476288</td>\n",
       "      <td>-1.418945</td>\n",
       "      <td>-1.324216</td>\n",
       "      <td>0.434217</td>\n",
       "      <td>-1.437849</td>\n",
       "      <td>0.544331</td>\n",
       "      <td>-1.437508</td>\n",
       "      <td>-0.704087</td>\n",
       "      <td>-0.034904</td>\n",
       "      <td>...</td>\n",
       "      <td>-0.390746</td>\n",
       "      <td>-0.725903</td>\n",
       "      <td>-0.903189</td>\n",
       "      <td>0.063396</td>\n",
       "      <td>-0.151798</td>\n",
       "      <td>0.428956</td>\n",
       "      <td>1.221501</td>\n",
       "      <td>1.625871</td>\n",
       "      <td>1.026743</td>\n",
       "      <td>2</td>\n",
       "    </tr>\n",
       "    <tr>\n",
       "      <th>4</th>\n",
       "      <td>0.708620</td>\n",
       "      <td>0.842494</td>\n",
       "      <td>1.299250</td>\n",
       "      <td>0.106151</td>\n",
       "      <td>1.162717</td>\n",
       "      <td>0.714634</td>\n",
       "      <td>0.189700</td>\n",
       "      <td>0.699419</td>\n",
       "      <td>0.584992</td>\n",
       "      <td>-0.021798</td>\n",
       "      <td>...</td>\n",
       "      <td>0.575464</td>\n",
       "      <td>1.680082</td>\n",
       "      <td>0.596062</td>\n",
       "      <td>1.057083</td>\n",
       "      <td>0.975048</td>\n",
       "      <td>0.819711</td>\n",
       "      <td>-1.442371</td>\n",
       "      <td>-1.369341</td>\n",
       "      <td>-1.352022</td>\n",
       "      <td>5</td>\n",
       "    </tr>\n",
       "  </tbody>\n",
       "</table>\n",
       "<p>5 rows × 35 columns</p>\n",
       "</div>"
      ],
      "text/plain": [
       "       AREA  PERIMETER  MAJOR_AXIS  MINOR_AXIS  ECCENTRICITY   EQDIASQ  \\\n",
       "0  0.389589   0.504606    0.765304    0.068861      0.829431  0.445381   \n",
       "1 -2.055799  -2.467026   -2.605983   -1.989418     -0.438407 -2.404595   \n",
       "2 -0.281998  -0.112017    0.136681   -0.449341      0.893611 -0.169495   \n",
       "3 -1.417057  -1.476288   -1.418945   -1.324216      0.434217 -1.437849   \n",
       "4  0.708620   0.842494    1.299250    0.106151      1.162717  0.714634   \n",
       "\n",
       "   SOLIDITY  CONVEX_AREA    EXTENT  ASPECT_RATIO  ...  KurtosisRR  KurtosisRG  \\\n",
       "0  0.060744     0.387811 -1.150018     -0.028662  ...    1.109050    1.754049   \n",
       "1  0.356269    -2.070005  0.287080     -0.044323  ...   -0.715934   -0.723918   \n",
       "2  0.114476    -0.288565  1.296983     -0.027482  ...   -0.441316   -0.677531   \n",
       "3  0.544331    -1.437508 -0.704087     -0.034904  ...   -0.390746   -0.725903   \n",
       "4  0.189700     0.699419  0.584992     -0.021798  ...    0.575464    1.680082   \n",
       "\n",
       "   KurtosisRB  EntropyRR  EntropyRG  EntropyRB  ALLdaub4RR  ALLdaub4RG  \\\n",
       "0    0.772957   1.166731   1.060059   0.890241   -1.540329   -1.399441   \n",
       "1   -0.845461   1.089050   1.172651   1.299488    0.259920    0.287912   \n",
       "2   -0.588135  -0.649276  -0.681421  -0.263926    0.819937    0.814932   \n",
       "3   -0.903189   0.063396  -0.151798   0.428956    1.221501    1.625871   \n",
       "4    0.596062   1.057083   0.975048   0.819711   -1.442371   -1.369341   \n",
       "\n",
       "   ALLdaub4RB  Class  \n",
       "0   -1.296823      5  \n",
       "1    0.211209      2  \n",
       "2    0.497335      1  \n",
       "3    1.026743      2  \n",
       "4   -1.352022      5  \n",
       "\n",
       "[5 rows x 35 columns]"
      ]
     },
     "execution_count": 64,
     "metadata": {},
     "output_type": "execute_result"
    }
   ],
   "source": [
    "# Run the following code\n",
    "df_train = pd.DataFrame(data = X_train, columns = df.columns[:-1])\n",
    "df_train['Class'] = y_train.values\n",
    "df_train.head()"
   ]
  },
  {
   "cell_type": "markdown",
   "id": "12f9e7d1",
   "metadata": {},
   "source": [
    "#### Using the given for loop to generate a new sampled DataFrame named `df_train_resampled`. \n",
    "Hint: to debug your program and isolate errors, work on a single line of code at a time, and use print() to display the result right away. "
   ]
  },
  {
   "cell_type": "code",
   "execution_count": 71,
   "id": "36f5a808",
   "metadata": {},
   "outputs": [],
   "source": [
    "# An empty DataFrame to be grown\n",
    "df_train_resampled = pd.DataFrame()\n",
    "\n",
    "# Use a for loop to resample for each Class\n",
    "for class_i in df_train['Class'].unique():   \n",
    "    # Use boolean selection to select the subset that \n",
    "    # has the given class number class_i\n",
    "    df_i = df_train[df_train['Class']==class_i]\n",
    "    \n",
    "    \n",
    "    # Resample this subset DataFrame to have \n",
    "    # exactly 100 records. Set replace argument to True.\n",
    "    # Use randome seed as 101. \n",
    "    df_i_resampled = resample(df_i, n_samples=100, random_state=101)\n",
    "    \n",
    "    \n",
    "    # Concatenate df_i_resampled with df_train_resampled to \n",
    "    # grow X_train_resampled\n",
    "    df_train_resampled = pd.concat([df_train_resampled, df_i_resampled])\n",
    "    \n",
    "    "
   ]
  },
  {
   "cell_type": "code",
   "execution_count": 72,
   "id": "e9a543ff",
   "metadata": {},
   "outputs": [
    {
     "data": {
      "text/plain": [
       "5    100\n",
       "2    100\n",
       "1    100\n",
       "6    100\n",
       "4    100\n",
       "0    100\n",
       "3    100\n",
       "Name: Class, dtype: int64"
      ]
     },
     "execution_count": 72,
     "metadata": {},
     "output_type": "execute_result"
    }
   ],
   "source": [
    "# Ensure the new DataFrame has balanced classes.\n",
    "df_train_resampled['Class'].value_counts()"
   ]
  },
  {
   "cell_type": "markdown",
   "id": "00f6e844",
   "metadata": {},
   "source": [
    "#### Split the `df_train_resampled` DataFrame into the feature matrix and label vector. "
   ]
  },
  {
   "cell_type": "code",
   "execution_count": 74,
   "id": "b88d6fb0",
   "metadata": {},
   "outputs": [],
   "source": [
    "X_train_resampled = df_train_resampled.drop('Class', axis=1)\n",
    "\n",
    "y_train_resampled = df_train_resampled['Class']\n"
   ]
  },
  {
   "cell_type": "code",
   "execution_count": 75,
   "id": "46cd3afa",
   "metadata": {},
   "outputs": [
    {
     "data": {
      "text/plain": [
       "(700, 34)"
      ]
     },
     "execution_count": 75,
     "metadata": {},
     "output_type": "execute_result"
    }
   ],
   "source": [
    "X_train_resampled.shape"
   ]
  },
  {
   "cell_type": "code",
   "execution_count": 76,
   "id": "0122d86e",
   "metadata": {},
   "outputs": [
    {
     "data": {
      "text/plain": [
       "(700,)"
      ]
     },
     "execution_count": 76,
     "metadata": {},
     "output_type": "execute_result"
    }
   ],
   "source": [
    "y_train_resampled.shape"
   ]
  },
  {
   "cell_type": "markdown",
   "id": "6499b7d9",
   "metadata": {},
   "source": [
    "<span style=\"color:red\">Important Note: for the rest of the notebook, use `X_train_resampled` and `y_train_resampled` as the training set. Otherwise, the models may not yield the desired results. </span>"
   ]
  },
  {
   "cell_type": "markdown",
   "id": "c52d2ccd",
   "metadata": {},
   "source": [
    "## Q6: Baseline Modeling (10 Points)"
   ]
  },
  {
   "cell_type": "markdown",
   "id": "c8b9b4e3",
   "metadata": {},
   "source": [
    "#### Use a Gaussian Naive Bayes model as a baseline design. Use the default arguments for the model. "
   ]
  },
  {
   "cell_type": "code",
   "execution_count": 77,
   "id": "acd79ca1",
   "metadata": {},
   "outputs": [],
   "source": [
    "# Import the model class\n",
    "from sklearn.naive_bayes import GaussianNB"
   ]
  },
  {
   "cell_type": "code",
   "execution_count": 78,
   "id": "afd9b41f",
   "metadata": {},
   "outputs": [
    {
     "name": "stderr",
     "output_type": "stream",
     "text": [
      "C:\\Users\\augus\\anaconda3\\lib\\site-packages\\sklearn\\base.py:450: UserWarning: X does not have valid feature names, but GaussianNB was fitted with feature names\n",
      "  warnings.warn(\n"
     ]
    }
   ],
   "source": [
    "# Create a model estimator object\n",
    "nb = GaussianNB()\n",
    "\n",
    "\n",
    "# Train the model\n",
    "nb.fit(X_train_resampled,y_train_resampled)\n",
    "\n",
    "\n",
    "# Make a prediction\n",
    "y_pred = nb.predict(X_test)\n"
   ]
  },
  {
   "cell_type": "code",
   "execution_count": 80,
   "id": "e1678ba8",
   "metadata": {},
   "outputs": [],
   "source": [
    "# Import the necessary metrics for model evaluation\n",
    "from sklearn.metrics import confusion_matrix, classification_report\n"
   ]
  },
  {
   "cell_type": "code",
   "execution_count": 81,
   "id": "64928ad6",
   "metadata": {},
   "outputs": [
    {
     "name": "stdout",
     "output_type": "stream",
     "text": [
      "[[10  0  0  3  1  0  0]\n",
      " [ 0 17  4  0  0  0  3]\n",
      " [ 0  1 40  0  0  0  0]\n",
      " [ 0  0  0 14  0  0  0]\n",
      " [ 0  0  0  0 26  0  0]\n",
      " [ 0  0  0  0  0 37  0]\n",
      " [ 0  6  0  0  0  0 18]]\n",
      "              precision    recall  f1-score   support\n",
      "\n",
      "           0       1.00      0.71      0.83        14\n",
      "           1       0.71      0.71      0.71        24\n",
      "           2       0.91      0.98      0.94        41\n",
      "           3       0.82      1.00      0.90        14\n",
      "           4       0.96      1.00      0.98        26\n",
      "           5       1.00      1.00      1.00        37\n",
      "           6       0.86      0.75      0.80        24\n",
      "\n",
      "    accuracy                           0.90       180\n",
      "   macro avg       0.89      0.88      0.88       180\n",
      "weighted avg       0.90      0.90      0.90       180\n",
      "\n"
     ]
    }
   ],
   "source": [
    "# Generate confusion matrix and classification report\n",
    "print(confusion_matrix(y_test, y_pred))\n",
    "print(classification_report(y_test, y_pred))"
   ]
  },
  {
   "cell_type": "markdown",
   "id": "a472a4b3",
   "metadata": {},
   "source": [
    "## Q7: Dimensionality Reduction (10 Points)"
   ]
  },
  {
   "cell_type": "markdown",
   "id": "e9c52ff6",
   "metadata": {},
   "source": [
    "#### Let's generate a Scree Plot to see how much does each principal component contribute to the variance. "
   ]
  },
  {
   "cell_type": "code",
   "execution_count": 82,
   "id": "3e57e5b7",
   "metadata": {},
   "outputs": [],
   "source": [
    "# Import PCA class\n",
    "from sklearn.decomposition import PCA"
   ]
  },
  {
   "cell_type": "markdown",
   "id": "4fb7361f",
   "metadata": {},
   "source": [
    "#### Create the first PCA transformer object that uses `n_component` as the same number of the training features. Train the PCA object, and use the trained object to transform `X_train_resampled`."
   ]
  },
  {
   "cell_type": "code",
   "execution_count": 83,
   "id": "da2a61b2",
   "metadata": {},
   "outputs": [],
   "source": [
    "pca = PCA(n_components=34)\n",
    "pca.fit(X_train_resampled)\n",
    "X_train_pca = pca.transform(X_train_resampled)\n"
   ]
  },
  {
   "cell_type": "code",
   "execution_count": 84,
   "id": "f46bc12c",
   "metadata": {},
   "outputs": [
    {
     "name": "stdout",
     "output_type": "stream",
     "text": [
      "X training set shape using the PCs as basis: (700, 34)\n"
     ]
    }
   ],
   "source": [
    "# Print the size of the PCA transformed X train.  \n",
    "print('X training set shape using the PCs as basis:', X_train_pca.shape)"
   ]
  },
  {
   "cell_type": "markdown",
   "id": "879572ea",
   "metadata": {},
   "source": [
    "#### Generate a DataFrame for the Scree Plot using the code below. "
   ]
  },
  {
   "cell_type": "code",
   "execution_count": 87,
   "id": "4063c71d",
   "metadata": {},
   "outputs": [
    {
     "data": {
      "text/html": [
       "<div>\n",
       "<style scoped>\n",
       "    .dataframe tbody tr th:only-of-type {\n",
       "        vertical-align: middle;\n",
       "    }\n",
       "\n",
       "    .dataframe tbody tr th {\n",
       "        vertical-align: top;\n",
       "    }\n",
       "\n",
       "    .dataframe thead th {\n",
       "        text-align: right;\n",
       "    }\n",
       "</style>\n",
       "<table border=\"1\" class=\"dataframe\">\n",
       "  <thead>\n",
       "    <tr style=\"text-align: right;\">\n",
       "      <th></th>\n",
       "      <th>Explained Variance Ratio</th>\n",
       "    </tr>\n",
       "  </thead>\n",
       "  <tbody>\n",
       "    <tr>\n",
       "      <th>PC1</th>\n",
       "      <td>3.625340e-01</td>\n",
       "    </tr>\n",
       "    <tr>\n",
       "      <th>PC2</th>\n",
       "      <td>2.424764e-01</td>\n",
       "    </tr>\n",
       "    <tr>\n",
       "      <th>PC3</th>\n",
       "      <td>1.239189e-01</td>\n",
       "    </tr>\n",
       "    <tr>\n",
       "      <th>PC4</th>\n",
       "      <td>7.249711e-02</td>\n",
       "    </tr>\n",
       "    <tr>\n",
       "      <th>PC5</th>\n",
       "      <td>5.700017e-02</td>\n",
       "    </tr>\n",
       "    <tr>\n",
       "      <th>PC6</th>\n",
       "      <td>3.909845e-02</td>\n",
       "    </tr>\n",
       "    <tr>\n",
       "      <th>PC7</th>\n",
       "      <td>2.890564e-02</td>\n",
       "    </tr>\n",
       "    <tr>\n",
       "      <th>PC8</th>\n",
       "      <td>1.894293e-02</td>\n",
       "    </tr>\n",
       "    <tr>\n",
       "      <th>PC9</th>\n",
       "      <td>1.622758e-02</td>\n",
       "    </tr>\n",
       "    <tr>\n",
       "      <th>PC10</th>\n",
       "      <td>8.273369e-03</td>\n",
       "    </tr>\n",
       "    <tr>\n",
       "      <th>PC11</th>\n",
       "      <td>6.396815e-03</td>\n",
       "    </tr>\n",
       "    <tr>\n",
       "      <th>PC12</th>\n",
       "      <td>4.642956e-03</td>\n",
       "    </tr>\n",
       "    <tr>\n",
       "      <th>PC13</th>\n",
       "      <td>4.579169e-03</td>\n",
       "    </tr>\n",
       "    <tr>\n",
       "      <th>PC14</th>\n",
       "      <td>3.532639e-03</td>\n",
       "    </tr>\n",
       "    <tr>\n",
       "      <th>PC15</th>\n",
       "      <td>2.392978e-03</td>\n",
       "    </tr>\n",
       "    <tr>\n",
       "      <th>PC16</th>\n",
       "      <td>2.058785e-03</td>\n",
       "    </tr>\n",
       "    <tr>\n",
       "      <th>PC17</th>\n",
       "      <td>1.636413e-03</td>\n",
       "    </tr>\n",
       "    <tr>\n",
       "      <th>PC18</th>\n",
       "      <td>1.490242e-03</td>\n",
       "    </tr>\n",
       "    <tr>\n",
       "      <th>PC19</th>\n",
       "      <td>1.317789e-03</td>\n",
       "    </tr>\n",
       "    <tr>\n",
       "      <th>PC20</th>\n",
       "      <td>7.837634e-04</td>\n",
       "    </tr>\n",
       "    <tr>\n",
       "      <th>PC21</th>\n",
       "      <td>5.902257e-04</td>\n",
       "    </tr>\n",
       "    <tr>\n",
       "      <th>PC22</th>\n",
       "      <td>3.886716e-04</td>\n",
       "    </tr>\n",
       "    <tr>\n",
       "      <th>PC23</th>\n",
       "      <td>1.442125e-04</td>\n",
       "    </tr>\n",
       "    <tr>\n",
       "      <th>PC24</th>\n",
       "      <td>1.003600e-04</td>\n",
       "    </tr>\n",
       "    <tr>\n",
       "      <th>PC25</th>\n",
       "      <td>3.888195e-05</td>\n",
       "    </tr>\n",
       "    <tr>\n",
       "      <th>PC26</th>\n",
       "      <td>1.794595e-05</td>\n",
       "    </tr>\n",
       "    <tr>\n",
       "      <th>PC27</th>\n",
       "      <td>9.762171e-06</td>\n",
       "    </tr>\n",
       "    <tr>\n",
       "      <th>PC28</th>\n",
       "      <td>2.615007e-06</td>\n",
       "    </tr>\n",
       "    <tr>\n",
       "      <th>PC29</th>\n",
       "      <td>1.004362e-06</td>\n",
       "    </tr>\n",
       "    <tr>\n",
       "      <th>PC30</th>\n",
       "      <td>2.327882e-07</td>\n",
       "    </tr>\n",
       "    <tr>\n",
       "      <th>PC31</th>\n",
       "      <td>4.254894e-08</td>\n",
       "    </tr>\n",
       "    <tr>\n",
       "      <th>PC32</th>\n",
       "      <td>1.280339e-09</td>\n",
       "    </tr>\n",
       "    <tr>\n",
       "      <th>PC33</th>\n",
       "      <td>1.146667e-10</td>\n",
       "    </tr>\n",
       "    <tr>\n",
       "      <th>PC34</th>\n",
       "      <td>4.503185e-11</td>\n",
       "    </tr>\n",
       "  </tbody>\n",
       "</table>\n",
       "</div>"
      ],
      "text/plain": [
       "      Explained Variance Ratio\n",
       "PC1               3.625340e-01\n",
       "PC2               2.424764e-01\n",
       "PC3               1.239189e-01\n",
       "PC4               7.249711e-02\n",
       "PC5               5.700017e-02\n",
       "PC6               3.909845e-02\n",
       "PC7               2.890564e-02\n",
       "PC8               1.894293e-02\n",
       "PC9               1.622758e-02\n",
       "PC10              8.273369e-03\n",
       "PC11              6.396815e-03\n",
       "PC12              4.642956e-03\n",
       "PC13              4.579169e-03\n",
       "PC14              3.532639e-03\n",
       "PC15              2.392978e-03\n",
       "PC16              2.058785e-03\n",
       "PC17              1.636413e-03\n",
       "PC18              1.490242e-03\n",
       "PC19              1.317789e-03\n",
       "PC20              7.837634e-04\n",
       "PC21              5.902257e-04\n",
       "PC22              3.886716e-04\n",
       "PC23              1.442125e-04\n",
       "PC24              1.003600e-04\n",
       "PC25              3.888195e-05\n",
       "PC26              1.794595e-05\n",
       "PC27              9.762171e-06\n",
       "PC28              2.615007e-06\n",
       "PC29              1.004362e-06\n",
       "PC30              2.327882e-07\n",
       "PC31              4.254894e-08\n",
       "PC32              1.280339e-09\n",
       "PC33              1.146667e-10\n",
       "PC34              4.503185e-11"
      ]
     },
     "execution_count": 87,
     "metadata": {},
     "output_type": "execute_result"
    }
   ],
   "source": [
    "# Supply for the data arugment below \n",
    "\n",
    "df_scree = pd.DataFrame(data =pca.explained_variance_ratio_, \n",
    "                        columns = ['Explained Variance Ratio'],\n",
    "                        index = ['PC{}'.format(i) for i in range(1, 35)])\n",
    "df_scree"
   ]
  },
  {
   "cell_type": "markdown",
   "id": "dbc5a825",
   "metadata": {},
   "source": [
    "#### Generate a Scree Plot for all the PCs using a bar plot. "
   ]
  },
  {
   "cell_type": "code",
   "execution_count": 91,
   "id": "58e300c0",
   "metadata": {
    "scrolled": true
   },
   "outputs": [
    {
     "data": {
      "text/plain": [
       "Text(0.5, 1.0, 'Scree Plot')"
      ]
     },
     "execution_count": 91,
     "metadata": {},
     "output_type": "execute_result"
    },
    {
     "data": {
      "image/png": "[encoded data removed]",
      "text/plain": [
       "<Figure size 1080x360 with 1 Axes>"
      ]
     },
     "metadata": {
      "needs_background": "light"
     },
     "output_type": "display_data"
    }
   ],
   "source": [
    "plt.figure(figsize = (15, 5))\n",
    "\n",
    "# Generate the bar plot\n",
    "plt.bar(df_scree.index, df_scree['Explained Variance Ratio'])\n",
    "\n",
    "\n",
    "plt.xlabel('Principal Components')\n",
    "plt.ylabel('Explained Variance Ratio')\n",
    "plt.title('Scree Plot')"
   ]
  },
  {
   "cell_type": "markdown",
   "id": "b991b3db",
   "metadata": {},
   "source": [
    "## Q8: Dataset Visualization using PCA (10 Points)"
   ]
  },
  {
   "cell_type": "markdown",
   "id": "f0954c19",
   "metadata": {},
   "source": [
    "#### This time, train a new PCA transformer `pca2` that uses only two principal components. "
   ]
  },
  {
   "cell_type": "code",
   "execution_count": 92,
   "id": "93fea824",
   "metadata": {},
   "outputs": [],
   "source": [
    "pca2 = PCA(n_components=2)\n",
    "pca2.fit(X_train_resampled)\n",
    "X_train_pca = pca2.transform(X_train_resampled)\n"
   ]
  },
  {
   "cell_type": "code",
   "execution_count": 93,
   "id": "316f6b93",
   "metadata": {},
   "outputs": [
    {
     "name": "stdout",
     "output_type": "stream",
     "text": [
      "X training set shape using the PCs as basis: (700, 2)\n"
     ]
    }
   ],
   "source": [
    "print('X training set shape using the PCs as basis:', X_train_pca.shape)"
   ]
  },
  {
   "cell_type": "markdown",
   "id": "1631f375",
   "metadata": {},
   "source": [
    "#### Use the first two principal components to generate a new DataFrame `df_train_pca` shown as below. \n",
    "Hint: similar to the second cell from Q5. "
   ]
  },
  {
   "cell_type": "code",
   "execution_count": 106,
   "id": "8a4f3cac",
   "metadata": {},
   "outputs": [
    {
     "data": {
      "text/plain": [
       "(700, 2)"
      ]
     },
     "execution_count": 106,
     "metadata": {},
     "output_type": "execute_result"
    }
   ],
   "source": [
    "X_train_pca.shape"
   ]
  },
  {
   "cell_type": "code",
   "execution_count": 114,
   "id": "00378dd4",
   "metadata": {},
   "outputs": [
    {
     "data": {
      "text/html": [
       "<div>\n",
       "<style scoped>\n",
       "    .dataframe tbody tr th:only-of-type {\n",
       "        vertical-align: middle;\n",
       "    }\n",
       "\n",
       "    .dataframe tbody tr th {\n",
       "        vertical-align: top;\n",
       "    }\n",
       "\n",
       "    .dataframe thead th {\n",
       "        text-align: right;\n",
       "    }\n",
       "</style>\n",
       "<table border=\"1\" class=\"dataframe\">\n",
       "  <thead>\n",
       "    <tr style=\"text-align: right;\">\n",
       "      <th></th>\n",
       "      <th>PC1</th>\n",
       "      <th>PC2</th>\n",
       "      <th>Class</th>\n",
       "    </tr>\n",
       "  </thead>\n",
       "  <tbody>\n",
       "    <tr>\n",
       "      <th>0</th>\n",
       "      <td>-3.315872</td>\n",
       "      <td>3.654079</td>\n",
       "      <td>5</td>\n",
       "    </tr>\n",
       "    <tr>\n",
       "      <th>1</th>\n",
       "      <td>-3.401482</td>\n",
       "      <td>3.423818</td>\n",
       "      <td>5</td>\n",
       "    </tr>\n",
       "    <tr>\n",
       "      <th>2</th>\n",
       "      <td>-4.438347</td>\n",
       "      <td>3.703402</td>\n",
       "      <td>5</td>\n",
       "    </tr>\n",
       "    <tr>\n",
       "      <th>3</th>\n",
       "      <td>-3.500522</td>\n",
       "      <td>2.997379</td>\n",
       "      <td>5</td>\n",
       "    </tr>\n",
       "    <tr>\n",
       "      <th>4</th>\n",
       "      <td>-3.316585</td>\n",
       "      <td>3.636298</td>\n",
       "      <td>5</td>\n",
       "    </tr>\n",
       "    <tr>\n",
       "      <th>...</th>\n",
       "      <td>...</td>\n",
       "      <td>...</td>\n",
       "      <td>...</td>\n",
       "    </tr>\n",
       "    <tr>\n",
       "      <th>695</th>\n",
       "      <td>-5.540722</td>\n",
       "      <td>-0.345242</td>\n",
       "      <td>3</td>\n",
       "    </tr>\n",
       "    <tr>\n",
       "      <th>696</th>\n",
       "      <td>-7.080566</td>\n",
       "      <td>-0.671291</td>\n",
       "      <td>3</td>\n",
       "    </tr>\n",
       "    <tr>\n",
       "      <th>697</th>\n",
       "      <td>-5.992646</td>\n",
       "      <td>-3.103835</td>\n",
       "      <td>3</td>\n",
       "    </tr>\n",
       "    <tr>\n",
       "      <th>698</th>\n",
       "      <td>-3.823135</td>\n",
       "      <td>-2.270163</td>\n",
       "      <td>3</td>\n",
       "    </tr>\n",
       "    <tr>\n",
       "      <th>699</th>\n",
       "      <td>-6.224278</td>\n",
       "      <td>-1.242211</td>\n",
       "      <td>3</td>\n",
       "    </tr>\n",
       "  </tbody>\n",
       "</table>\n",
       "<p>700 rows × 3 columns</p>\n",
       "</div>"
      ],
      "text/plain": [
       "          PC1       PC2  Class\n",
       "0   -3.315872  3.654079      5\n",
       "1   -3.401482  3.423818      5\n",
       "2   -4.438347  3.703402      5\n",
       "3   -3.500522  2.997379      5\n",
       "4   -3.316585  3.636298      5\n",
       "..        ...       ...    ...\n",
       "695 -5.540722 -0.345242      3\n",
       "696 -7.080566 -0.671291      3\n",
       "697 -5.992646 -3.103835      3\n",
       "698 -3.823135 -2.270163      3\n",
       "699 -6.224278 -1.242211      3\n",
       "\n",
       "[700 rows x 3 columns]"
      ]
     },
     "execution_count": 114,
     "metadata": {},
     "output_type": "execute_result"
    }
   ],
   "source": [
    "# Create df_train_pca with PC1 and PC2\n",
    "df_train_pca = pd.DataFrame(data=X_train_pca, columns=['PC1', 'PC2'])\n",
    "\n",
    "\n",
    "# Add in the Class column\n",
    "df_train_pca['Class'] = y_train_resampled.to_list()\n",
    "\n",
    "\n",
    "df_train_pca"
   ]
  },
  {
   "cell_type": "markdown",
   "id": "6bdc1961",
   "metadata": {},
   "source": [
    "#### Plot the new dataset `df_train_pca` on the new basis. Use column `Class` to color-code. "
   ]
  },
  {
   "cell_type": "code",
   "execution_count": 134,
   "id": "fbf6b68e",
   "metadata": {},
   "outputs": [
    {
     "data": {
      "text/plain": [
       "Text(0.5, 1.0, 'PCA of IRIS dataset')"
      ]
     },
     "execution_count": 134,
     "metadata": {},
     "output_type": "execute_result"
    },
    {
     "data": {
      "image/png": "[encoded data removed]",
      "text/plain": [
       "<Figure size 432x288 with 1 Axes>"
      ]
     },
     "metadata": {
      "needs_background": "light"
     },
     "output_type": "display_data"
    }
   ],
   "source": [
    "plt.figure()\n",
    "t = y_train_resampled.to_list()\n",
    "target_names = df_train_pca['Class'].unique().tolist()\n",
    "for i, target_name in zip([0, 1, 2, 3, 4, 5, 6], target_names):\n",
    "    plt.scatter(\n",
    "        X_train_pca[i, 0], X_train_pca[i, 1], cmap='Qualitative' ,alpha=0.8, lw=2, label=target_name\n",
    "    )\n",
    "plt.legend(loc=\"best\", shadow=False, scatterpoints=1)\n",
    "plt.title(\"PCA of IRIS dataset\")"
   ]
  },
  {
   "cell_type": "markdown",
   "id": "0e646558",
   "metadata": {},
   "source": [
    "## Q9: Neural Networks (20 Points)"
   ]
  },
  {
   "cell_type": "markdown",
   "id": "ccdd2e6b",
   "metadata": {},
   "source": [
    "#### In this question, the goal is to use a Multilayer Perceptron (MLP) model to refine the model accuracy. To receive full credits, the model testing F1 score in the classification report has to be no less than the baseline Naive Bayes model. A line chart to show the training and validation accuracy over 50 epochs has to be displayed. \n",
    "\n",
    "#### The suggested MLP settings are:\n",
    "+ Use at least 3 dense hidden layers, each layer with exactly 80 neurons. \n",
    "+ Carefully design the input and output layers to match with the given problem. \n",
    "+ In model optimization, use the Adam optimizer. Carefully choose the loss function. \n",
    "\n",
    "#### Some additional consideration needed:\n",
    "+ Convert `y_train_resampled` and `y_test` to one-hot encoding scheme, since y has to be one-hot encoded in multi-class classification for tensorflow.\n",
    "+ Use the testing set as the validation set during model training. \n",
    "+ Add new cells as needed."
   ]
  },
  {
   "cell_type": "code",
   "execution_count": 135,
   "id": "15cfdba3",
   "metadata": {},
   "outputs": [],
   "source": [
    "# Importing the tensorflow libraries and packages\n",
    "import tensorflow as tf\n",
    "from tensorflow import keras\n",
    "from tensorflow.keras import layers\n",
    "\n",
    "# Configure tensorflow to avoid potential warnings\n",
    "tf.config.run_functions_eagerly(True)\n",
    "tf.data.experimental.enable_debug_mode()\n",
    "\n",
    "# Define the random seeds\n",
    "from tensorflow.random import set_seed\n",
    "set_seed(101)"
   ]
  },
  {
   "cell_type": "code",
   "execution_count": 136,
   "id": "b896f975",
   "metadata": {},
   "outputs": [],
   "source": [
    "from sklearn.preprocessing import OneHotEncoder"
   ]
  },
  {
   "cell_type": "code",
   "execution_count": 198,
   "id": "2b102f02",
   "metadata": {},
   "outputs": [],
   "source": [
    "onehot = OneHotEncoder(drop='first')\n",
    "df_onehot = onehot.fit_transform(df_train_resampled[['Class']])\n",
    "df_onehot = pd.DataFrame(data=df_onehot.toarray(), columns=onehot.get_feature_names_out())"
   ]
  },
  {
   "cell_type": "code",
   "execution_count": 201,
   "id": "cead6726",
   "metadata": {},
   "outputs": [],
   "source": [
    "onehot_test = OneHotEncoder(drop='first')\n",
    "df_onehot_test = onehot_test.fit_transform(y_test.values.reshape(-1,1))\n",
    "df_onehot_test = pd.DataFrame(data=df_onehot_test.toarray(), columns=onehot_test.get_feature_names_out())"
   ]
  },
  {
   "cell_type": "code",
   "execution_count": 230,
   "id": "2d82b622",
   "metadata": {
    "scrolled": true
   },
   "outputs": [
    {
     "name": "stdout",
     "output_type": "stream",
     "text": [
      "Epoch 1/50\n",
      "22/22 [==============================] - 0s 18ms/step - loss: 0.5456 - accuracy: 0.3471 - val_loss: 0.3567 - val_accuracy: 0.4500\n",
      "Epoch 2/50\n",
      "22/22 [==============================] - 0s 15ms/step - loss: 0.2761 - accuracy: 0.5443 - val_loss: 0.1963 - val_accuracy: 0.6889\n",
      "Epoch 3/50\n",
      "22/22 [==============================] - 0s 16ms/step - loss: 0.1719 - accuracy: 0.6500 - val_loss: 0.1406 - val_accuracy: 0.8056\n",
      "Epoch 4/50\n",
      "22/22 [==============================] - 0s 17ms/step - loss: 0.1251 - accuracy: 0.7514 - val_loss: 0.1166 - val_accuracy: 0.8167\n",
      "Epoch 5/50\n",
      "22/22 [==============================] - 0s 17ms/step - loss: 0.1005 - accuracy: 0.7686 - val_loss: 0.0977 - val_accuracy: 0.8333\n",
      "Epoch 6/50\n",
      "22/22 [==============================] - 0s 16ms/step - loss: 0.0850 - accuracy: 0.7786 - val_loss: 0.0877 - val_accuracy: 0.8556\n",
      "Epoch 7/50\n",
      "22/22 [==============================] - 0s 16ms/step - loss: 0.0747 - accuracy: 0.7843 - val_loss: 0.0812 - val_accuracy: 0.8611\n",
      "Epoch 8/50\n",
      "22/22 [==============================] - 0s 16ms/step - loss: 0.0659 - accuracy: 0.7914 - val_loss: 0.0830 - val_accuracy: 0.8389\n",
      "Epoch 9/50\n",
      "22/22 [==============================] - 0s 16ms/step - loss: 0.0591 - accuracy: 0.7957 - val_loss: 0.0776 - val_accuracy: 0.8500\n",
      "Epoch 10/50\n",
      "22/22 [==============================] - 0s 16ms/step - loss: 0.0544 - accuracy: 0.8029 - val_loss: 0.0737 - val_accuracy: 0.8556\n",
      "Epoch 11/50\n",
      "22/22 [==============================] - 0s 15ms/step - loss: 0.0504 - accuracy: 0.8014 - val_loss: 0.0747 - val_accuracy: 0.8444\n",
      "Epoch 12/50\n",
      "22/22 [==============================] - 0s 15ms/step - loss: 0.0455 - accuracy: 0.8071 - val_loss: 0.0712 - val_accuracy: 0.8667\n",
      "Epoch 13/50\n",
      "22/22 [==============================] - 0s 16ms/step - loss: 0.0412 - accuracy: 0.8157 - val_loss: 0.0701 - val_accuracy: 0.8611\n",
      "Epoch 14/50\n",
      "22/22 [==============================] - 0s 17ms/step - loss: 0.0388 - accuracy: 0.8157 - val_loss: 0.0727 - val_accuracy: 0.8611\n",
      "Epoch 15/50\n",
      "22/22 [==============================] - 0s 17ms/step - loss: 0.0365 - accuracy: 0.8214 - val_loss: 0.0732 - val_accuracy: 0.8611\n",
      "Epoch 16/50\n",
      "22/22 [==============================] - 0s 15ms/step - loss: 0.0317 - accuracy: 0.8400 - val_loss: 0.0733 - val_accuracy: 0.8611\n",
      "Epoch 17/50\n",
      "22/22 [==============================] - 0s 15ms/step - loss: 0.0296 - accuracy: 0.8386 - val_loss: 0.0736 - val_accuracy: 0.8667\n",
      "Epoch 18/50\n",
      "22/22 [==============================] - 0s 21ms/step - loss: 0.0269 - accuracy: 0.8414 - val_loss: 0.0776 - val_accuracy: 0.8556\n",
      "Epoch 19/50\n",
      "22/22 [==============================] - 0s 16ms/step - loss: 0.0249 - accuracy: 0.8429 - val_loss: 0.0796 - val_accuracy: 0.8556\n",
      "Epoch 20/50\n",
      "22/22 [==============================] - 0s 18ms/step - loss: 0.0263 - accuracy: 0.8414 - val_loss: 0.0965 - val_accuracy: 0.8278\n",
      "Epoch 21/50\n",
      "22/22 [==============================] - 0s 19ms/step - loss: 0.0233 - accuracy: 0.8443 - val_loss: 0.0835 - val_accuracy: 0.8500\n",
      "Epoch 22/50\n",
      "22/22 [==============================] - 0s 23ms/step - loss: 0.0210 - accuracy: 0.8443 - val_loss: 0.0769 - val_accuracy: 0.8500\n",
      "Epoch 23/50\n",
      "22/22 [==============================] - 0s 22ms/step - loss: 0.0173 - accuracy: 0.8443 - val_loss: 0.0766 - val_accuracy: 0.8500\n",
      "Epoch 24/50\n",
      "22/22 [==============================] - 0s 18ms/step - loss: 0.0151 - accuracy: 0.8471 - val_loss: 0.0874 - val_accuracy: 0.8500\n",
      "Epoch 25/50\n",
      "22/22 [==============================] - 0s 16ms/step - loss: 0.0153 - accuracy: 0.8514 - val_loss: 0.0928 - val_accuracy: 0.8556\n",
      "Epoch 26/50\n",
      "22/22 [==============================] - 0s 16ms/step - loss: 0.0152 - accuracy: 0.8471 - val_loss: 0.0856 - val_accuracy: 0.8444\n",
      "Epoch 27/50\n",
      "22/22 [==============================] - 0s 16ms/step - loss: 0.0128 - accuracy: 0.8529 - val_loss: 0.0879 - val_accuracy: 0.8444\n",
      "Epoch 28/50\n",
      "22/22 [==============================] - 0s 16ms/step - loss: 0.0108 - accuracy: 0.8514 - val_loss: 0.0864 - val_accuracy: 0.8556\n",
      "Epoch 29/50\n",
      "22/22 [==============================] - 0s 15ms/step - loss: 0.0116 - accuracy: 0.8514 - val_loss: 0.0921 - val_accuracy: 0.8500\n",
      "Epoch 30/50\n",
      "22/22 [==============================] - 0s 17ms/step - loss: 0.0115 - accuracy: 0.8514 - val_loss: 0.0974 - val_accuracy: 0.8444\n",
      "Epoch 31/50\n",
      "22/22 [==============================] - 0s 16ms/step - loss: 0.0105 - accuracy: 0.8529 - val_loss: 0.0969 - val_accuracy: 0.8444\n",
      "Epoch 32/50\n",
      "22/22 [==============================] - 0s 17ms/step - loss: 0.0082 - accuracy: 0.8557 - val_loss: 0.0915 - val_accuracy: 0.8444\n",
      "Epoch 33/50\n",
      "22/22 [==============================] - 0s 17ms/step - loss: 0.0071 - accuracy: 0.8571 - val_loss: 0.0969 - val_accuracy: 0.8556\n",
      "Epoch 34/50\n",
      "22/22 [==============================] - 0s 16ms/step - loss: 0.0076 - accuracy: 0.8586 - val_loss: 0.0945 - val_accuracy: 0.8500\n",
      "Epoch 35/50\n",
      "22/22 [==============================] - 0s 16ms/step - loss: 0.0067 - accuracy: 0.8557 - val_loss: 0.0950 - val_accuracy: 0.8556\n",
      "Epoch 36/50\n",
      "22/22 [==============================] - 0s 20ms/step - loss: 0.0075 - accuracy: 0.8586 - val_loss: 0.0967 - val_accuracy: 0.8556\n",
      "Epoch 37/50\n",
      "22/22 [==============================] - 0s 16ms/step - loss: 0.0067 - accuracy: 0.8600 - val_loss: 0.1258 - val_accuracy: 0.8333\n",
      "Epoch 38/50\n",
      "22/22 [==============================] - 0s 18ms/step - loss: 0.0062 - accuracy: 0.8571 - val_loss: 0.0993 - val_accuracy: 0.8500\n",
      "Epoch 39/50\n",
      "22/22 [==============================] - 0s 18ms/step - loss: 0.0055 - accuracy: 0.8629 - val_loss: 0.1013 - val_accuracy: 0.8611\n",
      "Epoch 40/50\n",
      "22/22 [==============================] - 0s 17ms/step - loss: 0.0054 - accuracy: 0.8629 - val_loss: 0.1150 - val_accuracy: 0.8500\n",
      "Epoch 41/50\n",
      "22/22 [==============================] - 0s 18ms/step - loss: 0.0083 - accuracy: 0.8586 - val_loss: 0.1133 - val_accuracy: 0.8500\n",
      "Epoch 42/50\n",
      "22/22 [==============================] - 0s 18ms/step - loss: 0.0069 - accuracy: 0.8600 - val_loss: 0.1063 - val_accuracy: 0.8556\n",
      "Epoch 43/50\n",
      "22/22 [==============================] - 0s 17ms/step - loss: 0.0045 - accuracy: 0.8629 - val_loss: 0.1002 - val_accuracy: 0.8500\n",
      "Epoch 44/50\n",
      "22/22 [==============================] - 0s 17ms/step - loss: 0.0038 - accuracy: 0.8614 - val_loss: 0.1112 - val_accuracy: 0.8611\n",
      "Epoch 45/50\n",
      "22/22 [==============================] - 0s 16ms/step - loss: 0.0044 - accuracy: 0.8614 - val_loss: 0.1118 - val_accuracy: 0.8500\n",
      "Epoch 46/50\n",
      "22/22 [==============================] - 0s 18ms/step - loss: 0.0039 - accuracy: 0.8629 - val_loss: 0.1048 - val_accuracy: 0.8556\n",
      "Epoch 47/50\n",
      "22/22 [==============================] - 0s 17ms/step - loss: 0.0034 - accuracy: 0.8629 - val_loss: 0.1071 - val_accuracy: 0.8444\n",
      "Epoch 48/50\n",
      "22/22 [==============================] - 0s 17ms/step - loss: 0.0030 - accuracy: 0.8657 - val_loss: 0.1087 - val_accuracy: 0.8444\n",
      "Epoch 49/50\n",
      "22/22 [==============================] - 0s 16ms/step - loss: 0.0030 - accuracy: 0.8629 - val_loss: 0.1094 - val_accuracy: 0.8444\n",
      "Epoch 50/50\n",
      "22/22 [==============================] - 0s 15ms/step - loss: 0.0030 - accuracy: 0.8657 - val_loss: 0.1105 - val_accuracy: 0.8389\n"
     ]
    }
   ],
   "source": [
    "model = keras.Sequential(name='exam2-MLP')\n",
    "model.add(layers.Dense(units = 80, activation='relu', input_dim=34))\n",
    "model.add(layers.Dense(units=80, activation='relu'))\n",
    "model.add(layers.Dense(units=80, activation='relu'))\n",
    "\n",
    "\n",
    "model.add(layers.Dense(units=6, activation='sigmoid'))\n",
    "\n",
    "\n",
    "\n",
    "model.compile(optimizer='adam',\n",
    "              loss='binary_crossentropy',\n",
    "              metrics=['accuracy'])\n",
    "\n",
    "\n",
    "history = model.fit(X_train_resampled, df_onehot,\n",
    "                    batch_size=32,\n",
    "                    epochs = 50,\n",
    "                    validation_data = (X_test, df_onehot_test))\n",
    "\n"
   ]
  },
  {
   "cell_type": "code",
   "execution_count": 232,
   "id": "0d6cedec",
   "metadata": {},
   "outputs": [
    {
     "name": "stdout",
     "output_type": "stream",
     "text": [
      "6/6 [==============================] - 0s 9ms/step - loss: 0.1105 - accuracy: 0.8389\n"
     ]
    }
   ],
   "source": [
    "pred = model.evaluate(X_test, df_onehot_test)"
   ]
  },
  {
   "cell_type": "code",
   "execution_count": 234,
   "id": "2d888356",
   "metadata": {
    "scrolled": true
   },
   "outputs": [
    {
     "ename": "ValueError",
     "evalue": "Found input variables with inconsistent numbers of samples: [180, 2]",
     "output_type": "error",
     "traceback": [
      "\u001b[1;31m---------------------------------------------------------------------------\u001b[0m",
      "\u001b[1;31mValueError\u001b[0m                                Traceback (most recent call last)",
      "Input \u001b[1;32mIn [234]\u001b[0m, in \u001b[0;36m<cell line: 1>\u001b[1;34m()\u001b[0m\n\u001b[1;32m----> 1\u001b[0m \u001b[38;5;28mprint\u001b[39m(\u001b[43mconfusion_matrix\u001b[49m\u001b[43m(\u001b[49m\u001b[43my_test\u001b[49m\u001b[43m,\u001b[49m\u001b[43m \u001b[49m\u001b[43mpred\u001b[49m\u001b[43m)\u001b[49m)\n\u001b[0;32m      2\u001b[0m \u001b[38;5;28mprint\u001b[39m(classification_report(y_test, pred))\n",
      "File \u001b[1;32m~\\anaconda3\\lib\\site-packages\\sklearn\\metrics\\_classification.py:307\u001b[0m, in \u001b[0;36mconfusion_matrix\u001b[1;34m(y_true, y_pred, labels, sample_weight, normalize)\u001b[0m\n\u001b[0;32m    222\u001b[0m \u001b[38;5;28;01mdef\u001b[39;00m \u001b[38;5;21mconfusion_matrix\u001b[39m(\n\u001b[0;32m    223\u001b[0m     y_true, y_pred, \u001b[38;5;241m*\u001b[39m, labels\u001b[38;5;241m=\u001b[39m\u001b[38;5;28;01mNone\u001b[39;00m, sample_weight\u001b[38;5;241m=\u001b[39m\u001b[38;5;28;01mNone\u001b[39;00m, normalize\u001b[38;5;241m=\u001b[39m\u001b[38;5;28;01mNone\u001b[39;00m\n\u001b[0;32m    224\u001b[0m ):\n\u001b[0;32m    225\u001b[0m     \u001b[38;5;124;03m\"\"\"Compute confusion matrix to evaluate the accuracy of a classification.\u001b[39;00m\n\u001b[0;32m    226\u001b[0m \n\u001b[0;32m    227\u001b[0m \u001b[38;5;124;03m    By definition a confusion matrix :math:`C` is such that :math:`C_{i, j}`\u001b[39;00m\n\u001b[1;32m   (...)\u001b[0m\n\u001b[0;32m    305\u001b[0m \u001b[38;5;124;03m    (0, 2, 1, 1)\u001b[39;00m\n\u001b[0;32m    306\u001b[0m \u001b[38;5;124;03m    \"\"\"\u001b[39;00m\n\u001b[1;32m--> 307\u001b[0m     y_type, y_true, y_pred \u001b[38;5;241m=\u001b[39m \u001b[43m_check_targets\u001b[49m\u001b[43m(\u001b[49m\u001b[43my_true\u001b[49m\u001b[43m,\u001b[49m\u001b[43m \u001b[49m\u001b[43my_pred\u001b[49m\u001b[43m)\u001b[49m\n\u001b[0;32m    308\u001b[0m     \u001b[38;5;28;01mif\u001b[39;00m y_type \u001b[38;5;129;01mnot\u001b[39;00m \u001b[38;5;129;01min\u001b[39;00m (\u001b[38;5;124m\"\u001b[39m\u001b[38;5;124mbinary\u001b[39m\u001b[38;5;124m\"\u001b[39m, \u001b[38;5;124m\"\u001b[39m\u001b[38;5;124mmulticlass\u001b[39m\u001b[38;5;124m\"\u001b[39m):\n\u001b[0;32m    309\u001b[0m         \u001b[38;5;28;01mraise\u001b[39;00m \u001b[38;5;167;01mValueError\u001b[39;00m(\u001b[38;5;124m\"\u001b[39m\u001b[38;5;132;01m%s\u001b[39;00m\u001b[38;5;124m is not supported\u001b[39m\u001b[38;5;124m\"\u001b[39m \u001b[38;5;241m%\u001b[39m y_type)\n",
      "File \u001b[1;32m~\\anaconda3\\lib\\site-packages\\sklearn\\metrics\\_classification.py:84\u001b[0m, in \u001b[0;36m_check_targets\u001b[1;34m(y_true, y_pred)\u001b[0m\n\u001b[0;32m     57\u001b[0m \u001b[38;5;28;01mdef\u001b[39;00m \u001b[38;5;21m_check_targets\u001b[39m(y_true, y_pred):\n\u001b[0;32m     58\u001b[0m     \u001b[38;5;124;03m\"\"\"Check that y_true and y_pred belong to the same classification task.\u001b[39;00m\n\u001b[0;32m     59\u001b[0m \n\u001b[0;32m     60\u001b[0m \u001b[38;5;124;03m    This converts multiclass or binary types to a common shape, and raises a\u001b[39;00m\n\u001b[1;32m   (...)\u001b[0m\n\u001b[0;32m     82\u001b[0m \u001b[38;5;124;03m    y_pred : array or indicator matrix\u001b[39;00m\n\u001b[0;32m     83\u001b[0m \u001b[38;5;124;03m    \"\"\"\u001b[39;00m\n\u001b[1;32m---> 84\u001b[0m     \u001b[43mcheck_consistent_length\u001b[49m\u001b[43m(\u001b[49m\u001b[43my_true\u001b[49m\u001b[43m,\u001b[49m\u001b[43m \u001b[49m\u001b[43my_pred\u001b[49m\u001b[43m)\u001b[49m\n\u001b[0;32m     85\u001b[0m     type_true \u001b[38;5;241m=\u001b[39m type_of_target(y_true, input_name\u001b[38;5;241m=\u001b[39m\u001b[38;5;124m\"\u001b[39m\u001b[38;5;124my_true\u001b[39m\u001b[38;5;124m\"\u001b[39m)\n\u001b[0;32m     86\u001b[0m     type_pred \u001b[38;5;241m=\u001b[39m type_of_target(y_pred, input_name\u001b[38;5;241m=\u001b[39m\u001b[38;5;124m\"\u001b[39m\u001b[38;5;124my_pred\u001b[39m\u001b[38;5;124m\"\u001b[39m)\n",
      "File \u001b[1;32m~\\anaconda3\\lib\\site-packages\\sklearn\\utils\\validation.py:387\u001b[0m, in \u001b[0;36mcheck_consistent_length\u001b[1;34m(*arrays)\u001b[0m\n\u001b[0;32m    385\u001b[0m uniques \u001b[38;5;241m=\u001b[39m np\u001b[38;5;241m.\u001b[39munique(lengths)\n\u001b[0;32m    386\u001b[0m \u001b[38;5;28;01mif\u001b[39;00m \u001b[38;5;28mlen\u001b[39m(uniques) \u001b[38;5;241m>\u001b[39m \u001b[38;5;241m1\u001b[39m:\n\u001b[1;32m--> 387\u001b[0m     \u001b[38;5;28;01mraise\u001b[39;00m \u001b[38;5;167;01mValueError\u001b[39;00m(\n\u001b[0;32m    388\u001b[0m         \u001b[38;5;124m\"\u001b[39m\u001b[38;5;124mFound input variables with inconsistent numbers of samples: \u001b[39m\u001b[38;5;132;01m%r\u001b[39;00m\u001b[38;5;124m\"\u001b[39m\n\u001b[0;32m    389\u001b[0m         \u001b[38;5;241m%\u001b[39m [\u001b[38;5;28mint\u001b[39m(l) \u001b[38;5;28;01mfor\u001b[39;00m l \u001b[38;5;129;01min\u001b[39;00m lengths]\n\u001b[0;32m    390\u001b[0m     )\n",
      "\u001b[1;31mValueError\u001b[0m: Found input variables with inconsistent numbers of samples: [180, 2]"
     ]
    }
   ],
   "source": [
    "print(confusion_matrix(y_test, pred))\n",
    "print(classification_report(y_test, pred))"
   ]
  },
  {
   "cell_type": "code",
   "execution_count": 231,
   "id": "13ce0cc2",
   "metadata": {},
   "outputs": [
    {
     "data": {
      "image/png": "[encoded data removed]",
      "text/plain": [
       "<Figure size 432x432 with 1 Axes>"
      ]
     },
     "metadata": {
      "needs_background": "light"
     },
     "output_type": "display_data"
    }
   ],
   "source": [
    "plt.figure(figsize=(6, 6))\n",
    "plt.title('Model accuracy')\n",
    "\n",
    "# Plot the lines\n",
    "plt.plot(history.history['accuracy'])\n",
    "plt.plot(history.history['val_accuracy'])\n",
    "\n",
    "plt.ylabel('Accuracy')\n",
    "plt.xlabel('Epoch')\n",
    "plt.legend(['Train', 'Validation'], loc='upper left')\n",
    "plt.show()"
   ]
  },
  {
   "cell_type": "markdown",
   "id": "6d9604cf",
   "metadata": {},
   "source": [
    "# Great Job!"
   ]
  }
 ],
 "metadata": {
  "kernelspec": {
   "display_name": "Python 3 (ipykernel)",
   "language": "python",
   "name": "python3"
  },
  "language_info": {
   "codemirror_mode": {
    "name": "ipython",
    "version": 3
   },
   "file_extension": ".py",
   "mimetype": "text/x-python",
   "name": "python",
   "nbconvert_exporter": "python",
   "pygments_lexer": "ipython3",
   "version": "3.9.12"
  },
  "varInspector": {
   "cols": {
    "lenName": 16,
    "lenType": 16,
    "lenVar": 40
   },
   "kernels_config": {
    "python": {
     "delete_cmd_postfix": "",
     "delete_cmd_prefix": "del ",
     "library": "var_list.py",
     "varRefreshCmd": "print(var_dic_list())"
    },
    "r": {
     "delete_cmd_postfix": ") ",
     "delete_cmd_prefix": "rm(",
     "library": "var_list.r",
     "varRefreshCmd": "cat(var_dic_list()) "
    }
   },
   "types_to_exclude": [
    "module",
    "function",
    "builtin_function_or_method",
    "instance",
    "_Feature"
   ],
   "window_display": false
  }
 },
 "nbformat": 4,
 "nbformat_minor": 5
}
