{
 "cells": [
  {
   "cell_type": "markdown",
   "metadata": {},
   "source": [
    "<h1><center>DS 300 - Take-home Quiz 1</center></h1>\n",
    "\n",
    "# Introduction\n",
    "In this assignment, you are given some housing data from the real estate market of US. Your ultimate goal is to preprocess the data so that:\n",
    "\n",
    "+ 1) missing data are permuted;\n",
    "+ 2) irrelevant features are removed;\n",
    "+ 3) duplicated features are dropped;\n",
    "+ 4) numeric data are standardized;\n",
    "+ 5) a linear regression model is fit to predict the housing price.\n",
    "\n",
    "Simply follow along the instructions and answer the questions. "
   ]
  },
  {
   "cell_type": "markdown",
   "metadata": {},
   "source": [
    "## Question 1: Obtain the Data\n",
    "\n",
    "#### Import all necessary libraries"
   ]
  },
  {
   "cell_type": "code",
   "execution_count": 144,
   "metadata": {},
   "outputs": [],
   "source": [
    "import pandas as pd\n",
    "import numpy as np\n",
    "import sqlalchemy as db\n",
    "import matplotlib.pyplot as plt\n",
    "import seaborn as sns"
   ]
  },
  {
   "cell_type": "markdown",
   "metadata": {},
   "source": [
    "#### Create an SQLite engine and read the `data` table from the given database into a variable named as `data`.\n",
    "#### Data can be found at [link](https://github.com/BlueJayADAL/DS300/raw/master/datasets/real-estate.sqlite), and you should place it to the same directory as this notebook."
   ]
  },
  {
   "cell_type": "code",
   "execution_count": 145,
   "metadata": {},
   "outputs": [],
   "source": [
    "# Need to place the database file in the same directory of the notebook\n",
    "engine = db.create_engine('sqlite:///real-estate.sqlite')"
   ]
  },
  {
   "cell_type": "code",
   "execution_count": 146,
   "metadata": {},
   "outputs": [],
   "source": [
    "connection = engine.connect()"
   ]
  },
  {
   "cell_type": "code",
   "execution_count": 147,
   "metadata": {},
   "outputs": [],
   "source": [
    "metadata = db.MetaData()"
   ]
  },
  {
   "cell_type": "code",
   "execution_count": 148,
   "metadata": {},
   "outputs": [],
   "source": [
    "data = db.Table('data', metadata, autoload = True, autoload_with = engine)"
   ]
  },
  {
   "cell_type": "markdown",
   "metadata": {},
   "source": [
    "## Question 2: Data Extraction\n",
    "#### Use a query to read all data except `id` and `date` columns into an array, then use the array to create a DataFrame named `df`."
   ]
  },
  {
   "cell_type": "code",
   "execution_count": 149,
   "metadata": {},
   "outputs": [],
   "source": [
    "# Step1: construct a string with all needed columns, separated by commas\n",
    "# Note: there is no comma after the last column\n",
    "\n",
    "selected_cols_str = ', '.join(data.columns.keys()[2:])\n",
    "\n",
    "\n"
   ]
  },
  {
   "cell_type": "code",
   "execution_count": 150,
   "metadata": {
    "scrolled": true
   },
   "outputs": [
    {
     "data": {
      "text/plain": [
       "'price, bedrooms, bathrooms, sqft_living, sqft_lot, floors, waterfront, view, condition, grade, sqft_above, sqft_basement, yr_built, yr_renovated, zipcode, lat, long, sqft_living15, sqft_lot15, sqft_all, rcprice, has_wine_bar, garage_type, has_sqft_living, sqft_living2, has_sqft_lot, sqft_lot2, has_sqft_above, sqft_above2, has_sqft_basement, sqft_basement2, has_sqft_living15, sqft_living152, has_sqft_lot15, sqft_lot152, has_sqft_all, sqft_all2'"
      ]
     },
     "execution_count": 150,
     "metadata": {},
     "output_type": "execute_result"
    }
   ],
   "source": [
    "# Display the string\n",
    "selected_cols_str"
   ]
  },
  {
   "cell_type": "code",
   "execution_count": 151,
   "metadata": {},
   "outputs": [],
   "source": [
    "selected_cols_str = \"SELECT \" + selected_cols_str + \" FROM data\""
   ]
  },
  {
   "cell_type": "code",
   "execution_count": 152,
   "metadata": {},
   "outputs": [
    {
     "data": {
      "text/plain": [
       "'SELECT price, bedrooms, bathrooms, sqft_living, sqft_lot, floors, waterfront, view, condition, grade, sqft_above, sqft_basement, yr_built, yr_renovated, zipcode, lat, long, sqft_living15, sqft_lot15, sqft_all, rcprice, has_wine_bar, garage_type, has_sqft_living, sqft_living2, has_sqft_lot, sqft_lot2, has_sqft_above, sqft_above2, has_sqft_basement, sqft_basement2, has_sqft_living15, sqft_living152, has_sqft_lot15, sqft_lot152, has_sqft_all, sqft_all2 FROM data'"
      ]
     },
     "execution_count": 152,
     "metadata": {},
     "output_type": "execute_result"
    }
   ],
   "source": [
    "selected_cols_str"
   ]
  },
  {
   "cell_type": "code",
   "execution_count": 153,
   "metadata": {
    "scrolled": true
   },
   "outputs": [],
   "source": [
    "## Step2: Use the contructed string to form a SQL query\n",
    "## Then query the data from the database\n",
    "\n",
    "ResultProxy = connection.execute(selected_cols_str)"
   ]
  },
  {
   "cell_type": "code",
   "execution_count": 154,
   "metadata": {},
   "outputs": [],
   "source": [
    "ResultSet = ResultProxy.fetchall()"
   ]
  },
  {
   "cell_type": "code",
   "execution_count": 155,
   "metadata": {},
   "outputs": [],
   "source": [
    "# Step3: Generate a DataFrame df\n",
    "\n",
    "df = pd.DataFrame(data=ResultSet, columns=ResultSet[0].keys())\n",
    "\n",
    "\n",
    "\n"
   ]
  },
  {
   "cell_type": "code",
   "execution_count": 156,
   "metadata": {},
   "outputs": [
    {
     "data": {
      "text/html": [
       "<div>\n",
       "<style scoped>\n",
       "    .dataframe tbody tr th:only-of-type {\n",
       "        vertical-align: middle;\n",
       "    }\n",
       "\n",
       "    .dataframe tbody tr th {\n",
       "        vertical-align: top;\n",
       "    }\n",
       "\n",
       "    .dataframe thead th {\n",
       "        text-align: right;\n",
       "    }\n",
       "</style>\n",
       "<table border=\"1\" class=\"dataframe\">\n",
       "  <thead>\n",
       "    <tr style=\"text-align: right;\">\n",
       "      <th></th>\n",
       "      <th>price</th>\n",
       "      <th>bedrooms</th>\n",
       "      <th>bathrooms</th>\n",
       "      <th>sqft_living</th>\n",
       "      <th>sqft_lot</th>\n",
       "      <th>floors</th>\n",
       "      <th>waterfront</th>\n",
       "      <th>view</th>\n",
       "      <th>condition</th>\n",
       "      <th>grade</th>\n",
       "      <th>...</th>\n",
       "      <th>has_sqft_above</th>\n",
       "      <th>sqft_above2</th>\n",
       "      <th>has_sqft_basement</th>\n",
       "      <th>sqft_basement2</th>\n",
       "      <th>has_sqft_living15</th>\n",
       "      <th>sqft_living152</th>\n",
       "      <th>has_sqft_lot15</th>\n",
       "      <th>sqft_lot152</th>\n",
       "      <th>has_sqft_all</th>\n",
       "      <th>sqft_all2</th>\n",
       "    </tr>\n",
       "  </thead>\n",
       "  <tbody>\n",
       "    <tr>\n",
       "      <th>0</th>\n",
       "      <td>221900.0</td>\n",
       "      <td>3.0</td>\n",
       "      <td>1.00</td>\n",
       "      <td>1180.0</td>\n",
       "      <td>5650</td>\n",
       "      <td>1.0</td>\n",
       "      <td>0</td>\n",
       "      <td>0</td>\n",
       "      <td>3</td>\n",
       "      <td>7</td>\n",
       "      <td>...</td>\n",
       "      <td>1</td>\n",
       "      <td>34.351128</td>\n",
       "      <td>0</td>\n",
       "      <td>0.000000</td>\n",
       "      <td>1</td>\n",
       "      <td>36.606010</td>\n",
       "      <td>1</td>\n",
       "      <td>75.166482</td>\n",
       "      <td>1</td>\n",
       "      <td>122.474487</td>\n",
       "    </tr>\n",
       "    <tr>\n",
       "      <th>1</th>\n",
       "      <td>538000.0</td>\n",
       "      <td>3.0</td>\n",
       "      <td>2.25</td>\n",
       "      <td>2570.0</td>\n",
       "      <td>7242</td>\n",
       "      <td>2.0</td>\n",
       "      <td>0</td>\n",
       "      <td>0</td>\n",
       "      <td>3</td>\n",
       "      <td>7</td>\n",
       "      <td>...</td>\n",
       "      <td>1</td>\n",
       "      <td>46.583259</td>\n",
       "      <td>1</td>\n",
       "      <td>20.000000</td>\n",
       "      <td>1</td>\n",
       "      <td>41.109610</td>\n",
       "      <td>1</td>\n",
       "      <td>87.401373</td>\n",
       "      <td>1</td>\n",
       "      <td>147.346530</td>\n",
       "    </tr>\n",
       "    <tr>\n",
       "      <th>2</th>\n",
       "      <td>180000.0</td>\n",
       "      <td>2.0</td>\n",
       "      <td>1.00</td>\n",
       "      <td>770.0</td>\n",
       "      <td>10000</td>\n",
       "      <td>1.0</td>\n",
       "      <td>0</td>\n",
       "      <td>0</td>\n",
       "      <td>3</td>\n",
       "      <td>6</td>\n",
       "      <td>...</td>\n",
       "      <td>1</td>\n",
       "      <td>27.748874</td>\n",
       "      <td>0</td>\n",
       "      <td>0.000000</td>\n",
       "      <td>1</td>\n",
       "      <td>52.153619</td>\n",
       "      <td>1</td>\n",
       "      <td>89.788641</td>\n",
       "      <td>1</td>\n",
       "      <td>149.405489</td>\n",
       "    </tr>\n",
       "    <tr>\n",
       "      <th>3</th>\n",
       "      <td>604000.0</td>\n",
       "      <td>4.0</td>\n",
       "      <td>3.00</td>\n",
       "      <td>1960.0</td>\n",
       "      <td>5000</td>\n",
       "      <td>1.0</td>\n",
       "      <td>0</td>\n",
       "      <td>0</td>\n",
       "      <td>5</td>\n",
       "      <td>7</td>\n",
       "      <td>...</td>\n",
       "      <td>1</td>\n",
       "      <td>32.403703</td>\n",
       "      <td>1</td>\n",
       "      <td>30.166206</td>\n",
       "      <td>1</td>\n",
       "      <td>36.878178</td>\n",
       "      <td>1</td>\n",
       "      <td>70.710678</td>\n",
       "      <td>1</td>\n",
       "      <td>123.612297</td>\n",
       "    </tr>\n",
       "    <tr>\n",
       "      <th>4</th>\n",
       "      <td>510000.0</td>\n",
       "      <td>3.0</td>\n",
       "      <td>2.00</td>\n",
       "      <td>1680.0</td>\n",
       "      <td>8080</td>\n",
       "      <td>1.0</td>\n",
       "      <td>0</td>\n",
       "      <td>0</td>\n",
       "      <td>3</td>\n",
       "      <td>8</td>\n",
       "      <td>...</td>\n",
       "      <td>1</td>\n",
       "      <td>40.987803</td>\n",
       "      <td>0</td>\n",
       "      <td>0.000000</td>\n",
       "      <td>1</td>\n",
       "      <td>42.426407</td>\n",
       "      <td>1</td>\n",
       "      <td>86.619859</td>\n",
       "      <td>1</td>\n",
       "      <td>144.024304</td>\n",
       "    </tr>\n",
       "  </tbody>\n",
       "</table>\n",
       "<p>5 rows × 37 columns</p>\n",
       "</div>"
      ],
      "text/plain": [
       "      price  bedrooms  bathrooms  sqft_living  sqft_lot  floors  waterfront  \\\n",
       "0  221900.0       3.0       1.00       1180.0      5650     1.0           0   \n",
       "1  538000.0       3.0       2.25       2570.0      7242     2.0           0   \n",
       "2  180000.0       2.0       1.00        770.0     10000     1.0           0   \n",
       "3  604000.0       4.0       3.00       1960.0      5000     1.0           0   \n",
       "4  510000.0       3.0       2.00       1680.0      8080     1.0           0   \n",
       "\n",
       "   view  condition  grade  ...  has_sqft_above  sqft_above2  \\\n",
       "0     0          3      7  ...               1    34.351128   \n",
       "1     0          3      7  ...               1    46.583259   \n",
       "2     0          3      6  ...               1    27.748874   \n",
       "3     0          5      7  ...               1    32.403703   \n",
       "4     0          3      8  ...               1    40.987803   \n",
       "\n",
       "   has_sqft_basement  sqft_basement2  has_sqft_living15  sqft_living152  \\\n",
       "0                  0        0.000000                  1       36.606010   \n",
       "1                  1       20.000000                  1       41.109610   \n",
       "2                  0        0.000000                  1       52.153619   \n",
       "3                  1       30.166206                  1       36.878178   \n",
       "4                  0        0.000000                  1       42.426407   \n",
       "\n",
       "   has_sqft_lot15  sqft_lot152  has_sqft_all   sqft_all2  \n",
       "0               1    75.166482             1  122.474487  \n",
       "1               1    87.401373             1  147.346530  \n",
       "2               1    89.788641             1  149.405489  \n",
       "3               1    70.710678             1  123.612297  \n",
       "4               1    86.619859             1  144.024304  \n",
       "\n",
       "[5 rows x 37 columns]"
      ]
     },
     "execution_count": 156,
     "metadata": {},
     "output_type": "execute_result"
    }
   ],
   "source": [
    "# Show the first 5 rows of the DataFrame\n",
    "df.head()"
   ]
  },
  {
   "cell_type": "markdown",
   "metadata": {},
   "source": [
    "## Question 3: EDA"
   ]
  },
  {
   "cell_type": "markdown",
   "metadata": {},
   "source": [
    "#### Show a histogram of the `price` column."
   ]
  },
  {
   "cell_type": "code",
   "execution_count": 157,
   "metadata": {
    "scrolled": true
   },
   "outputs": [
    {
     "data": {
      "image/png": "[encoded data removed]",
      "text/plain": [
       "<Figure size 432x288 with 1 Axes>"
      ]
     },
     "metadata": {
      "needs_background": "light"
     },
     "output_type": "display_data"
    }
   ],
   "source": [
    "plt.hist(df['price'], bins = 100)\n",
    "plt.grid(True)"
   ]
  },
  {
   "cell_type": "markdown",
   "metadata": {},
   "source": [
    "#### Show the total number of missing values in each column."
   ]
  },
  {
   "cell_type": "code",
   "execution_count": 158,
   "metadata": {},
   "outputs": [
    {
     "data": {
      "text/plain": [
       "price                 0\n",
       "bedrooms             11\n",
       "bathrooms             0\n",
       "sqft_living          24\n",
       "sqft_lot              0\n",
       "floors                0\n",
       "waterfront            0\n",
       "view                  0\n",
       "condition             0\n",
       "grade                 0\n",
       "sqft_above            0\n",
       "sqft_basement         0\n",
       "yr_built              0\n",
       "yr_renovated          0\n",
       "zipcode               0\n",
       "lat                   0\n",
       "long                  0\n",
       "sqft_living15         0\n",
       "sqft_lot15            0\n",
       "sqft_all              0\n",
       "rcprice               0\n",
       "has_wine_bar          0\n",
       "garage_type           0\n",
       "has_sqft_living       0\n",
       "sqft_living2          0\n",
       "has_sqft_lot          0\n",
       "sqft_lot2             0\n",
       "has_sqft_above        0\n",
       "sqft_above2           0\n",
       "has_sqft_basement     0\n",
       "sqft_basement2        0\n",
       "has_sqft_living15     0\n",
       "sqft_living152        0\n",
       "has_sqft_lot15        0\n",
       "sqft_lot152           0\n",
       "has_sqft_all          0\n",
       "sqft_all2             0\n",
       "dtype: int64"
      ]
     },
     "execution_count": 158,
     "metadata": {},
     "output_type": "execute_result"
    }
   ],
   "source": [
    "df.isna().sum()"
   ]
  },
  {
   "cell_type": "markdown",
   "metadata": {},
   "source": [
    "#### Show the total number of occurences of each category in the column `bedrooms`. "
   ]
  },
  {
   "cell_type": "code",
   "execution_count": 159,
   "metadata": {},
   "outputs": [
    {
     "data": {
      "text/plain": [
       "3.0     9821\n",
       "4.0     6877\n",
       "2.0     2760\n",
       "5.0     1598\n",
       "6.0      272\n",
       "1.0      199\n",
       "7.0       38\n",
       "0.0       13\n",
       "8.0       13\n",
       "9.0        6\n",
       "10.0       3\n",
       "11.0       1\n",
       "33.0       1\n",
       "Name: bedrooms, dtype: int64"
      ]
     },
     "execution_count": 159,
     "metadata": {},
     "output_type": "execute_result"
    }
   ],
   "source": [
    "df['bedrooms'].value_counts()"
   ]
  },
  {
   "cell_type": "markdown",
   "metadata": {},
   "source": [
    "## Question 4: Data Imputation\n",
    "\n",
    "#### Impute the missing values of feature `bedrooms` with a constant. And the constant must be the category that has the most occurrences. \n",
    "\n",
    "*Note: To receive full credits, you must use the SimpleImputer from sklearn. In addition, the most occurrences has to be calculated rather than hard-coded.*"
   ]
  },
  {
   "cell_type": "code",
   "execution_count": 160,
   "metadata": {},
   "outputs": [],
   "source": [
    "# Import the SimpleImputer\n",
    "\n",
    "from sklearn.impute import SimpleImputer\n"
   ]
  },
  {
   "cell_type": "code",
   "execution_count": 161,
   "metadata": {},
   "outputs": [],
   "source": [
    "# Find the mode, and use it to fix the NANs.\n",
    "bedMode = df['bedrooms'].value_counts().idxmax()\n",
    "\n",
    "imp = SimpleImputer(missing_values=np.nan, \n",
    "                    strategy='constant', \n",
    "                    fill_value= bedMode)\n",
    "newBeds = imp.fit_transform(df['bedrooms'].values.reshape(-1,1))\n",
    "df['bedrooms'] = newBeds"
   ]
  },
  {
   "cell_type": "code",
   "execution_count": 162,
   "metadata": {},
   "outputs": [
    {
     "data": {
      "text/plain": [
       "0"
      ]
     },
     "execution_count": 162,
     "metadata": {},
     "output_type": "execute_result"
    }
   ],
   "source": [
    "# Double check if our imputation works\n",
    "df['bedrooms'].isnull().sum()"
   ]
  },
  {
   "cell_type": "markdown",
   "metadata": {},
   "source": [
    "## Question 5: Data Imputation the 2nd Pass\n",
    "#### One way to impute the missing values of column 'sqft_living' is to fill in the mean square footage of all the data entries (imputation). However we can be smarter about this and check the average sqft by the number of bedrooms of the data entry. \n",
    "#### Let's first use boxplot from Seanborn to visualize whether it makes sense to do so."
   ]
  },
  {
   "cell_type": "code",
   "execution_count": 163,
   "metadata": {},
   "outputs": [
    {
     "data": {
      "text/plain": [
       "<AxesSubplot:xlabel='bedrooms', ylabel='sqft_living'>"
      ]
     },
     "execution_count": 163,
     "metadata": {},
     "output_type": "execute_result"
    },
    {
     "data": {
      "image/png": "[encoded data removed]",
      "text/plain": [
       "<Figure size 864x504 with 1 Axes>"
      ]
     },
     "metadata": {
      "needs_background": "light"
     },
     "output_type": "display_data"
    }
   ],
   "source": [
    "plt.figure(figsize=(12, 7))\n",
    "sns.boxplot(data = df, x = 'bedrooms', y = 'sqft_living', palette='coolwarm')"
   ]
  },
  {
   "cell_type": "markdown",
   "metadata": {},
   "source": [
    "#### To impute the missing values in column 'sqft_living', let's first use the following strategy to create a function named \"impute_sqft\":\n",
    "\n",
    "```\n",
    "If # of bedrooms == 1: sqft = 1200\n",
    "If # of bedrooms == 2: sqft = 1500\n",
    "If # of bedrooms == 3: sqft = 1800\n",
    "If # of bedrooms == 4: sqft = 2100\n",
    "If # of bedrooms == 5: sqft = 2500\n",
    "If # of bedrooms == everything else: sqft = 3000\n",
    "```\n",
    "\n",
    "#### Function 'impute_sqft':\n",
    "```\n",
    "Input: a single argument with DataFrame type. When calling this function, we will pass in a DataFrame of the `bedrooms` and `sqft_living` columns\n",
    "Output: return the permuted value if the entry is missing; or return the original value if the entry is present. \n",
    "```\n"
   ]
  },
  {
   "cell_type": "code",
   "execution_count": 164,
   "metadata": {},
   "outputs": [],
   "source": [
    "def impute_sqft(cols):\n",
    "    beds = cols[0]\n",
    "    sqft = cols[1]\n",
    "    \n",
    "    if pd.isnull(sqft):\n",
    "        if beds == 1:\n",
    "            return 1200\n",
    "        elif beds == 2:\n",
    "            return 1500\n",
    "        elif beds == 3:\n",
    "            return 1800\n",
    "        elif beds == 4:\n",
    "            return 2100\n",
    "        elif beds == 5:\n",
    "            return 2500\n",
    "        else:\n",
    "            return 3000\n",
    "    else:\n",
    "        return sqft\n",
    "\n",
    "\n",
    "\n"
   ]
  },
  {
   "cell_type": "markdown",
   "metadata": {},
   "source": [
    "#### Now apply the `impute_sqrt()` function to fill the missing values on column `sqft_living`"
   ]
  },
  {
   "cell_type": "code",
   "execution_count": 165,
   "metadata": {},
   "outputs": [],
   "source": [
    "df['sqft_living'] = df[['bedrooms', 'sqft_living']].apply(impute_sqft, axis=1)\n",
    "\n"
   ]
  },
  {
   "cell_type": "code",
   "execution_count": 166,
   "metadata": {},
   "outputs": [
    {
     "data": {
      "text/plain": [
       "0"
      ]
     },
     "execution_count": 166,
     "metadata": {},
     "output_type": "execute_result"
    }
   ],
   "source": [
    "## Double check if our imputation works\n",
    "df['sqft_living'].isnull().sum()"
   ]
  },
  {
   "cell_type": "markdown",
   "metadata": {},
   "source": [
    "## Question 6: Feature Selection\n",
    "\n",
    "#### Use pairplot from Seaborn to visualize columns ['has_sqft_living', 'has_sqft_lot', 'has_sqft_above', 'has_sqft_living15', 'has_sqft_lot15', 'has_sqft_all'] from the DataFrame. \n",
    "\n",
    "#### What do you find? Write down your findings and delete all these columns from DataFrame."
   ]
  },
  {
   "cell_type": "code",
   "execution_count": 167,
   "metadata": {},
   "outputs": [
    {
     "data": {
      "text/plain": [
       "<seaborn.axisgrid.PairGrid at 0x12b12070e20>"
      ]
     },
     "execution_count": 167,
     "metadata": {},
     "output_type": "execute_result"
    },
    {
     "data": {
      "image/png": "[encoded data removed]",
      "text/plain": [
       "<Figure size 1080x1080 with 42 Axes>"
      ]
     },
     "metadata": {
      "needs_background": "light"
     },
     "output_type": "display_data"
    }
   ],
   "source": [
    "sns.pairplot(df[['has_sqft_living', 'has_sqft_lot', 'has_sqft_above', 'has_sqft_living15', 'has_sqft_lot15', 'has_sqft_all']])\n",
    "\n",
    "\n"
   ]
  },
  {
   "cell_type": "markdown",
   "metadata": {},
   "source": [
    "#### Write down your findings down below, and answer why do we need to drop them?"
   ]
  },
  {
   "cell_type": "code",
   "execution_count": 168,
   "metadata": {},
   "outputs": [],
   "source": [
    "# Answer: \n",
    "#These features have no spread and all the data is at 1, \n",
    "#meaning they are highly related\n",
    "#so there will be no benifit to including these features, \n",
    "#they will only hurt the model\n",
    "\n",
    "# These features are all constant\n",
    "\n"
   ]
  },
  {
   "cell_type": "markdown",
   "metadata": {},
   "source": [
    "#### Drop all the aforementioned columns from the DataFrame"
   ]
  },
  {
   "cell_type": "code",
   "execution_count": 169,
   "metadata": {},
   "outputs": [],
   "source": [
    "df.drop(['has_sqft_living', 'has_sqft_lot', 'has_sqft_above', 'has_sqft_living15', 'has_sqft_lot15', 'has_sqft_all'], axis = 1, inplace=True)\n",
    "\n",
    "\n"
   ]
  },
  {
   "cell_type": "code",
   "execution_count": 170,
   "metadata": {},
   "outputs": [
    {
     "data": {
      "text/plain": [
       "Index(['price', 'bedrooms', 'bathrooms', 'sqft_living', 'sqft_lot', 'floors',\n",
       "       'waterfront', 'view', 'condition', 'grade', 'sqft_above',\n",
       "       'sqft_basement', 'yr_built', 'yr_renovated', 'zipcode', 'lat', 'long',\n",
       "       'sqft_living15', 'sqft_lot15', 'sqft_all', 'rcprice', 'has_wine_bar',\n",
       "       'garage_type', 'sqft_living2', 'sqft_lot2', 'sqft_above2',\n",
       "       'has_sqft_basement', 'sqft_basement2', 'sqft_living152', 'sqft_lot152',\n",
       "       'sqft_all2'],\n",
       "      dtype='object')"
      ]
     },
     "execution_count": 170,
     "metadata": {},
     "output_type": "execute_result"
    }
   ],
   "source": [
    "## Double check if the columns are gone\n",
    "df.columns"
   ]
  },
  {
   "cell_type": "markdown",
   "metadata": {},
   "source": [
    "## Question 7: Feature Selection the 2nd Pass\n",
    "\n",
    "#### Have you noticed there are many highly correlated columns that can be identified by their names? It's safe to just keep one from each group!\n",
    "\n",
    "```\n",
    "Group 1: ['sqft_living', 'sqft_living15', 'sqft_living2', 'sqft_living152']\n",
    "Group 2: ['sqft_lot', 'sqft_lot15', 'sqft_lot2', 'sqft_lot152']\n",
    "Group 3: ['sqft_above', 'sqft_above2']\n",
    "Group 4: ['sqft_basement', 'sqft_basement2']\n",
    "Group 5: ['sqft_all', 'sqft_all2']\n",
    "```"
   ]
  },
  {
   "cell_type": "markdown",
   "metadata": {},
   "source": [
    "#### Let's first check out the correlation table for each group"
   ]
  },
  {
   "cell_type": "code",
   "execution_count": 171,
   "metadata": {},
   "outputs": [
    {
     "data": {
      "text/html": [
       "<div>\n",
       "<style scoped>\n",
       "    .dataframe tbody tr th:only-of-type {\n",
       "        vertical-align: middle;\n",
       "    }\n",
       "\n",
       "    .dataframe tbody tr th {\n",
       "        vertical-align: top;\n",
       "    }\n",
       "\n",
       "    .dataframe thead th {\n",
       "        text-align: right;\n",
       "    }\n",
       "</style>\n",
       "<table border=\"1\" class=\"dataframe\">\n",
       "  <thead>\n",
       "    <tr style=\"text-align: right;\">\n",
       "      <th></th>\n",
       "      <th>sqft_living</th>\n",
       "      <th>sqft_living15</th>\n",
       "      <th>sqft_living2</th>\n",
       "      <th>sqft_living152</th>\n",
       "    </tr>\n",
       "  </thead>\n",
       "  <tbody>\n",
       "    <tr>\n",
       "      <th>sqft_living</th>\n",
       "      <td>1.000000</td>\n",
       "      <td>0.756074</td>\n",
       "      <td>0.987358</td>\n",
       "      <td>0.748243</td>\n",
       "    </tr>\n",
       "    <tr>\n",
       "      <th>sqft_living15</th>\n",
       "      <td>0.756074</td>\n",
       "      <td>1.000000</td>\n",
       "      <td>0.756974</td>\n",
       "      <td>0.994109</td>\n",
       "    </tr>\n",
       "    <tr>\n",
       "      <th>sqft_living2</th>\n",
       "      <td>0.987358</td>\n",
       "      <td>0.756974</td>\n",
       "      <td>1.000000</td>\n",
       "      <td>0.757893</td>\n",
       "    </tr>\n",
       "    <tr>\n",
       "      <th>sqft_living152</th>\n",
       "      <td>0.748243</td>\n",
       "      <td>0.994109</td>\n",
       "      <td>0.757893</td>\n",
       "      <td>1.000000</td>\n",
       "    </tr>\n",
       "  </tbody>\n",
       "</table>\n",
       "</div>"
      ],
      "text/plain": [
       "                sqft_living  sqft_living15  sqft_living2  sqft_living152\n",
       "sqft_living        1.000000       0.756074      0.987358        0.748243\n",
       "sqft_living15      0.756074       1.000000      0.756974        0.994109\n",
       "sqft_living2       0.987358       0.756974      1.000000        0.757893\n",
       "sqft_living152     0.748243       0.994109      0.757893        1.000000"
      ]
     },
     "execution_count": 171,
     "metadata": {},
     "output_type": "execute_result"
    }
   ],
   "source": [
    "df[['sqft_living', 'sqft_living15', 'sqft_living2', 'sqft_living152']].corr()"
   ]
  },
  {
   "cell_type": "code",
   "execution_count": 172,
   "metadata": {},
   "outputs": [
    {
     "data": {
      "text/html": [
       "<div>\n",
       "<style scoped>\n",
       "    .dataframe tbody tr th:only-of-type {\n",
       "        vertical-align: middle;\n",
       "    }\n",
       "\n",
       "    .dataframe tbody tr th {\n",
       "        vertical-align: top;\n",
       "    }\n",
       "\n",
       "    .dataframe thead th {\n",
       "        text-align: right;\n",
       "    }\n",
       "</style>\n",
       "<table border=\"1\" class=\"dataframe\">\n",
       "  <thead>\n",
       "    <tr style=\"text-align: right;\">\n",
       "      <th></th>\n",
       "      <th>sqft_lot</th>\n",
       "      <th>sqft_lot15</th>\n",
       "      <th>sqft_lot2</th>\n",
       "      <th>sqft_lot152</th>\n",
       "    </tr>\n",
       "  </thead>\n",
       "  <tbody>\n",
       "    <tr>\n",
       "      <th>sqft_lot</th>\n",
       "      <td>1.000000</td>\n",
       "      <td>0.718557</td>\n",
       "      <td>0.899933</td>\n",
       "      <td>0.696331</td>\n",
       "    </tr>\n",
       "    <tr>\n",
       "      <th>sqft_lot15</th>\n",
       "      <td>0.718557</td>\n",
       "      <td>1.000000</td>\n",
       "      <td>0.770809</td>\n",
       "      <td>0.925140</td>\n",
       "    </tr>\n",
       "    <tr>\n",
       "      <th>sqft_lot2</th>\n",
       "      <td>0.899933</td>\n",
       "      <td>0.770809</td>\n",
       "      <td>1.000000</td>\n",
       "      <td>0.859910</td>\n",
       "    </tr>\n",
       "    <tr>\n",
       "      <th>sqft_lot152</th>\n",
       "      <td>0.696331</td>\n",
       "      <td>0.925140</td>\n",
       "      <td>0.859910</td>\n",
       "      <td>1.000000</td>\n",
       "    </tr>\n",
       "  </tbody>\n",
       "</table>\n",
       "</div>"
      ],
      "text/plain": [
       "             sqft_lot  sqft_lot15  sqft_lot2  sqft_lot152\n",
       "sqft_lot     1.000000    0.718557   0.899933     0.696331\n",
       "sqft_lot15   0.718557    1.000000   0.770809     0.925140\n",
       "sqft_lot2    0.899933    0.770809   1.000000     0.859910\n",
       "sqft_lot152  0.696331    0.925140   0.859910     1.000000"
      ]
     },
     "execution_count": 172,
     "metadata": {},
     "output_type": "execute_result"
    }
   ],
   "source": [
    "df[['sqft_lot', 'sqft_lot15', 'sqft_lot2', 'sqft_lot152']].corr()"
   ]
  },
  {
   "cell_type": "code",
   "execution_count": 173,
   "metadata": {},
   "outputs": [
    {
     "data": {
      "text/html": [
       "<div>\n",
       "<style scoped>\n",
       "    .dataframe tbody tr th:only-of-type {\n",
       "        vertical-align: middle;\n",
       "    }\n",
       "\n",
       "    .dataframe tbody tr th {\n",
       "        vertical-align: top;\n",
       "    }\n",
       "\n",
       "    .dataframe thead th {\n",
       "        text-align: right;\n",
       "    }\n",
       "</style>\n",
       "<table border=\"1\" class=\"dataframe\">\n",
       "  <thead>\n",
       "    <tr style=\"text-align: right;\">\n",
       "      <th></th>\n",
       "      <th>sqft_above</th>\n",
       "      <th>sqft_above2</th>\n",
       "    </tr>\n",
       "  </thead>\n",
       "  <tbody>\n",
       "    <tr>\n",
       "      <th>sqft_above</th>\n",
       "      <td>1.000000</td>\n",
       "      <td>0.990104</td>\n",
       "    </tr>\n",
       "    <tr>\n",
       "      <th>sqft_above2</th>\n",
       "      <td>0.990104</td>\n",
       "      <td>1.000000</td>\n",
       "    </tr>\n",
       "  </tbody>\n",
       "</table>\n",
       "</div>"
      ],
      "text/plain": [
       "             sqft_above  sqft_above2\n",
       "sqft_above     1.000000     0.990104\n",
       "sqft_above2    0.990104     1.000000"
      ]
     },
     "execution_count": 173,
     "metadata": {},
     "output_type": "execute_result"
    }
   ],
   "source": [
    "df[['sqft_above', 'sqft_above2']].corr()\n",
    "\n"
   ]
  },
  {
   "cell_type": "code",
   "execution_count": 174,
   "metadata": {},
   "outputs": [
    {
     "data": {
      "text/html": [
       "<div>\n",
       "<style scoped>\n",
       "    .dataframe tbody tr th:only-of-type {\n",
       "        vertical-align: middle;\n",
       "    }\n",
       "\n",
       "    .dataframe tbody tr th {\n",
       "        vertical-align: top;\n",
       "    }\n",
       "\n",
       "    .dataframe thead th {\n",
       "        text-align: right;\n",
       "    }\n",
       "</style>\n",
       "<table border=\"1\" class=\"dataframe\">\n",
       "  <thead>\n",
       "    <tr style=\"text-align: right;\">\n",
       "      <th></th>\n",
       "      <th>sqft_basement</th>\n",
       "      <th>sqft_basement2</th>\n",
       "    </tr>\n",
       "  </thead>\n",
       "  <tbody>\n",
       "    <tr>\n",
       "      <th>sqft_basement</th>\n",
       "      <td>1.000000</td>\n",
       "      <td>0.962298</td>\n",
       "    </tr>\n",
       "    <tr>\n",
       "      <th>sqft_basement2</th>\n",
       "      <td>0.962298</td>\n",
       "      <td>1.000000</td>\n",
       "    </tr>\n",
       "  </tbody>\n",
       "</table>\n",
       "</div>"
      ],
      "text/plain": [
       "                sqft_basement  sqft_basement2\n",
       "sqft_basement        1.000000        0.962298\n",
       "sqft_basement2       0.962298        1.000000"
      ]
     },
     "execution_count": 174,
     "metadata": {},
     "output_type": "execute_result"
    }
   ],
   "source": [
    "df[['sqft_basement', 'sqft_basement2']].corr()\n",
    "\n"
   ]
  },
  {
   "cell_type": "code",
   "execution_count": 175,
   "metadata": {},
   "outputs": [
    {
     "data": {
      "text/html": [
       "<div>\n",
       "<style scoped>\n",
       "    .dataframe tbody tr th:only-of-type {\n",
       "        vertical-align: middle;\n",
       "    }\n",
       "\n",
       "    .dataframe tbody tr th {\n",
       "        vertical-align: top;\n",
       "    }\n",
       "\n",
       "    .dataframe thead th {\n",
       "        text-align: right;\n",
       "    }\n",
       "</style>\n",
       "<table border=\"1\" class=\"dataframe\">\n",
       "  <thead>\n",
       "    <tr style=\"text-align: right;\">\n",
       "      <th></th>\n",
       "      <th>sqft_all</th>\n",
       "      <th>sqft_all2</th>\n",
       "    </tr>\n",
       "  </thead>\n",
       "  <tbody>\n",
       "    <tr>\n",
       "      <th>sqft_all</th>\n",
       "      <td>1.000000</td>\n",
       "      <td>0.930968</td>\n",
       "    </tr>\n",
       "    <tr>\n",
       "      <th>sqft_all2</th>\n",
       "      <td>0.930968</td>\n",
       "      <td>1.000000</td>\n",
       "    </tr>\n",
       "  </tbody>\n",
       "</table>\n",
       "</div>"
      ],
      "text/plain": [
       "           sqft_all  sqft_all2\n",
       "sqft_all   1.000000   0.930968\n",
       "sqft_all2  0.930968   1.000000"
      ]
     },
     "execution_count": 175,
     "metadata": {},
     "output_type": "execute_result"
    }
   ],
   "source": [
    "df[['sqft_all', 'sqft_all2']].corr()"
   ]
  },
  {
   "cell_type": "markdown",
   "metadata": {},
   "source": [
    "#### Now just keep the first feature from each group and remove everything else."
   ]
  },
  {
   "cell_type": "code",
   "execution_count": 176,
   "metadata": {},
   "outputs": [],
   "source": [
    "df.drop(['sqft_living15', 'sqft_living2', 'sqft_living152', 'sqft_lot15', 'sqft_lot2', 'sqft_lot152', 'sqft_above2', 'sqft_basement2', 'sqft_all2'], axis = 1, inplace=True)\n"
   ]
  },
  {
   "cell_type": "code",
   "execution_count": 177,
   "metadata": {},
   "outputs": [
    {
     "data": {
      "text/plain": [
       "Index(['price', 'bedrooms', 'bathrooms', 'sqft_living', 'sqft_lot', 'floors',\n",
       "       'waterfront', 'view', 'condition', 'grade', 'sqft_above',\n",
       "       'sqft_basement', 'yr_built', 'yr_renovated', 'zipcode', 'lat', 'long',\n",
       "       'sqft_all', 'rcprice', 'has_wine_bar', 'garage_type',\n",
       "       'has_sqft_basement'],\n",
       "      dtype='object')"
      ]
     },
     "execution_count": 177,
     "metadata": {},
     "output_type": "execute_result"
    }
   ],
   "source": [
    "# Check the columns after feature selection\n",
    "df.columns"
   ]
  },
  {
   "cell_type": "markdown",
   "metadata": {},
   "source": [
    "## Question 8: Split the Data\n",
    "\n",
    "#### Use all columns except the `price` column to create a feature matrix X, and use the `price` column to create the y vector.\n",
    "#### Then split X, y with 80% for training set, and use random seed as 101."
   ]
  },
  {
   "cell_type": "code",
   "execution_count": 178,
   "metadata": {},
   "outputs": [],
   "source": [
    "X = df.drop('price', axis = 1)\n",
    "\n",
    "\n",
    "y = df['price']\n",
    "\n"
   ]
  },
  {
   "cell_type": "code",
   "execution_count": 179,
   "metadata": {},
   "outputs": [],
   "source": [
    "from sklearn.model_selection import train_test_split"
   ]
  },
  {
   "cell_type": "code",
   "execution_count": 180,
   "metadata": {},
   "outputs": [],
   "source": [
    "# Split the data\n",
    "X_train, X_test, y_train, y_test = train_test_split(X, y, test_size=0.2, random_state=101)\n"
   ]
  },
  {
   "cell_type": "code",
   "execution_count": 181,
   "metadata": {},
   "outputs": [
    {
     "name": "stdout",
     "output_type": "stream",
     "text": [
      "X_train dimension:  (17290, 21)\n",
      "X_test dimension:  (4323, 21)\n"
     ]
    }
   ],
   "source": [
    "print('X_train dimension: ', X_train.shape)\n",
    "print('X_test dimension: ', X_test.shape)"
   ]
  },
  {
   "cell_type": "markdown",
   "metadata": {},
   "source": [
    "## Question 9: Data Transformation\n",
    "\n",
    "#### Standardize all features for both training and testing sets so that they have zero mean and unit variance."
   ]
  },
  {
   "cell_type": "code",
   "execution_count": 182,
   "metadata": {},
   "outputs": [],
   "source": [
    "from sklearn.preprocessing import StandardScaler\n",
    "sc = StandardScaler()\n",
    "\n"
   ]
  },
  {
   "cell_type": "code",
   "execution_count": 183,
   "metadata": {},
   "outputs": [],
   "source": [
    "X_train = sc.fit_transform(X_train.values)"
   ]
  },
  {
   "cell_type": "code",
   "execution_count": 184,
   "metadata": {},
   "outputs": [],
   "source": [
    "X_test = sc.transform(X_test.values)"
   ]
  },
  {
   "cell_type": "markdown",
   "metadata": {},
   "source": [
    "#### Then fit the training set to a Linear Regressor and find the $R^2$ score of the predicted results."
   ]
  },
  {
   "cell_type": "code",
   "execution_count": 185,
   "metadata": {},
   "outputs": [],
   "source": [
    "from sklearn.linear_model import LinearRegression"
   ]
  },
  {
   "cell_type": "code",
   "execution_count": 186,
   "metadata": {},
   "outputs": [],
   "source": [
    "lm = LinearRegression()"
   ]
  },
  {
   "cell_type": "code",
   "execution_count": 187,
   "metadata": {},
   "outputs": [
    {
     "data": {
      "text/html": [
       "<style>#sk-container-id-6 {color: black;background-color: white;}#sk-container-id-6 pre{padding: 0;}#sk-container-id-6 div.sk-toggleable {background-color: white;}#sk-container-id-6 label.sk-toggleable__label {cursor: pointer;display: block;width: 100%;margin-bottom: 0;padding: 0.3em;box-sizing: border-box;text-align: center;}#sk-container-id-6 label.sk-toggleable__label-arrow:before {content: \"▸\";float: left;margin-right: 0.25em;color: #696969;}#sk-container-id-6 label.sk-toggleable__label-arrow:hover:before {color: black;}#sk-container-id-6 div.sk-estimator:hover label.sk-toggleable__label-arrow:before {color: black;}#sk-container-id-6 div.sk-toggleable__content {max-height: 0;max-width: 0;overflow: hidden;text-align: left;background-color: #f0f8ff;}#sk-container-id-6 div.sk-toggleable__content pre {margin: 0.2em;color: black;border-radius: 0.25em;background-color: #f0f8ff;}#sk-container-id-6 input.sk-toggleable__control:checked~div.sk-toggleable__content {max-height: 200px;max-width: 100%;overflow: auto;}#sk-container-id-6 input.sk-toggleable__control:checked~label.sk-toggleable__label-arrow:before {content: \"▾\";}#sk-container-id-6 div.sk-estimator input.sk-toggleable__control:checked~label.sk-toggleable__label {background-color: #d4ebff;}#sk-container-id-6 div.sk-label input.sk-toggleable__control:checked~label.sk-toggleable__label {background-color: #d4ebff;}#sk-container-id-6 input.sk-hidden--visually {border: 0;clip: rect(1px 1px 1px 1px);clip: rect(1px, 1px, 1px, 1px);height: 1px;margin: -1px;overflow: hidden;padding: 0;position: absolute;width: 1px;}#sk-container-id-6 div.sk-estimator {font-family: monospace;background-color: #f0f8ff;border: 1px dotted black;border-radius: 0.25em;box-sizing: border-box;margin-bottom: 0.5em;}#sk-container-id-6 div.sk-estimator:hover {background-color: #d4ebff;}#sk-container-id-6 div.sk-parallel-item::after {content: \"\";width: 100%;border-bottom: 1px solid gray;flex-grow: 1;}#sk-container-id-6 div.sk-label:hover label.sk-toggleable__label {background-color: #d4ebff;}#sk-container-id-6 div.sk-serial::before {content: \"\";position: absolute;border-left: 1px solid gray;box-sizing: border-box;top: 0;bottom: 0;left: 50%;z-index: 0;}#sk-container-id-6 div.sk-serial {display: flex;flex-direction: column;align-items: center;background-color: white;padding-right: 0.2em;padding-left: 0.2em;position: relative;}#sk-container-id-6 div.sk-item {position: relative;z-index: 1;}#sk-container-id-6 div.sk-parallel {display: flex;align-items: stretch;justify-content: center;background-color: white;position: relative;}#sk-container-id-6 div.sk-item::before, #sk-container-id-6 div.sk-parallel-item::before {content: \"\";position: absolute;border-left: 1px solid gray;box-sizing: border-box;top: 0;bottom: 0;left: 50%;z-index: -1;}#sk-container-id-6 div.sk-parallel-item {display: flex;flex-direction: column;z-index: 1;position: relative;background-color: white;}#sk-container-id-6 div.sk-parallel-item:first-child::after {align-self: flex-end;width: 50%;}#sk-container-id-6 div.sk-parallel-item:last-child::after {align-self: flex-start;width: 50%;}#sk-container-id-6 div.sk-parallel-item:only-child::after {width: 0;}#sk-container-id-6 div.sk-dashed-wrapped {border: 1px dashed gray;margin: 0 0.4em 0.5em 0.4em;box-sizing: border-box;padding-bottom: 0.4em;background-color: white;}#sk-container-id-6 div.sk-label label {font-family: monospace;font-weight: bold;display: inline-block;line-height: 1.2em;}#sk-container-id-6 div.sk-label-container {text-align: center;}#sk-container-id-6 div.sk-container {/* jupyter's `normalize.less` sets `[hidden] { display: none; }` but bootstrap.min.css set `[hidden] { display: none !important; }` so we also need the `!important` here to be able to override the default hidden behavior on the sphinx rendered scikit-learn.org. See: https://github.com/scikit-learn/scikit-learn/issues/21755 */display: inline-block !important;position: relative;}#sk-container-id-6 div.sk-text-repr-fallback {display: none;}</style><div id=\"sk-container-id-6\" class=\"sk-top-container\"><div class=\"sk-text-repr-fallback\"><pre>LinearRegression()</pre><b>In a Jupyter environment, please rerun this cell to show the HTML representation or trust the notebook. <br />On GitHub, the HTML representation is unable to render, please try loading this page with nbviewer.org.</b></div><div class=\"sk-container\" hidden><div class=\"sk-item\"><div class=\"sk-estimator sk-toggleable\"><input class=\"sk-toggleable__control sk-hidden--visually\" id=\"sk-estimator-id-6\" type=\"checkbox\" checked><label for=\"sk-estimator-id-6\" class=\"sk-toggleable__label sk-toggleable__label-arrow\">LinearRegression</label><div class=\"sk-toggleable__content\"><pre>LinearRegression()</pre></div></div></div></div></div>"
      ],
      "text/plain": [
       "LinearRegression()"
      ]
     },
     "execution_count": 187,
     "metadata": {},
     "output_type": "execute_result"
    }
   ],
   "source": [
    "lm.fit(X_train, y_train)"
   ]
  },
  {
   "cell_type": "code",
   "execution_count": 188,
   "metadata": {},
   "outputs": [],
   "source": [
    "pred = lm.predict(X_test)"
   ]
  },
  {
   "cell_type": "code",
   "execution_count": 189,
   "metadata": {},
   "outputs": [],
   "source": [
    "from sklearn.metrics import r2_score"
   ]
  },
  {
   "cell_type": "code",
   "execution_count": 190,
   "metadata": {},
   "outputs": [
    {
     "name": "stdout",
     "output_type": "stream",
     "text": [
      "R2: 0.7088156883158795\n"
     ]
    }
   ],
   "source": [
    "print('R2:',r2_score(y_test, pred))\n",
    "\n",
    "\n",
    "\n"
   ]
  },
  {
   "cell_type": "markdown",
   "metadata": {},
   "source": [
    "## Question 10: Feature Regularization\n",
    "\n",
    "\n",
    "### Regularized Linear Models\n",
    "\n",
    "We have learned that polynomial regression fits a n-th order polynomial to our data using least squares. There’s a question that we didn’t answer: which order of the polynomial should we choose? Clearly, the higher the order of the polynomial, the higher the complexity of the model. However, having too high of the order will lead to an over-fitted model. In practice, we use the regularization technique to apply a penalty on the coefficients to prevent overfitting. \n",
    "\n",
    "There are two well-known approaches: \n",
    "\n",
    "+ Ridge regression\n",
    "+ Lasso regression\n",
    "\n",
    "Ridge regression puts an L2 norm penalty on the regression coefficients. Another popular regularization technique is the LASSO, a technique which puts an L1 norm penalty instead. The difference between the two is that the LASSO leads to sparse solutions, driving most coefficients to zero, whereas Ridge Regression leads to dense solutions, in which most coefficients are non-zero. Due to its tendency to prefer solutions with fewer non-zero coefficients in Lasso regression, it can effectively reduce the number of features upon which the given solution is dependent.\n"
   ]
  },
  {
   "cell_type": "markdown",
   "metadata": {},
   "source": [
    "### Sklearn Implementation\n",
    "\n",
    "In Sklearn, one can refer to this [page](https://scikit-learn.org/stable/modules/linear_model.html) for the concrete examples of ridge and lasso regressions. \n",
    "\n",
    "Among all the hyper-parameters, the alpha parameter is the utmost important. It is the complexity parameter that controls the amount of shrinkage: the larger the value of alpha, the greater the amount of shrinkage and thus the coefficients become more robust to collinearity.\n",
    "\n",
    "The alpha parameter needs to be tuned on each dataset. The default parameter will not lead to the optimal model. Therefore, we need to tune the alpha parameter with cross-validation.\n",
    "\n",
    "`RidgeCV()` and `LassoCV()` are the cross-validation versions of the ridge and lasso implementation. "
   ]
  },
  {
   "cell_type": "markdown",
   "metadata": {},
   "source": [
    "#### Use the `alpha` given below, fit the dataset to a `RidgeCV()` model"
   ]
  },
  {
   "cell_type": "code",
   "execution_count": 191,
   "metadata": {},
   "outputs": [],
   "source": [
    "# import libraries and create alphas.\n",
    "\n",
    "from sklearn.linear_model import Ridge, RidgeCV, Lasso, LassoCV\n",
    "n_alphas = 200\n",
    "alphas = np.logspace(-10, -2, n_alphas)"
   ]
  },
  {
   "cell_type": "markdown",
   "metadata": {},
   "source": [
    "#### Use 10-fold cross validation to train `RidgeCV()`."
   ]
  },
  {
   "cell_type": "code",
   "execution_count": 192,
   "metadata": {},
   "outputs": [
    {
     "data": {
      "text/html": [
       "<style>#sk-container-id-7 {color: black;background-color: white;}#sk-container-id-7 pre{padding: 0;}#sk-container-id-7 div.sk-toggleable {background-color: white;}#sk-container-id-7 label.sk-toggleable__label {cursor: pointer;display: block;width: 100%;margin-bottom: 0;padding: 0.3em;box-sizing: border-box;text-align: center;}#sk-container-id-7 label.sk-toggleable__label-arrow:before {content: \"▸\";float: left;margin-right: 0.25em;color: #696969;}#sk-container-id-7 label.sk-toggleable__label-arrow:hover:before {color: black;}#sk-container-id-7 div.sk-estimator:hover label.sk-toggleable__label-arrow:before {color: black;}#sk-container-id-7 div.sk-toggleable__content {max-height: 0;max-width: 0;overflow: hidden;text-align: left;background-color: #f0f8ff;}#sk-container-id-7 div.sk-toggleable__content pre {margin: 0.2em;color: black;border-radius: 0.25em;background-color: #f0f8ff;}#sk-container-id-7 input.sk-toggleable__control:checked~div.sk-toggleable__content {max-height: 200px;max-width: 100%;overflow: auto;}#sk-container-id-7 input.sk-toggleable__control:checked~label.sk-toggleable__label-arrow:before {content: \"▾\";}#sk-container-id-7 div.sk-estimator input.sk-toggleable__control:checked~label.sk-toggleable__label {background-color: #d4ebff;}#sk-container-id-7 div.sk-label input.sk-toggleable__control:checked~label.sk-toggleable__label {background-color: #d4ebff;}#sk-container-id-7 input.sk-hidden--visually {border: 0;clip: rect(1px 1px 1px 1px);clip: rect(1px, 1px, 1px, 1px);height: 1px;margin: -1px;overflow: hidden;padding: 0;position: absolute;width: 1px;}#sk-container-id-7 div.sk-estimator {font-family: monospace;background-color: #f0f8ff;border: 1px dotted black;border-radius: 0.25em;box-sizing: border-box;margin-bottom: 0.5em;}#sk-container-id-7 div.sk-estimator:hover {background-color: #d4ebff;}#sk-container-id-7 div.sk-parallel-item::after {content: \"\";width: 100%;border-bottom: 1px solid gray;flex-grow: 1;}#sk-container-id-7 div.sk-label:hover label.sk-toggleable__label {background-color: #d4ebff;}#sk-container-id-7 div.sk-serial::before {content: \"\";position: absolute;border-left: 1px solid gray;box-sizing: border-box;top: 0;bottom: 0;left: 50%;z-index: 0;}#sk-container-id-7 div.sk-serial {display: flex;flex-direction: column;align-items: center;background-color: white;padding-right: 0.2em;padding-left: 0.2em;position: relative;}#sk-container-id-7 div.sk-item {position: relative;z-index: 1;}#sk-container-id-7 div.sk-parallel {display: flex;align-items: stretch;justify-content: center;background-color: white;position: relative;}#sk-container-id-7 div.sk-item::before, #sk-container-id-7 div.sk-parallel-item::before {content: \"\";position: absolute;border-left: 1px solid gray;box-sizing: border-box;top: 0;bottom: 0;left: 50%;z-index: -1;}#sk-container-id-7 div.sk-parallel-item {display: flex;flex-direction: column;z-index: 1;position: relative;background-color: white;}#sk-container-id-7 div.sk-parallel-item:first-child::after {align-self: flex-end;width: 50%;}#sk-container-id-7 div.sk-parallel-item:last-child::after {align-self: flex-start;width: 50%;}#sk-container-id-7 div.sk-parallel-item:only-child::after {width: 0;}#sk-container-id-7 div.sk-dashed-wrapped {border: 1px dashed gray;margin: 0 0.4em 0.5em 0.4em;box-sizing: border-box;padding-bottom: 0.4em;background-color: white;}#sk-container-id-7 div.sk-label label {font-family: monospace;font-weight: bold;display: inline-block;line-height: 1.2em;}#sk-container-id-7 div.sk-label-container {text-align: center;}#sk-container-id-7 div.sk-container {/* jupyter's `normalize.less` sets `[hidden] { display: none; }` but bootstrap.min.css set `[hidden] { display: none !important; }` so we also need the `!important` here to be able to override the default hidden behavior on the sphinx rendered scikit-learn.org. See: https://github.com/scikit-learn/scikit-learn/issues/21755 */display: inline-block !important;position: relative;}#sk-container-id-7 div.sk-text-repr-fallback {display: none;}</style><div id=\"sk-container-id-7\" class=\"sk-top-container\"><div class=\"sk-text-repr-fallback\"><pre>RidgeCV(alphas=array([1.00000000e-10, 1.09698580e-10, 1.20337784e-10, 1.32008840e-10,\n",
       "       1.44811823e-10, 1.58856513e-10, 1.74263339e-10, 1.91164408e-10,\n",
       "       2.09704640e-10, 2.30043012e-10, 2.52353917e-10, 2.76828663e-10,\n",
       "       3.03677112e-10, 3.33129479e-10, 3.65438307e-10, 4.00880633e-10,\n",
       "       4.39760361e-10, 4.82410870e-10, 5.29197874e-10, 5.80522552e-10,\n",
       "       6.36824994e-10, 6.98587975e-1...\n",
       "       1.18953407e-03, 1.30490198e-03, 1.43145894e-03, 1.57029012e-03,\n",
       "       1.72258597e-03, 1.88965234e-03, 2.07292178e-03, 2.27396575e-03,\n",
       "       2.49450814e-03, 2.73644000e-03, 3.00183581e-03, 3.29297126e-03,\n",
       "       3.61234270e-03, 3.96268864e-03, 4.34701316e-03, 4.76861170e-03,\n",
       "       5.23109931e-03, 5.73844165e-03, 6.29498899e-03, 6.90551352e-03,\n",
       "       7.57525026e-03, 8.30994195e-03, 9.11588830e-03, 1.00000000e-02]))</pre><b>In a Jupyter environment, please rerun this cell to show the HTML representation or trust the notebook. <br />On GitHub, the HTML representation is unable to render, please try loading this page with nbviewer.org.</b></div><div class=\"sk-container\" hidden><div class=\"sk-item\"><div class=\"sk-estimator sk-toggleable\"><input class=\"sk-toggleable__control sk-hidden--visually\" id=\"sk-estimator-id-7\" type=\"checkbox\" checked><label for=\"sk-estimator-id-7\" class=\"sk-toggleable__label sk-toggleable__label-arrow\">RidgeCV</label><div class=\"sk-toggleable__content\"><pre>RidgeCV(alphas=array([1.00000000e-10, 1.09698580e-10, 1.20337784e-10, 1.32008840e-10,\n",
       "       1.44811823e-10, 1.58856513e-10, 1.74263339e-10, 1.91164408e-10,\n",
       "       2.09704640e-10, 2.30043012e-10, 2.52353917e-10, 2.76828663e-10,\n",
       "       3.03677112e-10, 3.33129479e-10, 3.65438307e-10, 4.00880633e-10,\n",
       "       4.39760361e-10, 4.82410870e-10, 5.29197874e-10, 5.80522552e-10,\n",
       "       6.36824994e-10, 6.98587975e-1...\n",
       "       1.18953407e-03, 1.30490198e-03, 1.43145894e-03, 1.57029012e-03,\n",
       "       1.72258597e-03, 1.88965234e-03, 2.07292178e-03, 2.27396575e-03,\n",
       "       2.49450814e-03, 2.73644000e-03, 3.00183581e-03, 3.29297126e-03,\n",
       "       3.61234270e-03, 3.96268864e-03, 4.34701316e-03, 4.76861170e-03,\n",
       "       5.23109931e-03, 5.73844165e-03, 6.29498899e-03, 6.90551352e-03,\n",
       "       7.57525026e-03, 8.30994195e-03, 9.11588830e-03, 1.00000000e-02]))</pre></div></div></div></div></div>"
      ],
      "text/plain": [
       "RidgeCV(alphas=array([1.00000000e-10, 1.09698580e-10, 1.20337784e-10, 1.32008840e-10,\n",
       "       1.44811823e-10, 1.58856513e-10, 1.74263339e-10, 1.91164408e-10,\n",
       "       2.09704640e-10, 2.30043012e-10, 2.52353917e-10, 2.76828663e-10,\n",
       "       3.03677112e-10, 3.33129479e-10, 3.65438307e-10, 4.00880633e-10,\n",
       "       4.39760361e-10, 4.82410870e-10, 5.29197874e-10, 5.80522552e-10,\n",
       "       6.36824994e-10, 6.98587975e-1...\n",
       "       1.18953407e-03, 1.30490198e-03, 1.43145894e-03, 1.57029012e-03,\n",
       "       1.72258597e-03, 1.88965234e-03, 2.07292178e-03, 2.27396575e-03,\n",
       "       2.49450814e-03, 2.73644000e-03, 3.00183581e-03, 3.29297126e-03,\n",
       "       3.61234270e-03, 3.96268864e-03, 4.34701316e-03, 4.76861170e-03,\n",
       "       5.23109931e-03, 5.73844165e-03, 6.29498899e-03, 6.90551352e-03,\n",
       "       7.57525026e-03, 8.30994195e-03, 9.11588830e-03, 1.00000000e-02]))"
      ]
     },
     "execution_count": 192,
     "metadata": {},
     "output_type": "execute_result"
    }
   ],
   "source": [
    "clf = RidgeCV(alphas=alphas)\n",
    "\n",
    "clf.fit(X_train, y_train)"
   ]
  },
  {
   "cell_type": "markdown",
   "metadata": {},
   "source": [
    "#### Obtain the optimal `alpha` from the trained `RidgeCV` object. Then re-train a `Ridge()` model with the optimal alpha. Show the final $R^2$ score."
   ]
  },
  {
   "cell_type": "code",
   "execution_count": 193,
   "metadata": {},
   "outputs": [
    {
     "data": {
      "text/plain": [
       "0.01"
      ]
     },
     "execution_count": 193,
     "metadata": {},
     "output_type": "execute_result"
    }
   ],
   "source": [
    "clf.alpha_"
   ]
  },
  {
   "cell_type": "code",
   "execution_count": 194,
   "metadata": {},
   "outputs": [
    {
     "data": {
      "text/html": [
       "<style>#sk-container-id-8 {color: black;background-color: white;}#sk-container-id-8 pre{padding: 0;}#sk-container-id-8 div.sk-toggleable {background-color: white;}#sk-container-id-8 label.sk-toggleable__label {cursor: pointer;display: block;width: 100%;margin-bottom: 0;padding: 0.3em;box-sizing: border-box;text-align: center;}#sk-container-id-8 label.sk-toggleable__label-arrow:before {content: \"▸\";float: left;margin-right: 0.25em;color: #696969;}#sk-container-id-8 label.sk-toggleable__label-arrow:hover:before {color: black;}#sk-container-id-8 div.sk-estimator:hover label.sk-toggleable__label-arrow:before {color: black;}#sk-container-id-8 div.sk-toggleable__content {max-height: 0;max-width: 0;overflow: hidden;text-align: left;background-color: #f0f8ff;}#sk-container-id-8 div.sk-toggleable__content pre {margin: 0.2em;color: black;border-radius: 0.25em;background-color: #f0f8ff;}#sk-container-id-8 input.sk-toggleable__control:checked~div.sk-toggleable__content {max-height: 200px;max-width: 100%;overflow: auto;}#sk-container-id-8 input.sk-toggleable__control:checked~label.sk-toggleable__label-arrow:before {content: \"▾\";}#sk-container-id-8 div.sk-estimator input.sk-toggleable__control:checked~label.sk-toggleable__label {background-color: #d4ebff;}#sk-container-id-8 div.sk-label input.sk-toggleable__control:checked~label.sk-toggleable__label {background-color: #d4ebff;}#sk-container-id-8 input.sk-hidden--visually {border: 0;clip: rect(1px 1px 1px 1px);clip: rect(1px, 1px, 1px, 1px);height: 1px;margin: -1px;overflow: hidden;padding: 0;position: absolute;width: 1px;}#sk-container-id-8 div.sk-estimator {font-family: monospace;background-color: #f0f8ff;border: 1px dotted black;border-radius: 0.25em;box-sizing: border-box;margin-bottom: 0.5em;}#sk-container-id-8 div.sk-estimator:hover {background-color: #d4ebff;}#sk-container-id-8 div.sk-parallel-item::after {content: \"\";width: 100%;border-bottom: 1px solid gray;flex-grow: 1;}#sk-container-id-8 div.sk-label:hover label.sk-toggleable__label {background-color: #d4ebff;}#sk-container-id-8 div.sk-serial::before {content: \"\";position: absolute;border-left: 1px solid gray;box-sizing: border-box;top: 0;bottom: 0;left: 50%;z-index: 0;}#sk-container-id-8 div.sk-serial {display: flex;flex-direction: column;align-items: center;background-color: white;padding-right: 0.2em;padding-left: 0.2em;position: relative;}#sk-container-id-8 div.sk-item {position: relative;z-index: 1;}#sk-container-id-8 div.sk-parallel {display: flex;align-items: stretch;justify-content: center;background-color: white;position: relative;}#sk-container-id-8 div.sk-item::before, #sk-container-id-8 div.sk-parallel-item::before {content: \"\";position: absolute;border-left: 1px solid gray;box-sizing: border-box;top: 0;bottom: 0;left: 50%;z-index: -1;}#sk-container-id-8 div.sk-parallel-item {display: flex;flex-direction: column;z-index: 1;position: relative;background-color: white;}#sk-container-id-8 div.sk-parallel-item:first-child::after {align-self: flex-end;width: 50%;}#sk-container-id-8 div.sk-parallel-item:last-child::after {align-self: flex-start;width: 50%;}#sk-container-id-8 div.sk-parallel-item:only-child::after {width: 0;}#sk-container-id-8 div.sk-dashed-wrapped {border: 1px dashed gray;margin: 0 0.4em 0.5em 0.4em;box-sizing: border-box;padding-bottom: 0.4em;background-color: white;}#sk-container-id-8 div.sk-label label {font-family: monospace;font-weight: bold;display: inline-block;line-height: 1.2em;}#sk-container-id-8 div.sk-label-container {text-align: center;}#sk-container-id-8 div.sk-container {/* jupyter's `normalize.less` sets `[hidden] { display: none; }` but bootstrap.min.css set `[hidden] { display: none !important; }` so we also need the `!important` here to be able to override the default hidden behavior on the sphinx rendered scikit-learn.org. See: https://github.com/scikit-learn/scikit-learn/issues/21755 */display: inline-block !important;position: relative;}#sk-container-id-8 div.sk-text-repr-fallback {display: none;}</style><div id=\"sk-container-id-8\" class=\"sk-top-container\"><div class=\"sk-text-repr-fallback\"><pre>Ridge(alpha=0.01)</pre><b>In a Jupyter environment, please rerun this cell to show the HTML representation or trust the notebook. <br />On GitHub, the HTML representation is unable to render, please try loading this page with nbviewer.org.</b></div><div class=\"sk-container\" hidden><div class=\"sk-item\"><div class=\"sk-estimator sk-toggleable\"><input class=\"sk-toggleable__control sk-hidden--visually\" id=\"sk-estimator-id-8\" type=\"checkbox\" checked><label for=\"sk-estimator-id-8\" class=\"sk-toggleable__label sk-toggleable__label-arrow\">Ridge</label><div class=\"sk-toggleable__content\"><pre>Ridge(alpha=0.01)</pre></div></div></div></div></div>"
      ],
      "text/plain": [
       "Ridge(alpha=0.01)"
      ]
     },
     "execution_count": 194,
     "metadata": {},
     "output_type": "execute_result"
    }
   ],
   "source": [
    "rdg = Ridge(alpha=clf.alpha_)\n",
    "rdg.fit(X_train, y_train)"
   ]
  },
  {
   "cell_type": "code",
   "execution_count": 195,
   "metadata": {},
   "outputs": [],
   "source": [
    "rdgPred = rdg.predict(X_test)"
   ]
  },
  {
   "cell_type": "code",
   "execution_count": 196,
   "metadata": {},
   "outputs": [
    {
     "name": "stdout",
     "output_type": "stream",
     "text": [
      "R2: 0.7088156380173919\n"
     ]
    }
   ],
   "source": [
    "print('R2:',r2_score(y_test, rdgPred))\n",
    "\n",
    "\n"
   ]
  },
  {
   "cell_type": "markdown",
   "metadata": {},
   "source": [
    "# Great Job!"
   ]
  }
 ],
 "metadata": {
  "kernelspec": {
   "display_name": "Python 3 (ipykernel)",
   "language": "python",
   "name": "python3"
  },
  "language_info": {
   "codemirror_mode": {
    "name": "ipython",
    "version": 3
   },
   "file_extension": ".py",
   "mimetype": "text/x-python",
   "name": "python",
   "nbconvert_exporter": "python",
   "pygments_lexer": "ipython3",
   "version": "3.9.12"
  },
  "toc": {
   "base_numbering": 1,
   "nav_menu": {},
   "number_sections": true,
   "sideBar": true,
   "skip_h1_title": false,
   "title_cell": "Table of Contents",
   "title_sidebar": "Contents",
   "toc_cell": false,
   "toc_position": {},
   "toc_section_display": true,
   "toc_window_display": false
  },
  "varInspector": {
   "cols": {
    "lenName": 16,
    "lenType": 16,
    "lenVar": 40
   },
   "kernels_config": {
    "python": {
     "delete_cmd_postfix": "",
     "delete_cmd_prefix": "del ",
     "library": "var_list.py",
     "varRefreshCmd": "print(var_dic_list())"
    },
    "r": {
     "delete_cmd_postfix": ") ",
     "delete_cmd_prefix": "rm(",
     "library": "var_list.r",
     "varRefreshCmd": "cat(var_dic_list()) "
    }
   },
   "types_to_exclude": [
    "module",
    "function",
    "builtin_function_or_method",
    "instance",
    "_Feature"
   ],
   "window_display": false
  }
 },
 "nbformat": 4,
 "nbformat_minor": 2
}
