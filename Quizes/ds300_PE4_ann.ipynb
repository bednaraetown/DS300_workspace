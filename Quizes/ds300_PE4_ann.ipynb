{
 "cells": [
  {
   "cell_type": "markdown",
   "metadata": {},
   "source": [
    "<h1><center> DS 300 - PE4: Artificial Neural Networks</center></h1>"
   ]
  },
  {
   "cell_type": "markdown",
   "metadata": {},
   "source": [
    "## Introduction:\n",
    "\n",
    "A multilayer perceptron (MLP) is a fully connected class of feed-forward artificial neural network (ANN). In this exercise, we will be using a MLP model to predict customers who will leave the company (churn prediction).\n",
    "\n",
    "The aim is to estimate whether a bank's customers leave the bank or not. The event that defines the customer abandonment is the closing of the customer's bank account.\n",
    "\n",
    "## Dataset\n",
    "\n",
    "It consists of 10,000 observations and 12 variables. Independent variables contain information about customers. Dependent variable refers to customer abandonment status.\n",
    "\n",
    "+ **RowNumber** — corresponds to the record (row) number and has no effect on the output. This column will be removed.\n",
    "\n",
    "+ **CustomerId** — contains random values and has no effect on customer leaving the bank. This column will be removed.\n",
    "\n",
    "+ **Surname** — the surname of a customer has no impact on their decision to leave the bank. This column will be removed.\n",
    "\n",
    "+ **CreditScore** — can have an effect on customer churn, since a customer with a higher credit score is less likely to leave the bank.\n",
    "\n",
    "+ **Geography** — a customer’s location can affect their decision to leave the bank. We’ll keep this column.\n",
    "\n",
    "+ **Gender** — it’s interesting to explore whether gender plays a role in a customer leaving the bank. We’ll include this column, too.\n",
    "\n",
    "+ **Age** — this is certainly relevant, since older customers are less likely to leave their bank than younger ones.\n",
    "\n",
    "+ **Tenure** — refers to the number of years that the customer has been a client of the bank. Normally, older clients are more loyal and less likely to leave a bank.\n",
    "\n",
    "+ **Balance** — also a very good indicator of customer churn, as people with a higher balance in their accounts are less likely to leave the bank compared to those with lower balances.\n",
    "\n",
    "+ **NumOfProducts** — refers to the number of products that a customer has purchased through the bank.\n",
    "\n",
    "+ **HasCrCard** — denotes whether or not a customer has a credit card. This column is also relevant, since people with a credit card are less likely to leave the bank. (0=No,1=Yes)\n",
    "\n",
    "+ **IsActiveMember** — active customers are less likely to leave the bank, so we’ll keep this. (0=No,1=Yes)\n",
    "\n",
    "+ **EstimatedSalary** — as with balance, people with lower salaries are more likely to leave the bank compared to those with higher salaries.\n",
    "\n",
    "+ **Exited** — whether or not the customer left the bank. This is what we have to predict. (0=No,1=Yes)\n",
    "\n",
    "## Setup:\n",
    "\n",
    "This exercise is preferably done on `Google's Colab` cloud platform with GPU accelerator enabled. \n",
    "\n",
    "If you decide to run it on your own computer, make sure you've installed Tensorflow and Keras.\n",
    "\n",
    "```\n",
    "conda install tensorflow\n",
    "conda install keras\n",
    "```"
   ]
  },
  {
   "cell_type": "markdown",
   "metadata": {},
   "source": [
    "## Question 1:\n",
    "\n",
    "#### Import all the necessary libraries."
   ]
  },
  {
   "cell_type": "code",
   "execution_count": 1,
   "metadata": {},
   "outputs": [],
   "source": [
    "# Importing the libraries\n",
    "\n",
    "\n"
   ]
  },
  {
   "cell_type": "markdown",
   "metadata": {},
   "source": [
    "#### Load the dataset from [URL](https://raw.githubusercontent.com/BlueJayADAL/DS300/master/datasets/lec24_bank.csv) into a DataFrame named as `df`."
   ]
  },
  {
   "cell_type": "code",
   "execution_count": 2,
   "metadata": {},
   "outputs": [
    {
     "data": {
      "text/html": [
       "<div>\n",
       "<style scoped>\n",
       "    .dataframe tbody tr th:only-of-type {\n",
       "        vertical-align: middle;\n",
       "    }\n",
       "\n",
       "    .dataframe tbody tr th {\n",
       "        vertical-align: top;\n",
       "    }\n",
       "\n",
       "    .dataframe thead th {\n",
       "        text-align: right;\n",
       "    }\n",
       "</style>\n",
       "<table border=\"1\" class=\"dataframe\">\n",
       "  <thead>\n",
       "    <tr style=\"text-align: right;\">\n",
       "      <th></th>\n",
       "      <th>RowNumber</th>\n",
       "      <th>CustomerId</th>\n",
       "      <th>Surname</th>\n",
       "      <th>CreditScore</th>\n",
       "      <th>Geography</th>\n",
       "      <th>Gender</th>\n",
       "      <th>Age</th>\n",
       "      <th>Tenure</th>\n",
       "      <th>Balance</th>\n",
       "      <th>NumOfProducts</th>\n",
       "      <th>HasCrCard</th>\n",
       "      <th>IsActiveMember</th>\n",
       "      <th>EstimatedSalary</th>\n",
       "      <th>Exited</th>\n",
       "    </tr>\n",
       "  </thead>\n",
       "  <tbody>\n",
       "    <tr>\n",
       "      <th>0</th>\n",
       "      <td>1</td>\n",
       "      <td>15634602</td>\n",
       "      <td>Hargrave</td>\n",
       "      <td>619</td>\n",
       "      <td>France</td>\n",
       "      <td>Female</td>\n",
       "      <td>42</td>\n",
       "      <td>2</td>\n",
       "      <td>0.00</td>\n",
       "      <td>1</td>\n",
       "      <td>1</td>\n",
       "      <td>1</td>\n",
       "      <td>101348.88</td>\n",
       "      <td>1</td>\n",
       "    </tr>\n",
       "    <tr>\n",
       "      <th>1</th>\n",
       "      <td>2</td>\n",
       "      <td>15647311</td>\n",
       "      <td>Hill</td>\n",
       "      <td>608</td>\n",
       "      <td>Spain</td>\n",
       "      <td>Female</td>\n",
       "      <td>41</td>\n",
       "      <td>1</td>\n",
       "      <td>83807.86</td>\n",
       "      <td>1</td>\n",
       "      <td>0</td>\n",
       "      <td>1</td>\n",
       "      <td>112542.58</td>\n",
       "      <td>0</td>\n",
       "    </tr>\n",
       "    <tr>\n",
       "      <th>2</th>\n",
       "      <td>3</td>\n",
       "      <td>15619304</td>\n",
       "      <td>Onio</td>\n",
       "      <td>502</td>\n",
       "      <td>France</td>\n",
       "      <td>Female</td>\n",
       "      <td>42</td>\n",
       "      <td>8</td>\n",
       "      <td>159660.80</td>\n",
       "      <td>3</td>\n",
       "      <td>1</td>\n",
       "      <td>0</td>\n",
       "      <td>113931.57</td>\n",
       "      <td>1</td>\n",
       "    </tr>\n",
       "    <tr>\n",
       "      <th>3</th>\n",
       "      <td>4</td>\n",
       "      <td>15701354</td>\n",
       "      <td>Boni</td>\n",
       "      <td>699</td>\n",
       "      <td>France</td>\n",
       "      <td>Female</td>\n",
       "      <td>39</td>\n",
       "      <td>1</td>\n",
       "      <td>0.00</td>\n",
       "      <td>2</td>\n",
       "      <td>0</td>\n",
       "      <td>0</td>\n",
       "      <td>93826.63</td>\n",
       "      <td>0</td>\n",
       "    </tr>\n",
       "    <tr>\n",
       "      <th>4</th>\n",
       "      <td>5</td>\n",
       "      <td>15737888</td>\n",
       "      <td>Mitchell</td>\n",
       "      <td>850</td>\n",
       "      <td>Spain</td>\n",
       "      <td>Female</td>\n",
       "      <td>43</td>\n",
       "      <td>2</td>\n",
       "      <td>125510.82</td>\n",
       "      <td>1</td>\n",
       "      <td>1</td>\n",
       "      <td>1</td>\n",
       "      <td>79084.10</td>\n",
       "      <td>0</td>\n",
       "    </tr>\n",
       "  </tbody>\n",
       "</table>\n",
       "</div>"
      ],
      "text/plain": [
       "   RowNumber  CustomerId   Surname  CreditScore Geography  Gender  Age  \\\n",
       "0          1    15634602  Hargrave          619    France  Female   42   \n",
       "1          2    15647311      Hill          608     Spain  Female   41   \n",
       "2          3    15619304      Onio          502    France  Female   42   \n",
       "3          4    15701354      Boni          699    France  Female   39   \n",
       "4          5    15737888  Mitchell          850     Spain  Female   43   \n",
       "\n",
       "   Tenure    Balance  NumOfProducts  HasCrCard  IsActiveMember  \\\n",
       "0       2       0.00              1          1               1   \n",
       "1       1   83807.86              1          0               1   \n",
       "2       8  159660.80              3          1               0   \n",
       "3       1       0.00              2          0               0   \n",
       "4       2  125510.82              1          1               1   \n",
       "\n",
       "   EstimatedSalary  Exited  \n",
       "0        101348.88       1  \n",
       "1        112542.58       0  \n",
       "2        113931.57       1  \n",
       "3         93826.63       0  \n",
       "4         79084.10       0  "
      ]
     },
     "execution_count": 2,
     "metadata": {},
     "output_type": "execute_result"
    }
   ],
   "source": [
    "# Importing the dataset\n",
    "\n",
    "\n",
    "\n",
    "\n",
    "df.head()"
   ]
  },
  {
   "cell_type": "markdown",
   "metadata": {},
   "source": [
    "#### Show the basic information of the DataFrame."
   ]
  },
  {
   "cell_type": "code",
   "execution_count": 3,
   "metadata": {},
   "outputs": [
    {
     "name": "stdout",
     "output_type": "stream",
     "text": [
      "<class 'pandas.core.frame.DataFrame'>\n",
      "RangeIndex: 10000 entries, 0 to 9999\n",
      "Data columns (total 14 columns):\n",
      " #   Column           Non-Null Count  Dtype  \n",
      "---  ------           --------------  -----  \n",
      " 0   RowNumber        10000 non-null  int64  \n",
      " 1   CustomerId       10000 non-null  int64  \n",
      " 2   Surname          10000 non-null  object \n",
      " 3   CreditScore      10000 non-null  int64  \n",
      " 4   Geography        10000 non-null  object \n",
      " 5   Gender           10000 non-null  object \n",
      " 6   Age              10000 non-null  int64  \n",
      " 7   Tenure           10000 non-null  int64  \n",
      " 8   Balance          10000 non-null  float64\n",
      " 9   NumOfProducts    10000 non-null  int64  \n",
      " 10  HasCrCard        10000 non-null  int64  \n",
      " 11  IsActiveMember   10000 non-null  int64  \n",
      " 12  EstimatedSalary  10000 non-null  float64\n",
      " 13  Exited           10000 non-null  int64  \n",
      "dtypes: float64(2), int64(9), object(3)\n",
      "memory usage: 1.1+ MB\n"
     ]
    }
   ],
   "source": [
    "\n",
    "\n"
   ]
  },
  {
   "cell_type": "markdown",
   "metadata": {},
   "source": [
    "## Question 2:\n",
    "\n",
    "#### Since columns `RowNumber`, `CustomerId` and `Surname` are definitely not going to make a huge impact on the prediction, let's remove them from the DataFrame."
   ]
  },
  {
   "cell_type": "code",
   "execution_count": 4,
   "metadata": {},
   "outputs": [],
   "source": [
    "\n",
    "\n"
   ]
  },
  {
   "cell_type": "markdown",
   "metadata": {},
   "source": [
    "#### Show the missing values."
   ]
  },
  {
   "cell_type": "code",
   "execution_count": 5,
   "metadata": {
    "scrolled": true
   },
   "outputs": [
    {
     "data": {
      "text/plain": [
       "CreditScore        0\n",
       "Geography          0\n",
       "Gender             0\n",
       "Age                0\n",
       "Tenure             0\n",
       "Balance            0\n",
       "NumOfProducts      0\n",
       "HasCrCard          0\n",
       "IsActiveMember     0\n",
       "EstimatedSalary    0\n",
       "Exited             0\n",
       "dtype: int64"
      ]
     },
     "execution_count": 5,
     "metadata": {},
     "output_type": "execute_result"
    }
   ],
   "source": [
    "\n",
    "\n"
   ]
  },
  {
   "cell_type": "markdown",
   "metadata": {},
   "source": [
    "#### Find the number of occurrences for `Exited` versus not `Exited` customers."
   ]
  },
  {
   "cell_type": "code",
   "execution_count": 6,
   "metadata": {},
   "outputs": [
    {
     "data": {
      "text/plain": [
       "0    7963\n",
       "1    2037\n",
       "Name: Exited, dtype: int64"
      ]
     },
     "execution_count": 6,
     "metadata": {},
     "output_type": "execute_result"
    }
   ],
   "source": [
    "\n",
    "\n"
   ]
  },
  {
   "cell_type": "markdown",
   "metadata": {},
   "source": [
    "## Question 3:\n",
    "\n",
    "#### Feature correlation analysis with a heatmap"
   ]
  },
  {
   "cell_type": "code",
   "execution_count": 7,
   "metadata": {},
   "outputs": [
    {
     "data": {
      "text/plain": [
       "<AxesSubplot:>"
      ]
     },
     "execution_count": 7,
     "metadata": {},
     "output_type": "execute_result"
    },
    {
     "data": {
      "image/png": "[encoded data removed]",
      "text/plain": [
       "<Figure size 720x720 with 2 Axes>"
      ]
     },
     "metadata": {
      "needs_background": "light"
     },
     "output_type": "display_data"
    }
   ],
   "source": [
    "plt.figure(figsize=(10, 10))\n",
    "\n",
    "\n"
   ]
  },
  {
   "cell_type": "markdown",
   "metadata": {},
   "source": [
    "#### Plot the count of the categorical variables `Geography` and `Gender`, and color-code the results with the dependent variable."
   ]
  },
  {
   "cell_type": "code",
   "execution_count": 8,
   "metadata": {},
   "outputs": [
    {
     "data": {
      "text/plain": [
       "<AxesSubplot:xlabel='Gender', ylabel='count'>"
      ]
     },
     "execution_count": 8,
     "metadata": {},
     "output_type": "execute_result"
    },
    {
     "data": {
      "image/png": "[encoded data removed]",
      "text/plain": [
       "<Figure size 1440x432 with 2 Axes>"
      ]
     },
     "metadata": {
      "needs_background": "light"
     },
     "output_type": "display_data"
    }
   ],
   "source": [
    "fig, axes = plt.subplots(nrows = 1, ncols = 2, figsize=(20, 6))\n",
    "\n",
    "\n"
   ]
  },
  {
   "cell_type": "markdown",
   "metadata": {},
   "source": [
    "## Question 4:"
   ]
  },
  {
   "cell_type": "markdown",
   "metadata": {},
   "source": [
    "#### One-hot encode the categorical features."
   ]
  },
  {
   "cell_type": "code",
   "execution_count": 9,
   "metadata": {},
   "outputs": [],
   "source": [
    "from \n",
    "\n"
   ]
  },
  {
   "cell_type": "code",
   "execution_count": 10,
   "metadata": {},
   "outputs": [],
   "source": [
    "\n",
    "\n",
    "\n"
   ]
  },
  {
   "cell_type": "markdown",
   "metadata": {},
   "source": [
    "#### Split the DataFrame into feature matrix X and label vector y."
   ]
  },
  {
   "cell_type": "code",
   "execution_count": 11,
   "metadata": {},
   "outputs": [],
   "source": [
    "X = \n",
    "y = "
   ]
  },
  {
   "cell_type": "code",
   "execution_count": 12,
   "metadata": {
    "scrolled": true
   },
   "outputs": [
    {
     "data": {
      "text/html": [
       "<div>\n",
       "<style scoped>\n",
       "    .dataframe tbody tr th:only-of-type {\n",
       "        vertical-align: middle;\n",
       "    }\n",
       "\n",
       "    .dataframe tbody tr th {\n",
       "        vertical-align: top;\n",
       "    }\n",
       "\n",
       "    .dataframe thead th {\n",
       "        text-align: right;\n",
       "    }\n",
       "</style>\n",
       "<table border=\"1\" class=\"dataframe\">\n",
       "  <thead>\n",
       "    <tr style=\"text-align: right;\">\n",
       "      <th></th>\n",
       "      <th>CreditScore</th>\n",
       "      <th>Age</th>\n",
       "      <th>Tenure</th>\n",
       "      <th>Balance</th>\n",
       "      <th>NumOfProducts</th>\n",
       "      <th>HasCrCard</th>\n",
       "      <th>IsActiveMember</th>\n",
       "      <th>EstimatedSalary</th>\n",
       "      <th>x0_Germany</th>\n",
       "      <th>x0_Spain</th>\n",
       "      <th>x1_Male</th>\n",
       "    </tr>\n",
       "  </thead>\n",
       "  <tbody>\n",
       "    <tr>\n",
       "      <th>0</th>\n",
       "      <td>619</td>\n",
       "      <td>42</td>\n",
       "      <td>2</td>\n",
       "      <td>0.00</td>\n",
       "      <td>1</td>\n",
       "      <td>1</td>\n",
       "      <td>1</td>\n",
       "      <td>101348.88</td>\n",
       "      <td>0.0</td>\n",
       "      <td>0.0</td>\n",
       "      <td>0.0</td>\n",
       "    </tr>\n",
       "    <tr>\n",
       "      <th>1</th>\n",
       "      <td>608</td>\n",
       "      <td>41</td>\n",
       "      <td>1</td>\n",
       "      <td>83807.86</td>\n",
       "      <td>1</td>\n",
       "      <td>0</td>\n",
       "      <td>1</td>\n",
       "      <td>112542.58</td>\n",
       "      <td>0.0</td>\n",
       "      <td>1.0</td>\n",
       "      <td>0.0</td>\n",
       "    </tr>\n",
       "    <tr>\n",
       "      <th>2</th>\n",
       "      <td>502</td>\n",
       "      <td>42</td>\n",
       "      <td>8</td>\n",
       "      <td>159660.80</td>\n",
       "      <td>3</td>\n",
       "      <td>1</td>\n",
       "      <td>0</td>\n",
       "      <td>113931.57</td>\n",
       "      <td>0.0</td>\n",
       "      <td>0.0</td>\n",
       "      <td>0.0</td>\n",
       "    </tr>\n",
       "    <tr>\n",
       "      <th>3</th>\n",
       "      <td>699</td>\n",
       "      <td>39</td>\n",
       "      <td>1</td>\n",
       "      <td>0.00</td>\n",
       "      <td>2</td>\n",
       "      <td>0</td>\n",
       "      <td>0</td>\n",
       "      <td>93826.63</td>\n",
       "      <td>0.0</td>\n",
       "      <td>0.0</td>\n",
       "      <td>0.0</td>\n",
       "    </tr>\n",
       "    <tr>\n",
       "      <th>4</th>\n",
       "      <td>850</td>\n",
       "      <td>43</td>\n",
       "      <td>2</td>\n",
       "      <td>125510.82</td>\n",
       "      <td>1</td>\n",
       "      <td>1</td>\n",
       "      <td>1</td>\n",
       "      <td>79084.10</td>\n",
       "      <td>0.0</td>\n",
       "      <td>1.0</td>\n",
       "      <td>0.0</td>\n",
       "    </tr>\n",
       "  </tbody>\n",
       "</table>\n",
       "</div>"
      ],
      "text/plain": [
       "   CreditScore  Age  Tenure    Balance  NumOfProducts  HasCrCard  \\\n",
       "0          619   42       2       0.00              1          1   \n",
       "1          608   41       1   83807.86              1          0   \n",
       "2          502   42       8  159660.80              3          1   \n",
       "3          699   39       1       0.00              2          0   \n",
       "4          850   43       2  125510.82              1          1   \n",
       "\n",
       "   IsActiveMember  EstimatedSalary  x0_Germany  x0_Spain  x1_Male  \n",
       "0               1        101348.88         0.0       0.0      0.0  \n",
       "1               1        112542.58         0.0       1.0      0.0  \n",
       "2               0        113931.57         0.0       0.0      0.0  \n",
       "3               0         93826.63         0.0       0.0      0.0  \n",
       "4               1         79084.10         0.0       1.0      0.0  "
      ]
     },
     "execution_count": 12,
     "metadata": {},
     "output_type": "execute_result"
    }
   ],
   "source": [
    "X.head()"
   ]
  },
  {
   "cell_type": "code",
   "execution_count": 13,
   "metadata": {},
   "outputs": [
    {
     "data": {
      "text/plain": [
       "0    1\n",
       "1    0\n",
       "2    1\n",
       "3    0\n",
       "4    0\n",
       "Name: Exited, dtype: int64"
      ]
     },
     "execution_count": 13,
     "metadata": {},
     "output_type": "execute_result"
    }
   ],
   "source": [
    "y.head()"
   ]
  },
  {
   "cell_type": "markdown",
   "metadata": {},
   "source": [
    "## Question 5:\n",
    "\n",
    "#### Split the dataset into traning set and testing set. Ensure to use test size 20% and random seed as 101."
   ]
  },
  {
   "cell_type": "code",
   "execution_count": 14,
   "metadata": {},
   "outputs": [],
   "source": [
    "# Splitting the dataset into the Training set and Test set\n",
    "\n",
    "\n"
   ]
  },
  {
   "cell_type": "markdown",
   "metadata": {},
   "source": [
    "#### Perform feature scaling on both training and testing sets."
   ]
  },
  {
   "cell_type": "code",
   "execution_count": 15,
   "metadata": {},
   "outputs": [],
   "source": [
    "# Feature Scaling\n",
    "\n",
    "\n",
    "\n",
    "\n"
   ]
  },
  {
   "cell_type": "markdown",
   "metadata": {},
   "source": [
    "## Question 6:\n",
    "\n",
    "#### First, read the Keras tutorial for sequential model [here](https://keras.io/getting-started/sequential-model-guide/)"
   ]
  },
  {
   "cell_type": "markdown",
   "metadata": {},
   "source": [
    "#### Then import the necessary libraries as below."
   ]
  },
  {
   "cell_type": "code",
   "execution_count": 16,
   "metadata": {},
   "outputs": [],
   "source": [
    "# Importing the Keras libraries and packages\n",
    "\n",
    "\n",
    "\n"
   ]
  },
  {
   "cell_type": "markdown",
   "metadata": {},
   "source": [
    "#### Create an empty classifer object with the Sequential model."
   ]
  },
  {
   "cell_type": "code",
   "execution_count": 17,
   "metadata": {},
   "outputs": [
    {
     "name": "stderr",
     "output_type": "stream",
     "text": [
      "2022-10-10 22:34:11.839936: I tensorflow/core/platform/cpu_feature_guard.cc:151] This TensorFlow binary is optimized with oneAPI Deep Neural Network Library (oneDNN) to use the following CPU instructions in performance-critical operations:  SSE4.1 SSE4.2 AVX AVX2 FMA\n",
      "To enable them in other operations, rebuild TensorFlow with the appropriate compiler flags.\n"
     ]
    }
   ],
   "source": [
    "# Initialising the ANN model object\n",
    "model = \n",
    "\n"
   ]
  },
  {
   "cell_type": "markdown",
   "metadata": {},
   "source": [
    "#### Now, let's add 4 layers to the ANN model. \n",
    "#### Firstly, add the input layer and the first hidden layer. \n",
    "+ Configure the `input_dim` argument to represent the input layer. \n",
    "+ For the first hidden layer, use `6` as the number of nodes (neurons), and use rectifier function `relu` as the activation function."
   ]
  },
  {
   "cell_type": "code",
   "execution_count": 18,
   "metadata": {},
   "outputs": [],
   "source": [
    "# Adding the input layer and the first hidden layer\n",
    "\n",
    "\n"
   ]
  },
  {
   "cell_type": "markdown",
   "metadata": {},
   "source": [
    "#### Then add in the 2nd hidden layer. Note you don't need to specify input dimension `input_dim` this time as we have defined the model to be sequential so keras will automatically consider input dimension to be same as the output of the last layer. Use `6` nodes and `relu` again."
   ]
  },
  {
   "cell_type": "code",
   "execution_count": 19,
   "metadata": {},
   "outputs": [],
   "source": [
    "# Adding the second hidden layer\n",
    "\n",
    "\n"
   ]
  },
  {
   "cell_type": "markdown",
   "metadata": {},
   "source": [
    "#### Finally, add the last output layer. Ensure you have only a single node (neuron) for the output layer as we just need a binary decision. The activation function here should be `sigmoid`."
   ]
  },
  {
   "cell_type": "code",
   "execution_count": 20,
   "metadata": {},
   "outputs": [],
   "source": [
    "# Adding the output layer\n",
    "\n",
    "\n"
   ]
  },
  {
   "cell_type": "markdown",
   "metadata": {},
   "source": [
    "#### Show the hyperparameters in the ANN model so far in a summary table."
   ]
  },
  {
   "cell_type": "code",
   "execution_count": 21,
   "metadata": {},
   "outputs": [
    {
     "name": "stdout",
     "output_type": "stream",
     "text": [
      "Model: \"pe4-ann\"\n",
      "_________________________________________________________________\n",
      " Layer (type)                Output Shape              Param #   \n",
      "=================================================================\n",
      " dense (Dense)               (None, 6)                 72        \n",
      "                                                                 \n",
      " dense_1 (Dense)             (None, 6)                 42        \n",
      "                                                                 \n",
      " dense_2 (Dense)             (None, 1)                 7         \n",
      "                                                                 \n",
      "=================================================================\n",
      "Total params: 121\n",
      "Trainable params: 121\n",
      "Non-trainable params: 0\n",
      "_________________________________________________________________\n"
     ]
    }
   ],
   "source": [
    "\n",
    "\n"
   ]
  },
  {
   "cell_type": "markdown",
   "metadata": {},
   "source": [
    "#### Compile the ANN with the `adam` optimizer, `binary_crossentropy` loss function, and `accuracy` as the metrics."
   ]
  },
  {
   "cell_type": "code",
   "execution_count": 22,
   "metadata": {},
   "outputs": [],
   "source": [
    "# Compiling the ANN\n",
    "\n",
    "\n",
    "\n"
   ]
  },
  {
   "cell_type": "markdown",
   "metadata": {},
   "source": [
    "## Question 7:\n",
    "\n",
    "#### Train the ANN model with training set. Use mini batch size as 10, and the total number of epoch as 100.\n",
    "#### Now it's the time to grab a coffee or fix your makeups."
   ]
  },
  {
   "cell_type": "code",
   "execution_count": 23,
   "metadata": {},
   "outputs": [
    {
     "name": "stdout",
     "output_type": "stream",
     "text": [
      "Epoch 1/100\n",
      "800/800 [==============================] - 1s 906us/step - loss: 0.5028 - accuracy: 0.7805\n",
      "Epoch 2/100\n",
      "800/800 [==============================] - 1s 815us/step - loss: 0.4441 - accuracy: 0.8018\n",
      "Epoch 3/100\n",
      "800/800 [==============================] - 1s 779us/step - loss: 0.4238 - accuracy: 0.8146\n",
      "Epoch 4/100\n",
      "800/800 [==============================] - 1s 789us/step - loss: 0.4135 - accuracy: 0.8241\n",
      "Epoch 5/100\n",
      "800/800 [==============================] - 1s 777us/step - loss: 0.4083 - accuracy: 0.8265\n",
      "Epoch 6/100\n",
      "800/800 [==============================] - 1s 795us/step - loss: 0.4038 - accuracy: 0.8309\n",
      "Epoch 7/100\n",
      "800/800 [==============================] - 1s 781us/step - loss: 0.4006 - accuracy: 0.8282\n",
      "Epoch 8/100\n",
      "800/800 [==============================] - 1s 784us/step - loss: 0.3977 - accuracy: 0.8291\n",
      "Epoch 9/100\n",
      "800/800 [==============================] - 1s 822us/step - loss: 0.3944 - accuracy: 0.8305\n",
      "Epoch 10/100\n",
      "800/800 [==============================] - 1s 783us/step - loss: 0.3901 - accuracy: 0.8319\n",
      "Epoch 11/100\n",
      "800/800 [==============================] - 1s 788us/step - loss: 0.3845 - accuracy: 0.8313\n",
      "Epoch 12/100\n",
      "800/800 [==============================] - 1s 791us/step - loss: 0.3796 - accuracy: 0.8334\n",
      "Epoch 13/100\n",
      "800/800 [==============================] - 1s 784us/step - loss: 0.3754 - accuracy: 0.8404\n",
      "Epoch 14/100\n",
      "800/800 [==============================] - 1s 792us/step - loss: 0.3709 - accuracy: 0.8462\n",
      "Epoch 15/100\n",
      "800/800 [==============================] - 1s 908us/step - loss: 0.3674 - accuracy: 0.8459\n",
      "Epoch 16/100\n",
      "800/800 [==============================] - 1s 802us/step - loss: 0.3628 - accuracy: 0.8505\n",
      "Epoch 17/100\n",
      "800/800 [==============================] - 1s 778us/step - loss: 0.3603 - accuracy: 0.8520\n",
      "Epoch 18/100\n",
      "800/800 [==============================] - 1s 795us/step - loss: 0.3576 - accuracy: 0.8561\n",
      "Epoch 19/100\n",
      "800/800 [==============================] - 1s 795us/step - loss: 0.3559 - accuracy: 0.8522\n",
      "Epoch 20/100\n",
      "800/800 [==============================] - 1s 784us/step - loss: 0.3543 - accuracy: 0.8565\n",
      "Epoch 21/100\n",
      "800/800 [==============================] - 1s 802us/step - loss: 0.3531 - accuracy: 0.8535\n",
      "Epoch 22/100\n",
      "800/800 [==============================] - 1s 787us/step - loss: 0.3516 - accuracy: 0.8555\n",
      "Epoch 23/100\n",
      "800/800 [==============================] - 1s 795us/step - loss: 0.3512 - accuracy: 0.8575\n",
      "Epoch 24/100\n",
      "800/800 [==============================] - 1s 796us/step - loss: 0.3503 - accuracy: 0.8553\n",
      "Epoch 25/100\n",
      "800/800 [==============================] - 1s 806us/step - loss: 0.3492 - accuracy: 0.8564\n",
      "Epoch 26/100\n",
      "800/800 [==============================] - 1s 792us/step - loss: 0.3492 - accuracy: 0.8546\n",
      "Epoch 27/100\n",
      "800/800 [==============================] - 1s 784us/step - loss: 0.3480 - accuracy: 0.8553\n",
      "Epoch 28/100\n",
      "800/800 [==============================] - 1s 886us/step - loss: 0.3474 - accuracy: 0.8570\n",
      "Epoch 29/100\n",
      "800/800 [==============================] - 1s 920us/step - loss: 0.3471 - accuracy: 0.8565\n",
      "Epoch 30/100\n",
      "800/800 [==============================] - 1s 783us/step - loss: 0.3473 - accuracy: 0.8570\n",
      "Epoch 31/100\n",
      "800/800 [==============================] - 1s 834us/step - loss: 0.3458 - accuracy: 0.8549\n",
      "Epoch 32/100\n",
      "800/800 [==============================] - 1s 812us/step - loss: 0.3458 - accuracy: 0.8564\n",
      "Epoch 33/100\n",
      "800/800 [==============================] - 1s 787us/step - loss: 0.3455 - accuracy: 0.8564\n",
      "Epoch 34/100\n",
      "800/800 [==============================] - 1s 805us/step - loss: 0.3451 - accuracy: 0.8601\n",
      "Epoch 35/100\n",
      "800/800 [==============================] - 1s 790us/step - loss: 0.3435 - accuracy: 0.8587\n",
      "Epoch 36/100\n",
      "800/800 [==============================] - 1s 795us/step - loss: 0.3447 - accuracy: 0.8579\n",
      "Epoch 37/100\n",
      "800/800 [==============================] - 1s 807us/step - loss: 0.3435 - accuracy: 0.8594\n",
      "Epoch 38/100\n",
      "800/800 [==============================] - 1s 790us/step - loss: 0.3425 - accuracy: 0.8565\n",
      "Epoch 39/100\n",
      "800/800 [==============================] - 1s 916us/step - loss: 0.3424 - accuracy: 0.8584\n",
      "Epoch 40/100\n",
      "800/800 [==============================] - 1s 827us/step - loss: 0.3431 - accuracy: 0.8583\n",
      "Epoch 41/100\n",
      "800/800 [==============================] - 1s 788us/step - loss: 0.3419 - accuracy: 0.8596\n",
      "Epoch 42/100\n",
      "800/800 [==============================] - 1s 863us/step - loss: 0.3419 - accuracy: 0.8581\n",
      "Epoch 43/100\n",
      "800/800 [==============================] - 1s 783us/step - loss: 0.3423 - accuracy: 0.8597\n",
      "Epoch 44/100\n",
      "800/800 [==============================] - 1s 784us/step - loss: 0.3416 - accuracy: 0.8585\n",
      "Epoch 45/100\n",
      "800/800 [==============================] - 1s 786us/step - loss: 0.3412 - accuracy: 0.8602\n",
      "Epoch 46/100\n",
      "800/800 [==============================] - 1s 784us/step - loss: 0.3413 - accuracy: 0.8594\n",
      "Epoch 47/100\n",
      "800/800 [==============================] - 1s 795us/step - loss: 0.3411 - accuracy: 0.8606\n",
      "Epoch 48/100\n",
      "800/800 [==============================] - 1s 813us/step - loss: 0.3410 - accuracy: 0.8576\n",
      "Epoch 49/100\n",
      "800/800 [==============================] - 1s 1ms/step - loss: 0.3419 - accuracy: 0.8594\n",
      "Epoch 50/100\n",
      "800/800 [==============================] - 1s 808us/step - loss: 0.3410 - accuracy: 0.8591\n",
      "Epoch 51/100\n",
      "800/800 [==============================] - 1s 808us/step - loss: 0.3408 - accuracy: 0.8599\n",
      "Epoch 52/100\n",
      "800/800 [==============================] - 1s 839us/step - loss: 0.3396 - accuracy: 0.8601\n",
      "Epoch 53/100\n",
      "800/800 [==============================] - 1s 813us/step - loss: 0.3406 - accuracy: 0.8605\n",
      "Epoch 54/100\n",
      "800/800 [==============================] - 1s 915us/step - loss: 0.3403 - accuracy: 0.8594\n",
      "Epoch 55/100\n",
      "800/800 [==============================] - 1s 973us/step - loss: 0.3402 - accuracy: 0.8562\n",
      "Epoch 56/100\n",
      "800/800 [==============================] - 1s 984us/step - loss: 0.3400 - accuracy: 0.8591\n",
      "Epoch 57/100\n",
      "800/800 [==============================] - 1s 1ms/step - loss: 0.3401 - accuracy: 0.8596\n",
      "Epoch 58/100\n",
      "800/800 [==============================] - 1s 1ms/step - loss: 0.3403 - accuracy: 0.8593\n",
      "Epoch 59/100\n",
      "800/800 [==============================] - 1s 1ms/step - loss: 0.3399 - accuracy: 0.8615\n",
      "Epoch 60/100\n",
      "800/800 [==============================] - 1s 1ms/step - loss: 0.3394 - accuracy: 0.8599\n",
      "Epoch 61/100\n",
      "800/800 [==============================] - 1s 2ms/step - loss: 0.3401 - accuracy: 0.8594\n",
      "Epoch 62/100\n",
      "800/800 [==============================] - 1s 1ms/step - loss: 0.3398 - accuracy: 0.8585\n",
      "Epoch 63/100\n",
      "800/800 [==============================] - 1s 1ms/step - loss: 0.3390 - accuracy: 0.8601\n",
      "Epoch 64/100\n",
      "800/800 [==============================] - 1s 1ms/step - loss: 0.3389 - accuracy: 0.8590\n",
      "Epoch 65/100\n",
      "800/800 [==============================] - 1s 1ms/step - loss: 0.3395 - accuracy: 0.8612\n",
      "Epoch 66/100\n",
      "800/800 [==============================] - 1s 1ms/step - loss: 0.3392 - accuracy: 0.8596\n",
      "Epoch 67/100\n",
      "800/800 [==============================] - 1s 1ms/step - loss: 0.3392 - accuracy: 0.8610\n",
      "Epoch 68/100\n",
      "800/800 [==============================] - 1s 981us/step - loss: 0.3391 - accuracy: 0.8602\n",
      "Epoch 69/100\n",
      "800/800 [==============================] - 1s 1ms/step - loss: 0.3388 - accuracy: 0.8611\n",
      "Epoch 70/100\n",
      "800/800 [==============================] - 1s 812us/step - loss: 0.3391 - accuracy: 0.8566\n",
      "Epoch 71/100\n",
      "800/800 [==============================] - 1s 815us/step - loss: 0.3399 - accuracy: 0.8585\n",
      "Epoch 72/100\n",
      "800/800 [==============================] - 1s 832us/step - loss: 0.3388 - accuracy: 0.8595\n",
      "Epoch 73/100\n",
      "800/800 [==============================] - 1s 811us/step - loss: 0.3388 - accuracy: 0.8618\n",
      "Epoch 74/100\n",
      "800/800 [==============================] - 1s 815us/step - loss: 0.3390 - accuracy: 0.8597\n",
      "Epoch 75/100\n",
      "800/800 [==============================] - 1s 933us/step - loss: 0.3387 - accuracy: 0.8624\n",
      "Epoch 76/100\n",
      "800/800 [==============================] - 1s 810us/step - loss: 0.3387 - accuracy: 0.8601\n",
      "Epoch 77/100\n",
      "800/800 [==============================] - 1s 808us/step - loss: 0.3390 - accuracy: 0.8594\n",
      "Epoch 78/100\n",
      "800/800 [==============================] - 1s 953us/step - loss: 0.3396 - accuracy: 0.8599\n",
      "Epoch 79/100\n",
      "800/800 [==============================] - 1s 845us/step - loss: 0.3390 - accuracy: 0.8589\n",
      "Epoch 80/100\n"
     ]
    },
    {
     "name": "stdout",
     "output_type": "stream",
     "text": [
      "800/800 [==============================] - 1s 804us/step - loss: 0.3387 - accuracy: 0.8595\n",
      "Epoch 81/100\n",
      "800/800 [==============================] - 1s 790us/step - loss: 0.3391 - accuracy: 0.8606\n",
      "Epoch 82/100\n",
      "800/800 [==============================] - 1s 773us/step - loss: 0.3396 - accuracy: 0.8622\n",
      "Epoch 83/100\n",
      "800/800 [==============================] - 1s 771us/step - loss: 0.3390 - accuracy: 0.8609\n",
      "Epoch 84/100\n",
      "800/800 [==============================] - 1s 773us/step - loss: 0.3388 - accuracy: 0.8596\n",
      "Epoch 85/100\n",
      "800/800 [==============================] - 1s 776us/step - loss: 0.3383 - accuracy: 0.8606\n",
      "Epoch 86/100\n",
      "800/800 [==============================] - 1s 782us/step - loss: 0.3384 - accuracy: 0.8602\n",
      "Epoch 87/100\n",
      "800/800 [==============================] - 1s 860us/step - loss: 0.3385 - accuracy: 0.8596\n",
      "Epoch 88/100\n",
      "800/800 [==============================] - 1s 797us/step - loss: 0.3385 - accuracy: 0.8597\n",
      "Epoch 89/100\n",
      "800/800 [==============================] - 1s 768us/step - loss: 0.3387 - accuracy: 0.8608\n",
      "Epoch 90/100\n",
      "800/800 [==============================] - 1s 777us/step - loss: 0.3391 - accuracy: 0.8606\n",
      "Epoch 91/100\n",
      "800/800 [==============================] - 1s 776us/step - loss: 0.3381 - accuracy: 0.8596\n",
      "Epoch 92/100\n",
      "800/800 [==============================] - 1s 786us/step - loss: 0.3382 - accuracy: 0.8602\n",
      "Epoch 93/100\n",
      "800/800 [==============================] - 1s 770us/step - loss: 0.3391 - accuracy: 0.8586\n",
      "Epoch 94/100\n",
      "800/800 [==============================] - 1s 765us/step - loss: 0.3388 - accuracy: 0.8590\n",
      "Epoch 95/100\n",
      "800/800 [==============================] - 1s 776us/step - loss: 0.3381 - accuracy: 0.8610\n",
      "Epoch 96/100\n",
      "800/800 [==============================] - 1s 796us/step - loss: 0.3376 - accuracy: 0.8606\n",
      "Epoch 97/100\n",
      "800/800 [==============================] - 1s 826us/step - loss: 0.3382 - accuracy: 0.8610\n",
      "Epoch 98/100\n",
      "800/800 [==============================] - 1s 794us/step - loss: 0.3382 - accuracy: 0.8614\n",
      "Epoch 99/100\n",
      "800/800 [==============================] - 1s 784us/step - loss: 0.3376 - accuracy: 0.8612\n",
      "Epoch 100/100\n",
      "800/800 [==============================] - 1s 792us/step - loss: 0.3384 - accuracy: 0.8565\n"
     ]
    },
    {
     "data": {
      "text/plain": [
       "<keras.callbacks.History at 0x12ebda3d0>"
      ]
     },
     "execution_count": 23,
     "metadata": {},
     "output_type": "execute_result"
    }
   ],
   "source": [
    "# Fitting the ANN to the Training set\n",
    "\n",
    "\n"
   ]
  },
  {
   "cell_type": "markdown",
   "metadata": {},
   "source": [
    "#### Evaluate the classifier with confusion matrix and accuracy score."
   ]
  },
  {
   "cell_type": "code",
   "execution_count": 24,
   "metadata": {},
   "outputs": [
    {
     "data": {
      "text/plain": [
       "array([[0.0749962 ],\n",
       "       [0.06665799],\n",
       "       [0.57007647],\n",
       "       [0.02187812],\n",
       "       [0.724202  ],\n",
       "       [0.01598009],\n",
       "       [0.38541433],\n",
       "       [0.01577127],\n",
       "       [0.07238346],\n",
       "       [0.08455554]], dtype=float32)"
      ]
     },
     "execution_count": 24,
     "metadata": {},
     "output_type": "execute_result"
    }
   ],
   "source": [
    "# Making the predictions and evaluating the model\n",
    "\n",
    "# Predicting the Test set results\n",
    "y_pred = \n",
    "\n",
    "\n",
    "y_pred[:10]"
   ]
  },
  {
   "cell_type": "markdown",
   "metadata": {},
   "source": [
    "#### Note that `y_pred` is the probability as we use sigmoid activation function for the output layer. Now convert the probability into a binary number with a threshold probability 0.5"
   ]
  },
  {
   "cell_type": "code",
   "execution_count": 25,
   "metadata": {},
   "outputs": [],
   "source": [
    "y_pred = \n",
    "\n"
   ]
  },
  {
   "cell_type": "code",
   "execution_count": 26,
   "metadata": {
    "scrolled": true
   },
   "outputs": [
    {
     "name": "stdout",
     "output_type": "stream",
     "text": [
      "Confusion matrix:\n",
      " [[1511   66]\n",
      " [ 200  223]]\n",
      "Accuracy:  0.867\n"
     ]
    }
   ],
   "source": [
    "# Making the Confusion Matrix\n",
    "\n",
    "\n",
    "\n"
   ]
  },
  {
   "cell_type": "markdown",
   "metadata": {},
   "source": [
    "## Question 8:\n",
    "\n",
    "#### We can use test data as validation data and can check the accuracies after every epoch. This will give us an insight into overfitting at the time of training. And we can take steps before the completion of all epochs.\n",
    "\n",
    "#### Now supply `validation_data` argument to the `fit` function and retrain the model."
   ]
  },
  {
   "cell_type": "code",
   "execution_count": 27,
   "metadata": {},
   "outputs": [
    {
     "name": "stdout",
     "output_type": "stream",
     "text": [
      "Epoch 1/100\n",
      "125/125 [==============================] - 0s 2ms/step - loss: 0.3347 - accuracy: 0.8624 - val_loss: 0.3334 - val_accuracy: 0.8640\n",
      "Epoch 2/100\n",
      "125/125 [==============================] - 0s 2ms/step - loss: 0.3344 - accuracy: 0.8627 - val_loss: 0.3332 - val_accuracy: 0.8655\n",
      "Epoch 3/100\n",
      "125/125 [==============================] - 0s 2ms/step - loss: 0.3341 - accuracy: 0.8619 - val_loss: 0.3328 - val_accuracy: 0.8650\n",
      "Epoch 4/100\n",
      "125/125 [==============================] - 0s 2ms/step - loss: 0.3343 - accuracy: 0.8615 - val_loss: 0.3326 - val_accuracy: 0.8655\n",
      "Epoch 5/100\n",
      "125/125 [==============================] - 0s 2ms/step - loss: 0.3343 - accuracy: 0.8621 - val_loss: 0.3326 - val_accuracy: 0.8655\n",
      "Epoch 6/100\n",
      "125/125 [==============================] - 0s 1ms/step - loss: 0.3345 - accuracy: 0.8622 - val_loss: 0.3327 - val_accuracy: 0.8660\n",
      "Epoch 7/100\n",
      "125/125 [==============================] - 0s 1ms/step - loss: 0.3344 - accuracy: 0.8611 - val_loss: 0.3327 - val_accuracy: 0.8650\n",
      "Epoch 8/100\n",
      "125/125 [==============================] - 0s 1ms/step - loss: 0.3345 - accuracy: 0.8614 - val_loss: 0.3336 - val_accuracy: 0.8635\n",
      "Epoch 9/100\n",
      "125/125 [==============================] - 0s 1ms/step - loss: 0.3349 - accuracy: 0.8625 - val_loss: 0.3339 - val_accuracy: 0.8635\n",
      "Epoch 10/100\n",
      "125/125 [==============================] - 0s 1ms/step - loss: 0.3345 - accuracy: 0.8624 - val_loss: 0.3330 - val_accuracy: 0.8660\n",
      "Epoch 11/100\n",
      "125/125 [==============================] - 0s 1ms/step - loss: 0.3345 - accuracy: 0.8626 - val_loss: 0.3330 - val_accuracy: 0.8645\n",
      "Epoch 12/100\n",
      "125/125 [==============================] - 0s 1ms/step - loss: 0.3344 - accuracy: 0.8619 - val_loss: 0.3330 - val_accuracy: 0.8655\n",
      "Epoch 13/100\n",
      "125/125 [==============================] - 0s 1ms/step - loss: 0.3346 - accuracy: 0.8631 - val_loss: 0.3325 - val_accuracy: 0.8655\n",
      "Epoch 14/100\n",
      "125/125 [==============================] - 0s 2ms/step - loss: 0.3348 - accuracy: 0.8619 - val_loss: 0.3330 - val_accuracy: 0.8640\n",
      "Epoch 15/100\n",
      "125/125 [==============================] - 0s 2ms/step - loss: 0.3345 - accuracy: 0.8625 - val_loss: 0.3327 - val_accuracy: 0.8665\n",
      "Epoch 16/100\n",
      "125/125 [==============================] - 0s 1ms/step - loss: 0.3347 - accuracy: 0.8622 - val_loss: 0.3327 - val_accuracy: 0.8655\n",
      "Epoch 17/100\n",
      "125/125 [==============================] - 0s 2ms/step - loss: 0.3344 - accuracy: 0.8636 - val_loss: 0.3329 - val_accuracy: 0.8640\n",
      "Epoch 18/100\n",
      "125/125 [==============================] - 0s 1ms/step - loss: 0.3347 - accuracy: 0.8610 - val_loss: 0.3331 - val_accuracy: 0.8630\n",
      "Epoch 19/100\n",
      "125/125 [==============================] - 0s 1ms/step - loss: 0.3350 - accuracy: 0.8615 - val_loss: 0.3325 - val_accuracy: 0.8670\n",
      "Epoch 20/100\n",
      "125/125 [==============================] - 0s 1ms/step - loss: 0.3348 - accuracy: 0.8626 - val_loss: 0.3328 - val_accuracy: 0.8650\n",
      "Epoch 21/100\n",
      "125/125 [==============================] - 0s 1ms/step - loss: 0.3346 - accuracy: 0.8618 - val_loss: 0.3323 - val_accuracy: 0.8630\n",
      "Epoch 22/100\n",
      "125/125 [==============================] - 0s 1ms/step - loss: 0.3353 - accuracy: 0.8620 - val_loss: 0.3323 - val_accuracy: 0.8650\n",
      "Epoch 23/100\n",
      "125/125 [==============================] - 0s 1ms/step - loss: 0.3345 - accuracy: 0.8616 - val_loss: 0.3321 - val_accuracy: 0.8650\n",
      "Epoch 24/100\n",
      "125/125 [==============================] - 0s 1ms/step - loss: 0.3348 - accuracy: 0.8605 - val_loss: 0.3321 - val_accuracy: 0.8660\n",
      "Epoch 25/100\n",
      "125/125 [==============================] - 0s 2ms/step - loss: 0.3350 - accuracy: 0.8615 - val_loss: 0.3326 - val_accuracy: 0.8635\n",
      "Epoch 26/100\n",
      "125/125 [==============================] - 0s 2ms/step - loss: 0.3350 - accuracy: 0.8622 - val_loss: 0.3328 - val_accuracy: 0.8615\n",
      "Epoch 27/100\n",
      "125/125 [==============================] - 0s 1ms/step - loss: 0.3347 - accuracy: 0.8625 - val_loss: 0.3323 - val_accuracy: 0.8640\n",
      "Epoch 28/100\n",
      "125/125 [==============================] - 0s 2ms/step - loss: 0.3347 - accuracy: 0.8612 - val_loss: 0.3333 - val_accuracy: 0.8630\n",
      "Epoch 29/100\n",
      "125/125 [==============================] - 0s 1ms/step - loss: 0.3349 - accuracy: 0.8609 - val_loss: 0.3322 - val_accuracy: 0.8650\n",
      "Epoch 30/100\n",
      "125/125 [==============================] - 0s 1ms/step - loss: 0.3350 - accuracy: 0.8630 - val_loss: 0.3324 - val_accuracy: 0.8660\n",
      "Epoch 31/100\n",
      "125/125 [==============================] - 0s 1ms/step - loss: 0.3350 - accuracy: 0.8619 - val_loss: 0.3323 - val_accuracy: 0.8635\n",
      "Epoch 32/100\n",
      "125/125 [==============================] - 0s 2ms/step - loss: 0.3348 - accuracy: 0.8618 - val_loss: 0.3326 - val_accuracy: 0.8645\n",
      "Epoch 33/100\n",
      "125/125 [==============================] - 0s 2ms/step - loss: 0.3353 - accuracy: 0.8602 - val_loss: 0.3327 - val_accuracy: 0.8635\n",
      "Epoch 34/100\n",
      "125/125 [==============================] - 0s 1ms/step - loss: 0.3350 - accuracy: 0.8618 - val_loss: 0.3320 - val_accuracy: 0.8680\n",
      "Epoch 35/100\n",
      "125/125 [==============================] - 0s 1ms/step - loss: 0.3349 - accuracy: 0.8627 - val_loss: 0.3314 - val_accuracy: 0.8655\n",
      "Epoch 36/100\n",
      "125/125 [==============================] - 0s 2ms/step - loss: 0.3345 - accuracy: 0.8625 - val_loss: 0.3323 - val_accuracy: 0.8645\n",
      "Epoch 37/100\n",
      "125/125 [==============================] - 0s 1ms/step - loss: 0.3350 - accuracy: 0.8610 - val_loss: 0.3321 - val_accuracy: 0.8640\n",
      "Epoch 38/100\n",
      "125/125 [==============================] - 0s 1ms/step - loss: 0.3347 - accuracy: 0.8619 - val_loss: 0.3329 - val_accuracy: 0.8625\n",
      "Epoch 39/100\n",
      "125/125 [==============================] - 0s 1ms/step - loss: 0.3352 - accuracy: 0.8606 - val_loss: 0.3319 - val_accuracy: 0.8660\n",
      "Epoch 40/100\n",
      "125/125 [==============================] - 0s 1ms/step - loss: 0.3349 - accuracy: 0.8610 - val_loss: 0.3319 - val_accuracy: 0.8660\n",
      "Epoch 41/100\n",
      "125/125 [==============================] - 0s 1ms/step - loss: 0.3346 - accuracy: 0.8610 - val_loss: 0.3329 - val_accuracy: 0.8640\n",
      "Epoch 42/100\n",
      "125/125 [==============================] - 0s 1ms/step - loss: 0.3350 - accuracy: 0.8609 - val_loss: 0.3325 - val_accuracy: 0.8640\n",
      "Epoch 43/100\n",
      "125/125 [==============================] - 0s 1ms/step - loss: 0.3349 - accuracy: 0.8610 - val_loss: 0.3323 - val_accuracy: 0.8665\n",
      "Epoch 44/100\n",
      "125/125 [==============================] - 0s 2ms/step - loss: 0.3348 - accuracy: 0.8615 - val_loss: 0.3321 - val_accuracy: 0.8645\n",
      "Epoch 45/100\n",
      "125/125 [==============================] - 0s 1ms/step - loss: 0.3345 - accuracy: 0.8620 - val_loss: 0.3322 - val_accuracy: 0.8665\n",
      "Epoch 46/100\n",
      "125/125 [==============================] - 0s 1ms/step - loss: 0.3341 - accuracy: 0.8629 - val_loss: 0.3323 - val_accuracy: 0.8610\n",
      "Epoch 47/100\n",
      "125/125 [==============================] - 0s 1ms/step - loss: 0.3351 - accuracy: 0.8621 - val_loss: 0.3316 - val_accuracy: 0.8660\n",
      "Epoch 48/100\n",
      "125/125 [==============================] - 0s 1ms/step - loss: 0.3345 - accuracy: 0.8621 - val_loss: 0.3318 - val_accuracy: 0.8665\n",
      "Epoch 49/100\n",
      "125/125 [==============================] - 0s 1ms/step - loss: 0.3345 - accuracy: 0.8629 - val_loss: 0.3320 - val_accuracy: 0.8635\n",
      "Epoch 50/100\n",
      "125/125 [==============================] - 0s 1ms/step - loss: 0.3348 - accuracy: 0.8614 - val_loss: 0.3324 - val_accuracy: 0.8665\n",
      "Epoch 51/100\n",
      "125/125 [==============================] - 0s 1ms/step - loss: 0.3344 - accuracy: 0.8631 - val_loss: 0.3325 - val_accuracy: 0.8635\n",
      "Epoch 52/100\n",
      "125/125 [==============================] - 0s 1ms/step - loss: 0.3347 - accuracy: 0.8618 - val_loss: 0.3319 - val_accuracy: 0.8655\n",
      "Epoch 53/100\n",
      "125/125 [==============================] - 0s 1ms/step - loss: 0.3350 - accuracy: 0.8615 - val_loss: 0.3324 - val_accuracy: 0.8665\n",
      "Epoch 54/100\n",
      "125/125 [==============================] - 0s 1ms/step - loss: 0.3346 - accuracy: 0.8634 - val_loss: 0.3323 - val_accuracy: 0.8630\n",
      "Epoch 55/100\n",
      "125/125 [==============================] - 0s 1ms/step - loss: 0.3348 - accuracy: 0.8630 - val_loss: 0.3325 - val_accuracy: 0.8660\n",
      "Epoch 56/100\n",
      "125/125 [==============================] - 0s 1ms/step - loss: 0.3343 - accuracy: 0.8619 - val_loss: 0.3323 - val_accuracy: 0.8680\n",
      "Epoch 57/100\n",
      "125/125 [==============================] - 0s 1ms/step - loss: 0.3347 - accuracy: 0.8614 - val_loss: 0.3332 - val_accuracy: 0.8645\n"
     ]
    },
    {
     "name": "stdout",
     "output_type": "stream",
     "text": [
      "Epoch 58/100\n",
      "125/125 [==============================] - 0s 1ms/step - loss: 0.3348 - accuracy: 0.8618 - val_loss: 0.3326 - val_accuracy: 0.8645\n",
      "Epoch 59/100\n",
      "125/125 [==============================] - 0s 1ms/step - loss: 0.3345 - accuracy: 0.8621 - val_loss: 0.3328 - val_accuracy: 0.8635\n",
      "Epoch 60/100\n",
      "125/125 [==============================] - 0s 1ms/step - loss: 0.3343 - accuracy: 0.8626 - val_loss: 0.3325 - val_accuracy: 0.8640\n",
      "Epoch 61/100\n",
      "125/125 [==============================] - 0s 1ms/step - loss: 0.3351 - accuracy: 0.8604 - val_loss: 0.3321 - val_accuracy: 0.8660\n",
      "Epoch 62/100\n",
      "125/125 [==============================] - 0s 1ms/step - loss: 0.3340 - accuracy: 0.8631 - val_loss: 0.3320 - val_accuracy: 0.8640\n",
      "Epoch 63/100\n",
      "125/125 [==============================] - 0s 1ms/step - loss: 0.3346 - accuracy: 0.8625 - val_loss: 0.3324 - val_accuracy: 0.8655\n",
      "Epoch 64/100\n",
      "125/125 [==============================] - 0s 1ms/step - loss: 0.3344 - accuracy: 0.8629 - val_loss: 0.3330 - val_accuracy: 0.8640\n",
      "Epoch 65/100\n",
      "125/125 [==============================] - 0s 2ms/step - loss: 0.3349 - accuracy: 0.8608 - val_loss: 0.3318 - val_accuracy: 0.8660\n",
      "Epoch 66/100\n",
      "125/125 [==============================] - 0s 1ms/step - loss: 0.3342 - accuracy: 0.8635 - val_loss: 0.3322 - val_accuracy: 0.8655\n",
      "Epoch 67/100\n",
      "125/125 [==============================] - 0s 1ms/step - loss: 0.3347 - accuracy: 0.8624 - val_loss: 0.3329 - val_accuracy: 0.8645\n",
      "Epoch 68/100\n",
      "125/125 [==============================] - 0s 1ms/step - loss: 0.3352 - accuracy: 0.8605 - val_loss: 0.3319 - val_accuracy: 0.8630\n",
      "Epoch 69/100\n",
      "125/125 [==============================] - 0s 1ms/step - loss: 0.3344 - accuracy: 0.8626 - val_loss: 0.3329 - val_accuracy: 0.8660\n",
      "Epoch 70/100\n",
      "125/125 [==============================] - 0s 1ms/step - loss: 0.3341 - accuracy: 0.8616 - val_loss: 0.3315 - val_accuracy: 0.8650\n",
      "Epoch 71/100\n",
      "125/125 [==============================] - 0s 1ms/step - loss: 0.3346 - accuracy: 0.8621 - val_loss: 0.3323 - val_accuracy: 0.8660\n",
      "Epoch 72/100\n",
      "125/125 [==============================] - 0s 1ms/step - loss: 0.3344 - accuracy: 0.8599 - val_loss: 0.3314 - val_accuracy: 0.8650\n",
      "Epoch 73/100\n",
      "125/125 [==============================] - 0s 1ms/step - loss: 0.3348 - accuracy: 0.8616 - val_loss: 0.3322 - val_accuracy: 0.8645\n",
      "Epoch 74/100\n",
      "125/125 [==============================] - 0s 1ms/step - loss: 0.3346 - accuracy: 0.8625 - val_loss: 0.3318 - val_accuracy: 0.8675\n",
      "Epoch 75/100\n",
      "125/125 [==============================] - 0s 1ms/step - loss: 0.3342 - accuracy: 0.8627 - val_loss: 0.3318 - val_accuracy: 0.8650\n",
      "Epoch 76/100\n",
      "125/125 [==============================] - 0s 1ms/step - loss: 0.3344 - accuracy: 0.8612 - val_loss: 0.3320 - val_accuracy: 0.8640\n",
      "Epoch 77/100\n",
      "125/125 [==============================] - 0s 1ms/step - loss: 0.3344 - accuracy: 0.8620 - val_loss: 0.3329 - val_accuracy: 0.8645\n",
      "Epoch 78/100\n",
      "125/125 [==============================] - 0s 1ms/step - loss: 0.3346 - accuracy: 0.8605 - val_loss: 0.3323 - val_accuracy: 0.8625\n",
      "Epoch 79/100\n",
      "125/125 [==============================] - 0s 1ms/step - loss: 0.3339 - accuracy: 0.8620 - val_loss: 0.3332 - val_accuracy: 0.8625\n",
      "Epoch 80/100\n",
      "125/125 [==============================] - 0s 1ms/step - loss: 0.3350 - accuracy: 0.8626 - val_loss: 0.3316 - val_accuracy: 0.8630\n",
      "Epoch 81/100\n",
      "125/125 [==============================] - 0s 1ms/step - loss: 0.3351 - accuracy: 0.8610 - val_loss: 0.3326 - val_accuracy: 0.8610\n",
      "Epoch 82/100\n",
      "125/125 [==============================] - 0s 1ms/step - loss: 0.3347 - accuracy: 0.8614 - val_loss: 0.3313 - val_accuracy: 0.8645\n",
      "Epoch 83/100\n",
      "125/125 [==============================] - 0s 1ms/step - loss: 0.3340 - accuracy: 0.8612 - val_loss: 0.3311 - val_accuracy: 0.8665\n",
      "Epoch 84/100\n",
      "125/125 [==============================] - 0s 1ms/step - loss: 0.3344 - accuracy: 0.8612 - val_loss: 0.3312 - val_accuracy: 0.8655\n",
      "Epoch 85/100\n",
      "125/125 [==============================] - 0s 1ms/step - loss: 0.3342 - accuracy: 0.8629 - val_loss: 0.3311 - val_accuracy: 0.8660\n",
      "Epoch 86/100\n",
      "125/125 [==============================] - 0s 1ms/step - loss: 0.3351 - accuracy: 0.8624 - val_loss: 0.3335 - val_accuracy: 0.8600\n",
      "Epoch 87/100\n",
      "125/125 [==============================] - 0s 1ms/step - loss: 0.3343 - accuracy: 0.8600 - val_loss: 0.3315 - val_accuracy: 0.8670\n",
      "Epoch 88/100\n",
      "125/125 [==============================] - 0s 1ms/step - loss: 0.3342 - accuracy: 0.8616 - val_loss: 0.3314 - val_accuracy: 0.8685\n",
      "Epoch 89/100\n",
      "125/125 [==============================] - 0s 1ms/step - loss: 0.3345 - accuracy: 0.8608 - val_loss: 0.3312 - val_accuracy: 0.8650\n",
      "Epoch 90/100\n",
      "125/125 [==============================] - 0s 1ms/step - loss: 0.3344 - accuracy: 0.8604 - val_loss: 0.3315 - val_accuracy: 0.8665\n",
      "Epoch 91/100\n",
      "125/125 [==============================] - 0s 1ms/step - loss: 0.3341 - accuracy: 0.8615 - val_loss: 0.3318 - val_accuracy: 0.8660\n",
      "Epoch 92/100\n",
      "125/125 [==============================] - 0s 1ms/step - loss: 0.3340 - accuracy: 0.8631 - val_loss: 0.3315 - val_accuracy: 0.8635\n",
      "Epoch 93/100\n",
      "125/125 [==============================] - 0s 1ms/step - loss: 0.3344 - accuracy: 0.8606 - val_loss: 0.3317 - val_accuracy: 0.8680\n",
      "Epoch 94/100\n",
      "125/125 [==============================] - 0s 1ms/step - loss: 0.3345 - accuracy: 0.8618 - val_loss: 0.3315 - val_accuracy: 0.8630\n",
      "Epoch 95/100\n",
      "125/125 [==============================] - 0s 1ms/step - loss: 0.3342 - accuracy: 0.8601 - val_loss: 0.3323 - val_accuracy: 0.8645\n",
      "Epoch 96/100\n",
      "125/125 [==============================] - 0s 1ms/step - loss: 0.3343 - accuracy: 0.8629 - val_loss: 0.3315 - val_accuracy: 0.8665\n",
      "Epoch 97/100\n",
      "125/125 [==============================] - 0s 1ms/step - loss: 0.3338 - accuracy: 0.8618 - val_loss: 0.3319 - val_accuracy: 0.8655\n",
      "Epoch 98/100\n",
      "125/125 [==============================] - 0s 1ms/step - loss: 0.3345 - accuracy: 0.8618 - val_loss: 0.3314 - val_accuracy: 0.8645\n",
      "Epoch 99/100\n",
      "125/125 [==============================] - 0s 1ms/step - loss: 0.3344 - accuracy: 0.8624 - val_loss: 0.3316 - val_accuracy: 0.8650\n",
      "Epoch 100/100\n",
      "125/125 [==============================] - 0s 1ms/step - loss: 0.3338 - accuracy: 0.8612 - val_loss: 0.3312 - val_accuracy: 0.8650\n"
     ]
    }
   ],
   "source": [
    "history = \n",
    "\n",
    "\n"
   ]
  },
  {
   "cell_type": "markdown",
   "metadata": {},
   "source": [
    "#### Note that now we have two extra readings: `val_loss` and `val_acc`. Our model is working fine. Now we will visualize training and validation losses and accuracies.\n",
    "Hint: try `history.history`"
   ]
  },
  {
   "cell_type": "code",
   "execution_count": 28,
   "metadata": {},
   "outputs": [
    {
     "data": {
      "text/plain": [
       "dict_keys(['loss', 'accuracy', 'val_loss', 'val_accuracy'])"
      ]
     },
     "execution_count": 28,
     "metadata": {},
     "output_type": "execute_result"
    }
   ],
   "source": [
    "\n"
   ]
  },
  {
   "cell_type": "code",
   "execution_count": 29,
   "metadata": {},
   "outputs": [
    {
     "data": {
      "image/png": "[encoded data removed]",
      "text/plain": [
       "<Figure size 432x432 with 1 Axes>"
      ]
     },
     "metadata": {
      "needs_background": "light"
     },
     "output_type": "display_data"
    }
   ],
   "source": [
    "plt.figure(figsize=(6, 6))\n",
    "plt.title('Model accuracy')\n",
    "\n",
    "\n",
    "\n"
   ]
  },
  {
   "cell_type": "markdown",
   "metadata": {},
   "source": [
    "## Great job!"
   ]
  }
 ],
 "metadata": {
  "kernelspec": {
   "display_name": "Python 3 (ipykernel)",
   "language": "python",
   "name": "python3"
  },
  "language_info": {
   "codemirror_mode": {
    "name": "ipython",
    "version": 3
   },
   "file_extension": ".py",
   "mimetype": "text/x-python",
   "name": "python",
   "nbconvert_exporter": "python",
   "pygments_lexer": "ipython3",
   "version": "3.9.12"
  },
  "varInspector": {
   "cols": {
    "lenName": 16,
    "lenType": 16,
    "lenVar": 40
   },
   "kernels_config": {
    "python": {
     "delete_cmd_postfix": "",
     "delete_cmd_prefix": "del ",
     "library": "var_list.py",
     "varRefreshCmd": "print(var_dic_list())"
    },
    "r": {
     "delete_cmd_postfix": ") ",
     "delete_cmd_prefix": "rm(",
     "library": "var_list.r",
     "varRefreshCmd": "cat(var_dic_list()) "
    }
   },
   "types_to_exclude": [
    "module",
    "function",
    "builtin_function_or_method",
    "instance",
    "_Feature"
   ],
   "window_display": false
  }
 },
 "nbformat": 4,
 "nbformat_minor": 2
}
