{
 "cells": [
  {
   "cell_type": "markdown",
   "metadata": {
    "id": "6V-A4Nxt4ngQ"
   },
   "source": [
    "<h1><center>DS 300: Take-home Quiz 4 - ANN</center></h1>"
   ]
  },
  {
   "cell_type": "markdown",
   "metadata": {
    "id": "LWVZvsQd4ngR"
   },
   "source": [
    "In the past, you have been working with the Home Value Prediction data. In this lab, we’ve reduced the number of input features and changed the task into predicting whether the house price is above or below median value. You will create your own neural network to perform the prediction task. \n",
    "\n",
    "Since this dataset is familiar to us and much simplified, some questions in this lab will be open-ended just like you will see in the real-life interview. \n",
    "\n",
    "You have some major goals here: \n",
    "\n",
    "+ Question 1 (25 Points): Load the dataset and perform data preprocessing. \n",
    "+ Question 2 (25 Points): Perform exploratory data analysis and render some insights. \n",
    "+ Question 3 (25 Points): Build an ANN model with Keras and try to get the prediction accuracy over 85%.\n",
    "+ Question 4 (25 Points): Plot the model accuracy and model loss in two graphs with training and validation over epochs. \n",
    "\n",
    "Something you may want to consider:\n",
    "\n",
    "1. Try different scalers in the data preprocessing. E.g., MinMaxScaler() vs StandardScaler()\n",
    "2. Try to split your dataset into the following percentage: 1) Training set (70%); 2) Test set (15%); 3) Validation set (15%). The validation set can be used in the `training` step in ANN modeling. You may want to run `train_test_split` twice to achieve this goal.\n",
    "\n",
    "Dataset can be found at: [url](https://raw.githubusercontent.com/BlueJayADAL/DS300/master/datasets/lab7_house.csv).\n"
   ]
  },
  {
   "cell_type": "markdown",
   "metadata": {
    "id": "1-meqWHd4ngR"
   },
   "source": [
    "## Question 1\n",
    "\n",
    "#### Import all the necessary libraries"
   ]
  },
  {
   "cell_type": "code",
   "execution_count": 1,
   "metadata": {
    "id": "_94ZOcZA4ngS"
   },
   "outputs": [],
   "source": [
    "# Importing the libraries\n",
    "\n",
    "\n",
    "\n",
    "\n",
    "\n",
    "\n"
   ]
  },
  {
   "cell_type": "markdown",
   "metadata": {
    "id": "xF5hc_En4ngW"
   },
   "source": [
    "#### Load the dataset from [url](https://raw.githubusercontent.com/BlueJayADAL/DS300/master/datasets/lab7_house.csv) into a DataFrame named as `df`."
   ]
  },
  {
   "cell_type": "code",
   "execution_count": 2,
   "metadata": {
    "id": "3pzxbFRx4ngW"
   },
   "outputs": [],
   "source": [
    "url = \n",
    "\n",
    "\n",
    "df = \n",
    "\n"
   ]
  },
  {
   "cell_type": "code",
   "execution_count": 3,
   "metadata": {
    "colab": {
     "base_uri": "https://localhost:8080/",
     "height": 204
    },
    "id": "twoHddv74nga",
    "outputId": "801fb87c-2d69-417f-a388-0df2a66f8e16"
   },
   "outputs": [
    {
     "data": {
      "text/html": [
       "<div>\n",
       "<style scoped>\n",
       "    .dataframe tbody tr th:only-of-type {\n",
       "        vertical-align: middle;\n",
       "    }\n",
       "\n",
       "    .dataframe tbody tr th {\n",
       "        vertical-align: top;\n",
       "    }\n",
       "\n",
       "    .dataframe thead th {\n",
       "        text-align: right;\n",
       "    }\n",
       "</style>\n",
       "<table border=\"1\" class=\"dataframe\">\n",
       "  <thead>\n",
       "    <tr style=\"text-align: right;\">\n",
       "      <th></th>\n",
       "      <th>LotArea</th>\n",
       "      <th>OverallQual</th>\n",
       "      <th>OverallCond</th>\n",
       "      <th>TotalBsmtSF</th>\n",
       "      <th>FullBath</th>\n",
       "      <th>HalfBath</th>\n",
       "      <th>BedroomAbvGr</th>\n",
       "      <th>TotRmsAbvGrd</th>\n",
       "      <th>Fireplaces</th>\n",
       "      <th>GarageArea</th>\n",
       "      <th>AboveMedianPrice</th>\n",
       "    </tr>\n",
       "  </thead>\n",
       "  <tbody>\n",
       "    <tr>\n",
       "      <th>0</th>\n",
       "      <td>8450</td>\n",
       "      <td>7</td>\n",
       "      <td>5</td>\n",
       "      <td>856</td>\n",
       "      <td>2</td>\n",
       "      <td>1</td>\n",
       "      <td>3</td>\n",
       "      <td>8</td>\n",
       "      <td>0</td>\n",
       "      <td>548</td>\n",
       "      <td>1</td>\n",
       "    </tr>\n",
       "    <tr>\n",
       "      <th>1</th>\n",
       "      <td>9600</td>\n",
       "      <td>6</td>\n",
       "      <td>8</td>\n",
       "      <td>1262</td>\n",
       "      <td>2</td>\n",
       "      <td>0</td>\n",
       "      <td>3</td>\n",
       "      <td>6</td>\n",
       "      <td>1</td>\n",
       "      <td>460</td>\n",
       "      <td>1</td>\n",
       "    </tr>\n",
       "    <tr>\n",
       "      <th>2</th>\n",
       "      <td>11250</td>\n",
       "      <td>7</td>\n",
       "      <td>5</td>\n",
       "      <td>920</td>\n",
       "      <td>2</td>\n",
       "      <td>1</td>\n",
       "      <td>3</td>\n",
       "      <td>6</td>\n",
       "      <td>1</td>\n",
       "      <td>608</td>\n",
       "      <td>1</td>\n",
       "    </tr>\n",
       "    <tr>\n",
       "      <th>3</th>\n",
       "      <td>9550</td>\n",
       "      <td>7</td>\n",
       "      <td>5</td>\n",
       "      <td>756</td>\n",
       "      <td>1</td>\n",
       "      <td>0</td>\n",
       "      <td>3</td>\n",
       "      <td>7</td>\n",
       "      <td>1</td>\n",
       "      <td>642</td>\n",
       "      <td>0</td>\n",
       "    </tr>\n",
       "    <tr>\n",
       "      <th>4</th>\n",
       "      <td>14260</td>\n",
       "      <td>8</td>\n",
       "      <td>5</td>\n",
       "      <td>1145</td>\n",
       "      <td>2</td>\n",
       "      <td>1</td>\n",
       "      <td>4</td>\n",
       "      <td>9</td>\n",
       "      <td>1</td>\n",
       "      <td>836</td>\n",
       "      <td>1</td>\n",
       "    </tr>\n",
       "  </tbody>\n",
       "</table>\n",
       "</div>"
      ],
      "text/plain": [
       "   LotArea  OverallQual  OverallCond  ...  Fireplaces  GarageArea  AboveMedianPrice\n",
       "0     8450            7            5  ...           0         548                 1\n",
       "1     9600            6            8  ...           1         460                 1\n",
       "2    11250            7            5  ...           1         608                 1\n",
       "3     9550            7            5  ...           1         642                 0\n",
       "4    14260            8            5  ...           1         836                 1\n",
       "\n",
       "[5 rows x 11 columns]"
      ]
     },
     "execution_count": 3,
     "metadata": {
      "tags": []
     },
     "output_type": "execute_result"
    }
   ],
   "source": [
    "df.head()"
   ]
  },
  {
   "cell_type": "markdown",
   "metadata": {
    "id": "vVnLuCLT4ngh"
   },
   "source": [
    "Now, we split the dataset into our input features and the label we wish to predict."
   ]
  },
  {
   "cell_type": "code",
   "execution_count": 4,
   "metadata": {
    "id": "Fl7x1VM-4ngh"
   },
   "outputs": [],
   "source": [
    "X = \n",
    "\n",
    "\n",
    "y = \n",
    "\n"
   ]
  },
  {
   "cell_type": "markdown",
   "metadata": {
    "id": "07Fwv4TQ4ngk"
   },
   "source": [
    "Normalizing our data is very important, as we want the input features to be on the same order of magnitude to make our training easier. We'll use a min-max scaler from scikit-learn which scales our data to be between 0 and 1."
   ]
  },
  {
   "cell_type": "code",
   "execution_count": 5,
   "metadata": {
    "id": "AlMIjXUG4ngl"
   },
   "outputs": [],
   "source": [
    "from sklearn import preprocessing"
   ]
  },
  {
   "cell_type": "code",
   "execution_count": 6,
   "metadata": {
    "id": "zKlJJQ724ngn"
   },
   "outputs": [],
   "source": [
    "min_max_scaler = \n",
    "\n",
    "\n",
    "X_scale = \n",
    "\n"
   ]
  },
  {
   "cell_type": "code",
   "execution_count": 7,
   "metadata": {
    "colab": {
     "base_uri": "https://localhost:8080/",
     "height": 238
    },
    "id": "u5dwmLtm4ngs",
    "outputId": "e7f145c9-838d-4d5a-b321-a6403d09182d"
   },
   "outputs": [
    {
     "data": {
      "text/plain": [
       "array([[0.0334198 , 0.66666667, 0.5       , ..., 0.5       , 0.        ,\n",
       "        0.3864598 ],\n",
       "       [0.03879502, 0.55555556, 0.875     , ..., 0.33333333, 0.33333333,\n",
       "        0.32440056],\n",
       "       [0.04650728, 0.66666667, 0.5       , ..., 0.33333333, 0.33333333,\n",
       "        0.42877292],\n",
       "       ...,\n",
       "       [0.03618687, 0.66666667, 1.        , ..., 0.58333333, 0.66666667,\n",
       "        0.17771509],\n",
       "       [0.03934189, 0.44444444, 0.625     , ..., 0.25      , 0.        ,\n",
       "        0.16925247],\n",
       "       [0.04037019, 0.44444444, 0.625     , ..., 0.33333333, 0.        ,\n",
       "        0.19464034]])"
      ]
     },
     "execution_count": 7,
     "metadata": {
      "tags": []
     },
     "output_type": "execute_result"
    }
   ],
   "source": [
    "X_scale"
   ]
  },
  {
   "cell_type": "markdown",
   "metadata": {
    "id": "eJXmOzpz4ngv"
   },
   "source": [
    "Lastly, we wish to set aside some parts of our dataset for a validation set and a test set. We use the function train_test_split from scikit-learn to do that."
   ]
  },
  {
   "cell_type": "code",
   "execution_count": 8,
   "metadata": {
    "id": "XxcuvUAq4ngv"
   },
   "outputs": [],
   "source": [
    "from \n"
   ]
  },
  {
   "cell_type": "code",
   "execution_count": 9,
   "metadata": {
    "id": "e4C9mdHc4ngy"
   },
   "outputs": [],
   "source": [
    "X_train, X_val_and_test, y_train, y_val_and_test = \n",
    "\n"
   ]
  },
  {
   "cell_type": "code",
   "execution_count": 10,
   "metadata": {
    "id": "I6BMNwrd4ng0"
   },
   "outputs": [],
   "source": [
    "X_val, X_test, y_val, y_test = \n",
    "\n"
   ]
  },
  {
   "cell_type": "code",
   "execution_count": 11,
   "metadata": {
    "colab": {
     "base_uri": "https://localhost:8080/",
     "height": 34
    },
    "id": "p15LN0b64ng9",
    "outputId": "cc4d8d3f-f84a-4cd4-c1eb-c7813c4c6ca8"
   },
   "outputs": [
    {
     "name": "stdout",
     "output_type": "stream",
     "text": [
      "(1022, 10) (219, 10) (219, 10) (1022,) (219,) (219,)\n"
     ]
    }
   ],
   "source": [
    "print(X_train.shape, X_val.shape, X_test.shape, y_train.shape, y_val.shape, y_test.shape)"
   ]
  },
  {
   "cell_type": "markdown",
   "metadata": {
    "id": "QATppjzE9XBA"
   },
   "source": [
    "## Question 2: EDA\n",
    "\n",
    "Use your own knowledge to achieve this. Render some interesting results!\n",
    "\n",
    "At least four different graphs and the corresponding observations have to be provided to receive full credits. "
   ]
  },
  {
   "cell_type": "code",
   "execution_count": null,
   "metadata": {},
   "outputs": [],
   "source": []
  },
  {
   "cell_type": "markdown",
   "metadata": {
    "id": "jZTafAQQ4nhA"
   },
   "source": [
    "## Question 3: Building and Training Our First Neural Network"
   ]
  },
  {
   "cell_type": "markdown",
   "metadata": {
    "id": "EiUC5ZTg4nhA"
   },
   "source": [
    "We will be using Keras to build our architecture. Let's import the code from Keras that we will need to use:"
   ]
  },
  {
   "cell_type": "code",
   "execution_count": 12,
   "metadata": {
    "id": "MJHg0fBV4nhB"
   },
   "outputs": [],
   "source": [
    "from \n"
   ]
  },
  {
   "cell_type": "markdown",
   "metadata": {
    "id": "63gH80-w4nhE"
   },
   "source": [
    "We will be using the Sequential model, which means that we merely need to describe the layers above in sequence. Our neural network has three layers:\n",
    "\n",
    "- Hidden layer 1: 32 neurons, ReLU activation\n",
    "- Hidden layer 2: 32 neurons, ReLU activation\n",
    "- Output Layer: 1 neuron, Sigmoid activation"
   ]
  },
  {
   "cell_type": "code",
   "execution_count": 13,
   "metadata": {
    "id": "PLDI1jGf4nhE"
   },
   "outputs": [],
   "source": [
    "model = \n",
    "\n",
    "\n",
    "\n",
    "\n",
    "\n"
   ]
  },
  {
   "cell_type": "markdown",
   "metadata": {
    "id": "sFlnvQVv4nhH"
   },
   "source": [
    "Now that we've got our architecture specified, we need to find the best numbers for it. Before we start our training, we have to configure the model by\n",
    "- Telling it what algorithm you want to use to do the optimization (we'll use stochastic gradient descent)\n",
    "- Telling it what loss function to use (for binary classification, we will use binary cross entropy)\n",
    "- Telling it what other metrics you want to track apart from the loss function (we want to track accuracy as well)\n",
    "\n",
    "We do so below:"
   ]
  },
  {
   "cell_type": "code",
   "execution_count": 14,
   "metadata": {
    "id": "_FETypoL4nhH"
   },
   "outputs": [],
   "source": [
    "model.\n",
    "\n",
    "\n",
    "\n",
    "\n",
    "\n"
   ]
  },
  {
   "cell_type": "markdown",
   "metadata": {
    "id": "2aLdSHol4nhK"
   },
   "source": [
    "Training on the data is pretty straightforward and requires us to write one line of code. The function is called 'fit' as we are fitting the parameters to the data. We specify:\n",
    "- what data we are training on, which is X_train and Y_train\n",
    "- the size of our mini-batch, we use 32\n",
    "- how long we want to train it for (epochs), we use 100\n",
    "- what our validation data is so that the model will tell us how we are doing on the validation data at each point.\n",
    "\n",
    "This function will output a history, which we save under the variable hist. We'll use this variable a little later."
   ]
  },
  {
   "cell_type": "code",
   "execution_count": 15,
   "metadata": {
    "colab": {
     "base_uri": "https://localhost:8080/",
     "height": 1000
    },
    "id": "qpkVONmd4nhK",
    "outputId": "9ba03829-89fe-4b56-9f5a-cfce53aeb64d"
   },
   "outputs": [
    {
     "name": "stdout",
     "output_type": "stream",
     "text": [
      "Epoch 1/100\n",
      "32/32 [==============================] - 0s 6ms/step - loss: 0.7043 - accuracy: 0.5010 - val_loss: 0.6928 - val_accuracy: 0.5023\n",
      "Epoch 2/100\n",
      "32/32 [==============================] - 0s 3ms/step - loss: 0.6869 - accuracy: 0.5254 - val_loss: 0.6800 - val_accuracy: 0.6530\n",
      "Epoch 3/100\n",
      "32/32 [==============================] - 0s 3ms/step - loss: 0.6762 - accuracy: 0.7446 - val_loss: 0.6712 - val_accuracy: 0.7808\n",
      "Epoch 4/100\n",
      "32/32 [==============================] - 0s 3ms/step - loss: 0.6677 - accuracy: 0.7583 - val_loss: 0.6638 - val_accuracy: 0.7808\n",
      "Epoch 5/100\n",
      "32/32 [==============================] - 0s 3ms/step - loss: 0.6603 - accuracy: 0.7632 - val_loss: 0.6569 - val_accuracy: 0.7489\n",
      "Epoch 6/100\n",
      "32/32 [==============================] - 0s 3ms/step - loss: 0.6534 - accuracy: 0.7505 - val_loss: 0.6503 - val_accuracy: 0.7534\n",
      "Epoch 7/100\n",
      "32/32 [==============================] - 0s 3ms/step - loss: 0.6466 - accuracy: 0.7613 - val_loss: 0.6436 - val_accuracy: 0.7626\n",
      "Epoch 8/100\n",
      "32/32 [==============================] - 0s 3ms/step - loss: 0.6399 - accuracy: 0.7720 - val_loss: 0.6367 - val_accuracy: 0.7534\n",
      "Epoch 9/100\n",
      "32/32 [==============================] - 0s 3ms/step - loss: 0.6329 - accuracy: 0.7730 - val_loss: 0.6295 - val_accuracy: 0.7808\n",
      "Epoch 10/100\n",
      "32/32 [==============================] - 0s 3ms/step - loss: 0.6257 - accuracy: 0.7779 - val_loss: 0.6220 - val_accuracy: 0.8128\n",
      "Epoch 11/100\n",
      "32/32 [==============================] - 0s 3ms/step - loss: 0.6183 - accuracy: 0.7984 - val_loss: 0.6143 - val_accuracy: 0.8128\n",
      "Epoch 12/100\n",
      "32/32 [==============================] - 0s 3ms/step - loss: 0.6106 - accuracy: 0.8112 - val_loss: 0.6065 - val_accuracy: 0.8128\n",
      "Epoch 13/100\n",
      "32/32 [==============================] - 0s 3ms/step - loss: 0.6028 - accuracy: 0.8072 - val_loss: 0.5986 - val_accuracy: 0.8219\n",
      "Epoch 14/100\n",
      "32/32 [==============================] - 0s 3ms/step - loss: 0.5950 - accuracy: 0.8141 - val_loss: 0.5908 - val_accuracy: 0.8174\n",
      "Epoch 15/100\n",
      "32/32 [==============================] - 0s 3ms/step - loss: 0.5872 - accuracy: 0.8180 - val_loss: 0.5827 - val_accuracy: 0.8174\n",
      "Epoch 16/100\n",
      "32/32 [==============================] - 0s 2ms/step - loss: 0.5791 - accuracy: 0.8288 - val_loss: 0.5745 - val_accuracy: 0.8265\n",
      "Epoch 17/100\n",
      "32/32 [==============================] - 0s 3ms/step - loss: 0.5706 - accuracy: 0.8200 - val_loss: 0.5659 - val_accuracy: 0.8174\n",
      "Epoch 18/100\n",
      "32/32 [==============================] - 0s 2ms/step - loss: 0.5619 - accuracy: 0.8307 - val_loss: 0.5570 - val_accuracy: 0.8356\n",
      "Epoch 19/100\n",
      "32/32 [==============================] - 0s 3ms/step - loss: 0.5529 - accuracy: 0.8337 - val_loss: 0.5478 - val_accuracy: 0.8356\n",
      "Epoch 20/100\n",
      "32/32 [==============================] - 0s 3ms/step - loss: 0.5436 - accuracy: 0.8317 - val_loss: 0.5383 - val_accuracy: 0.8447\n",
      "Epoch 21/100\n",
      "32/32 [==============================] - 0s 3ms/step - loss: 0.5341 - accuracy: 0.8366 - val_loss: 0.5287 - val_accuracy: 0.8447\n",
      "Epoch 22/100\n",
      "32/32 [==============================] - 0s 3ms/step - loss: 0.5244 - accuracy: 0.8386 - val_loss: 0.5189 - val_accuracy: 0.8676\n",
      "Epoch 23/100\n",
      "32/32 [==============================] - 0s 3ms/step - loss: 0.5150 - accuracy: 0.8464 - val_loss: 0.5092 - val_accuracy: 0.8721\n",
      "Epoch 24/100\n",
      "32/32 [==============================] - 0s 3ms/step - loss: 0.5056 - accuracy: 0.8493 - val_loss: 0.4996 - val_accuracy: 0.8721\n",
      "Epoch 25/100\n",
      "32/32 [==============================] - 0s 3ms/step - loss: 0.4961 - accuracy: 0.8493 - val_loss: 0.4899 - val_accuracy: 0.8721\n",
      "Epoch 26/100\n",
      "32/32 [==============================] - 0s 3ms/step - loss: 0.4871 - accuracy: 0.8532 - val_loss: 0.4806 - val_accuracy: 0.8721\n",
      "Epoch 27/100\n",
      "32/32 [==============================] - 0s 3ms/step - loss: 0.4781 - accuracy: 0.8513 - val_loss: 0.4715 - val_accuracy: 0.8721\n",
      "Epoch 28/100\n",
      "32/32 [==============================] - 0s 3ms/step - loss: 0.4692 - accuracy: 0.8611 - val_loss: 0.4625 - val_accuracy: 0.8721\n",
      "Epoch 29/100\n",
      "32/32 [==============================] - 0s 2ms/step - loss: 0.4603 - accuracy: 0.8523 - val_loss: 0.4538 - val_accuracy: 0.8721\n",
      "Epoch 30/100\n",
      "32/32 [==============================] - 0s 3ms/step - loss: 0.4525 - accuracy: 0.8611 - val_loss: 0.4453 - val_accuracy: 0.8721\n",
      "Epoch 31/100\n",
      "32/32 [==============================] - 0s 3ms/step - loss: 0.4443 - accuracy: 0.8620 - val_loss: 0.4372 - val_accuracy: 0.8721\n",
      "Epoch 32/100\n",
      "32/32 [==============================] - 0s 3ms/step - loss: 0.4365 - accuracy: 0.8581 - val_loss: 0.4291 - val_accuracy: 0.8676\n",
      "Epoch 33/100\n",
      "32/32 [==============================] - 0s 2ms/step - loss: 0.4293 - accuracy: 0.8659 - val_loss: 0.4215 - val_accuracy: 0.8630\n",
      "Epoch 34/100\n",
      "32/32 [==============================] - 0s 4ms/step - loss: 0.4220 - accuracy: 0.8620 - val_loss: 0.4144 - val_accuracy: 0.8721\n",
      "Epoch 35/100\n",
      "32/32 [==============================] - 0s 3ms/step - loss: 0.4148 - accuracy: 0.8581 - val_loss: 0.4077 - val_accuracy: 0.8493\n",
      "Epoch 36/100\n",
      "32/32 [==============================] - 0s 3ms/step - loss: 0.4086 - accuracy: 0.8581 - val_loss: 0.4005 - val_accuracy: 0.8676\n",
      "Epoch 37/100\n",
      "32/32 [==============================] - 0s 3ms/step - loss: 0.4023 - accuracy: 0.8630 - val_loss: 0.3942 - val_accuracy: 0.8630\n",
      "Epoch 38/100\n",
      "32/32 [==============================] - 0s 3ms/step - loss: 0.3968 - accuracy: 0.8640 - val_loss: 0.3881 - val_accuracy: 0.8676\n",
      "Epoch 39/100\n",
      "32/32 [==============================] - 0s 3ms/step - loss: 0.3905 - accuracy: 0.8669 - val_loss: 0.3825 - val_accuracy: 0.8721\n",
      "Epoch 40/100\n",
      "32/32 [==============================] - 0s 3ms/step - loss: 0.3856 - accuracy: 0.8640 - val_loss: 0.3768 - val_accuracy: 0.8767\n",
      "Epoch 41/100\n",
      "32/32 [==============================] - 0s 3ms/step - loss: 0.3806 - accuracy: 0.8669 - val_loss: 0.3717 - val_accuracy: 0.8767\n",
      "Epoch 42/100\n",
      "32/32 [==============================] - 0s 3ms/step - loss: 0.3761 - accuracy: 0.8630 - val_loss: 0.3668 - val_accuracy: 0.8721\n",
      "Epoch 43/100\n",
      "32/32 [==============================] - 0s 3ms/step - loss: 0.3717 - accuracy: 0.8669 - val_loss: 0.3621 - val_accuracy: 0.8721\n",
      "Epoch 44/100\n",
      "32/32 [==============================] - 0s 3ms/step - loss: 0.3675 - accuracy: 0.8640 - val_loss: 0.3576 - val_accuracy: 0.8721\n",
      "Epoch 45/100\n",
      "32/32 [==============================] - 0s 3ms/step - loss: 0.3642 - accuracy: 0.8669 - val_loss: 0.3533 - val_accuracy: 0.8767\n",
      "Epoch 46/100\n",
      "32/32 [==============================] - 0s 3ms/step - loss: 0.3599 - accuracy: 0.8689 - val_loss: 0.3493 - val_accuracy: 0.8813\n",
      "Epoch 47/100\n",
      "32/32 [==============================] - 0s 3ms/step - loss: 0.3560 - accuracy: 0.8689 - val_loss: 0.3469 - val_accuracy: 0.8539\n",
      "Epoch 48/100\n",
      "32/32 [==============================] - 0s 3ms/step - loss: 0.3530 - accuracy: 0.8669 - val_loss: 0.3419 - val_accuracy: 0.8767\n",
      "Epoch 49/100\n",
      "32/32 [==============================] - 0s 3ms/step - loss: 0.3492 - accuracy: 0.8708 - val_loss: 0.3395 - val_accuracy: 0.8721\n",
      "Epoch 50/100\n",
      "32/32 [==============================] - 0s 3ms/step - loss: 0.3469 - accuracy: 0.8640 - val_loss: 0.3356 - val_accuracy: 0.8813\n",
      "Epoch 51/100\n",
      "32/32 [==============================] - 0s 3ms/step - loss: 0.3441 - accuracy: 0.8659 - val_loss: 0.3323 - val_accuracy: 0.8767\n",
      "Epoch 52/100\n",
      "32/32 [==============================] - 0s 2ms/step - loss: 0.3408 - accuracy: 0.8679 - val_loss: 0.3293 - val_accuracy: 0.8813\n",
      "Epoch 53/100\n",
      "32/32 [==============================] - 0s 3ms/step - loss: 0.3382 - accuracy: 0.8689 - val_loss: 0.3271 - val_accuracy: 0.8858\n",
      "Epoch 54/100\n",
      "32/32 [==============================] - 0s 3ms/step - loss: 0.3358 - accuracy: 0.8659 - val_loss: 0.3238 - val_accuracy: 0.8767\n",
      "Epoch 55/100\n",
      "32/32 [==============================] - 0s 3ms/step - loss: 0.3339 - accuracy: 0.8659 - val_loss: 0.3212 - val_accuracy: 0.8813\n",
      "Epoch 56/100\n",
      "32/32 [==============================] - 0s 3ms/step - loss: 0.3307 - accuracy: 0.8679 - val_loss: 0.3195 - val_accuracy: 0.8904\n",
      "Epoch 57/100\n",
      "32/32 [==============================] - 0s 3ms/step - loss: 0.3293 - accuracy: 0.8659 - val_loss: 0.3166 - val_accuracy: 0.8813\n",
      "Epoch 58/100\n",
      "32/32 [==============================] - 0s 3ms/step - loss: 0.3271 - accuracy: 0.8718 - val_loss: 0.3141 - val_accuracy: 0.8813\n",
      "Epoch 59/100\n",
      "32/32 [==============================] - 0s 3ms/step - loss: 0.3252 - accuracy: 0.8679 - val_loss: 0.3125 - val_accuracy: 0.8858\n",
      "Epoch 60/100\n",
      "32/32 [==============================] - 0s 3ms/step - loss: 0.3231 - accuracy: 0.8748 - val_loss: 0.3101 - val_accuracy: 0.8813\n",
      "Epoch 61/100\n",
      "32/32 [==============================] - 0s 3ms/step - loss: 0.3216 - accuracy: 0.8708 - val_loss: 0.3080 - val_accuracy: 0.8858\n",
      "Epoch 62/100\n",
      "32/32 [==============================] - 0s 3ms/step - loss: 0.3204 - accuracy: 0.8689 - val_loss: 0.3059 - val_accuracy: 0.8858\n",
      "Epoch 63/100\n",
      "32/32 [==============================] - 0s 3ms/step - loss: 0.3180 - accuracy: 0.8708 - val_loss: 0.3041 - val_accuracy: 0.8904\n",
      "Epoch 64/100\n",
      "32/32 [==============================] - 0s 3ms/step - loss: 0.3166 - accuracy: 0.8718 - val_loss: 0.3024 - val_accuracy: 0.8904\n",
      "Epoch 65/100\n",
      "32/32 [==============================] - 0s 3ms/step - loss: 0.3141 - accuracy: 0.8718 - val_loss: 0.3012 - val_accuracy: 0.8858\n",
      "Epoch 66/100\n",
      "32/32 [==============================] - 0s 3ms/step - loss: 0.3142 - accuracy: 0.8728 - val_loss: 0.2993 - val_accuracy: 0.8904\n",
      "Epoch 67/100\n",
      "32/32 [==============================] - 0s 3ms/step - loss: 0.3119 - accuracy: 0.8748 - val_loss: 0.2984 - val_accuracy: 0.8904\n",
      "Epoch 68/100\n",
      "32/32 [==============================] - 0s 3ms/step - loss: 0.3111 - accuracy: 0.8728 - val_loss: 0.2965 - val_accuracy: 0.8904\n",
      "Epoch 69/100\n",
      "32/32 [==============================] - 0s 3ms/step - loss: 0.3096 - accuracy: 0.8699 - val_loss: 0.2954 - val_accuracy: 0.8904\n",
      "Epoch 70/100\n",
      "32/32 [==============================] - 0s 3ms/step - loss: 0.3083 - accuracy: 0.8728 - val_loss: 0.2940 - val_accuracy: 0.8904\n",
      "Epoch 71/100\n",
      "32/32 [==============================] - 0s 2ms/step - loss: 0.3074 - accuracy: 0.8738 - val_loss: 0.2928 - val_accuracy: 0.8904\n",
      "Epoch 72/100\n",
      "32/32 [==============================] - 0s 3ms/step - loss: 0.3062 - accuracy: 0.8728 - val_loss: 0.2915 - val_accuracy: 0.8904\n",
      "Epoch 73/100\n",
      "32/32 [==============================] - 0s 3ms/step - loss: 0.3054 - accuracy: 0.8738 - val_loss: 0.2904 - val_accuracy: 0.8904\n",
      "Epoch 74/100\n",
      "32/32 [==============================] - 0s 3ms/step - loss: 0.3039 - accuracy: 0.8748 - val_loss: 0.2901 - val_accuracy: 0.8904\n",
      "Epoch 75/100\n",
      "32/32 [==============================] - 0s 3ms/step - loss: 0.3023 - accuracy: 0.8738 - val_loss: 0.2883 - val_accuracy: 0.8904\n",
      "Epoch 76/100\n",
      "32/32 [==============================] - 0s 3ms/step - loss: 0.3020 - accuracy: 0.8757 - val_loss: 0.2873 - val_accuracy: 0.8904\n",
      "Epoch 77/100\n",
      "32/32 [==============================] - 0s 3ms/step - loss: 0.3010 - accuracy: 0.8777 - val_loss: 0.2863 - val_accuracy: 0.8950\n",
      "Epoch 78/100\n",
      "32/32 [==============================] - 0s 3ms/step - loss: 0.2995 - accuracy: 0.8748 - val_loss: 0.2859 - val_accuracy: 0.8904\n",
      "Epoch 79/100\n",
      "32/32 [==============================] - 0s 3ms/step - loss: 0.2989 - accuracy: 0.8757 - val_loss: 0.2846 - val_accuracy: 0.8858\n",
      "Epoch 80/100\n",
      "32/32 [==============================] - 0s 3ms/step - loss: 0.2983 - accuracy: 0.8787 - val_loss: 0.2837 - val_accuracy: 0.8950\n",
      "Epoch 81/100\n",
      "32/32 [==============================] - 0s 3ms/step - loss: 0.2969 - accuracy: 0.8757 - val_loss: 0.2828 - val_accuracy: 0.8858\n",
      "Epoch 82/100\n",
      "32/32 [==============================] - 0s 3ms/step - loss: 0.2966 - accuracy: 0.8836 - val_loss: 0.2821 - val_accuracy: 0.8904\n",
      "Epoch 83/100\n",
      "32/32 [==============================] - 0s 3ms/step - loss: 0.2955 - accuracy: 0.8757 - val_loss: 0.2813 - val_accuracy: 0.8904\n",
      "Epoch 84/100\n",
      "32/32 [==============================] - 0s 3ms/step - loss: 0.2938 - accuracy: 0.8787 - val_loss: 0.2815 - val_accuracy: 0.8721\n",
      "Epoch 85/100\n",
      "32/32 [==============================] - 0s 3ms/step - loss: 0.2930 - accuracy: 0.8845 - val_loss: 0.2798 - val_accuracy: 0.8858\n",
      "Epoch 86/100\n",
      "32/32 [==============================] - 0s 3ms/step - loss: 0.2926 - accuracy: 0.8816 - val_loss: 0.2793 - val_accuracy: 0.8813\n",
      "Epoch 87/100\n",
      "32/32 [==============================] - 0s 3ms/step - loss: 0.2915 - accuracy: 0.8816 - val_loss: 0.2782 - val_accuracy: 0.8904\n",
      "Epoch 88/100\n",
      "32/32 [==============================] - 0s 3ms/step - loss: 0.2904 - accuracy: 0.8787 - val_loss: 0.2783 - val_accuracy: 0.8813\n",
      "Epoch 89/100\n",
      "32/32 [==============================] - 0s 3ms/step - loss: 0.2911 - accuracy: 0.8757 - val_loss: 0.2780 - val_accuracy: 0.8813\n",
      "Epoch 90/100\n",
      "32/32 [==============================] - 0s 3ms/step - loss: 0.2885 - accuracy: 0.8806 - val_loss: 0.2770 - val_accuracy: 0.8950\n",
      "Epoch 91/100\n",
      "32/32 [==============================] - 0s 3ms/step - loss: 0.2875 - accuracy: 0.8816 - val_loss: 0.2767 - val_accuracy: 0.8813\n",
      "Epoch 92/100\n",
      "32/32 [==============================] - 0s 3ms/step - loss: 0.2887 - accuracy: 0.8845 - val_loss: 0.2750 - val_accuracy: 0.8904\n",
      "Epoch 93/100\n",
      "32/32 [==============================] - 0s 3ms/step - loss: 0.2871 - accuracy: 0.8816 - val_loss: 0.2743 - val_accuracy: 0.8904\n",
      "Epoch 94/100\n",
      "32/32 [==============================] - 0s 3ms/step - loss: 0.2860 - accuracy: 0.8865 - val_loss: 0.2738 - val_accuracy: 0.8904\n",
      "Epoch 95/100\n",
      "32/32 [==============================] - 0s 3ms/step - loss: 0.2853 - accuracy: 0.8855 - val_loss: 0.2735 - val_accuracy: 0.8858\n",
      "Epoch 96/100\n",
      "32/32 [==============================] - 0s 3ms/step - loss: 0.2852 - accuracy: 0.8845 - val_loss: 0.2728 - val_accuracy: 0.8904\n",
      "Epoch 97/100\n",
      "32/32 [==============================] - 0s 3ms/step - loss: 0.2840 - accuracy: 0.8855 - val_loss: 0.2722 - val_accuracy: 0.8950\n",
      "Epoch 98/100\n",
      "32/32 [==============================] - 0s 2ms/step - loss: 0.2830 - accuracy: 0.8865 - val_loss: 0.2718 - val_accuracy: 0.8813\n",
      "Epoch 99/100\n",
      "32/32 [==============================] - 0s 3ms/step - loss: 0.2830 - accuracy: 0.8875 - val_loss: 0.2710 - val_accuracy: 0.8904\n",
      "Epoch 100/100\n",
      "32/32 [==============================] - 0s 4ms/step - loss: 0.2820 - accuracy: 0.8855 - val_loss: 0.2707 - val_accuracy: 0.8995\n"
     ]
    }
   ],
   "source": [
    "hist = \n",
    "\n",
    "\n",
    "\n",
    "\n"
   ]
  },
  {
   "cell_type": "markdown",
   "metadata": {
    "id": "iUU-LPeg4nhM"
   },
   "source": [
    "Evaluating our data on the test set:"
   ]
  },
  {
   "cell_type": "code",
   "execution_count": 16,
   "metadata": {
    "colab": {
     "base_uri": "https://localhost:8080/",
     "height": 51
    },
    "id": "GqRJaDAX4nhN",
    "outputId": "6db7aeeb-a5fa-4868-84cb-083a785866cb"
   },
   "outputs": [
    {
     "name": "stdout",
     "output_type": "stream",
     "text": [
      "7/7 [==============================] - 0s 1ms/step - loss: 0.3100 - accuracy: 0.8904\n"
     ]
    },
    {
     "data": {
      "text/plain": [
       "0.8904109597206116"
      ]
     },
     "execution_count": 16,
     "metadata": {
      "tags": []
     },
     "output_type": "execute_result"
    }
   ],
   "source": [
    "\n",
    "\n"
   ]
  },
  {
   "cell_type": "markdown",
   "metadata": {
    "id": "5sJLMvNi4nhQ"
   },
   "source": [
    "## Question 4: Visualizing Loss and Accuracy"
   ]
  },
  {
   "cell_type": "markdown",
   "metadata": {
    "id": "2UtXecMx4nhR"
   },
   "source": [
    "Import the relevant package we need to do the visualization"
   ]
  },
  {
   "cell_type": "code",
   "execution_count": 17,
   "metadata": {
    "id": "E-ufQCQf4nhS"
   },
   "outputs": [],
   "source": [
    "import matplotlib.pyplot as plt"
   ]
  },
  {
   "cell_type": "markdown",
   "metadata": {
    "id": "UcSAq6FR4nhU"
   },
   "source": [
    "We want to visualize the training loss and the validation loss like this:"
   ]
  },
  {
   "cell_type": "code",
   "execution_count": 18,
   "metadata": {
    "colab": {
     "base_uri": "https://localhost:8080/",
     "height": 295
    },
    "id": "7wE820Hg4nhU",
    "outputId": "abe1b743-76ab-4b6b-cab1-0fae913738d3"
   },
   "outputs": [
    {
     "data": {
      "image/png": "[encoded data removed]",
      "text/plain": [
       "<Figure size 432x288 with 1 Axes>"
      ]
     },
     "metadata": {
      "needs_background": "light",
      "tags": []
     },
     "output_type": "display_data"
    }
   ],
   "source": [
    "plt.title('Model loss')\n",
    "plt.ylabel('Loss')\n",
    "plt.xlabel('Epoch')\n",
    "plt.legend(['Train', 'Val'], loc='upper right')\n",
    "\n",
    "\n",
    "\n",
    "\n",
    "\n",
    "plt.show()"
   ]
  },
  {
   "cell_type": "markdown",
   "metadata": {
    "id": "SVTNiG3f4nhW"
   },
   "source": [
    "We can also visualize the training accuracy and the validation accuracy like this:"
   ]
  },
  {
   "cell_type": "code",
   "execution_count": 19,
   "metadata": {
    "colab": {
     "base_uri": "https://localhost:8080/",
     "height": 295
    },
    "id": "XDOpO70U4nhX",
    "outputId": "b5b5d573-7d12-4ec2-90d0-81484bb7667d"
   },
   "outputs": [
    {
     "data": {
      "image/png": "[encoded data removed]",
      "text/plain": [
       "<Figure size 432x288 with 1 Axes>"
      ]
     },
     "metadata": {
      "needs_background": "light",
      "tags": []
     },
     "output_type": "display_data"
    }
   ],
   "source": [
    "plt.title('Model accuracy')\n",
    "plt.ylabel('Accuracy')\n",
    "plt.xlabel('Epoch')\n",
    "plt.legend(['Train', 'Val'], loc='lower right')\n",
    "\n",
    "\n",
    "\n",
    "\n",
    "\n",
    "\n",
    "\n",
    "plt.show()"
   ]
  },
  {
   "cell_type": "markdown",
   "metadata": {},
   "source": [
    "#### Can you improve the model accuracy even further? Try some other approaches!"
   ]
  },
  {
   "cell_type": "code",
   "execution_count": null,
   "metadata": {},
   "outputs": [],
   "source": []
  }
 ],
 "metadata": {
  "accelerator": "GPU",
  "colab": {
   "collapsed_sections": [],
   "name": "Lab7-sol.ipynb",
   "provenance": []
  },
  "kernelspec": {
   "display_name": "Python 3 (ipykernel)",
   "language": "python",
   "name": "python3"
  },
  "language_info": {
   "codemirror_mode": {
    "name": "ipython",
    "version": 3
   },
   "file_extension": ".py",
   "mimetype": "text/x-python",
   "name": "python",
   "nbconvert_exporter": "python",
   "pygments_lexer": "ipython3",
   "version": "3.9.12"
  },
  "toc": {
   "base_numbering": 1,
   "nav_menu": {},
   "number_sections": true,
   "sideBar": true,
   "skip_h1_title": false,
   "title_cell": "Table of Contents",
   "title_sidebar": "Contents",
   "toc_cell": false,
   "toc_position": {},
   "toc_section_display": true,
   "toc_window_display": false
  },
  "varInspector": {
   "cols": {
    "lenName": 16,
    "lenType": 16,
    "lenVar": 40
   },
   "kernels_config": {
    "python": {
     "delete_cmd_postfix": "",
     "delete_cmd_prefix": "del ",
     "library": "var_list.py",
     "varRefreshCmd": "print(var_dic_list())"
    },
    "r": {
     "delete_cmd_postfix": ") ",
     "delete_cmd_prefix": "rm(",
     "library": "var_list.r",
     "varRefreshCmd": "cat(var_dic_list()) "
    }
   },
   "types_to_exclude": [
    "module",
    "function",
    "builtin_function_or_method",
    "instance",
    "_Feature"
   ],
   "window_display": false
  }
 },
 "nbformat": 4,
 "nbformat_minor": 1
}
