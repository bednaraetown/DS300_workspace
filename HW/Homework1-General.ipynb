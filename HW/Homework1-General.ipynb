{
 "cells": [
  {
   "cell_type": "markdown",
   "metadata": {},
   "source": [
    "<h1><center>DS300 Homework 1 - General Questions</center></h1>"
   ]
  },
  {
   "cell_type": "markdown",
   "metadata": {},
   "source": [
    "## Introduction\n",
    "\n",
    "``` \n",
    "In this homework, we are focusing on answering some of the critical questions about data mining and data science in general. Some of the questions here are very popular interview questions you need to prepare. So take a coffee (or tea if you are a tea person), put on your thinking cap and start to crack these questions. Reviewing the lecture slides and the textbook will help you find some of the best answers. Each question is worth 10 points. \n",
    "```\n",
    "\n",
    "![Image](https://i.ytimg.com/vi/gAb07ZiojN0/hqdefault.jpg)"
   ]
  },
  {
   "cell_type": "markdown",
   "metadata": {},
   "source": [
    "## Question 1\n",
    "\n",
    "```\n",
    "What do you think is the scope of data mining? You must list at least two categories and explain why.\n",
    "```"
   ]
  },
  {
   "cell_type": "markdown",
   "metadata": {},
   "source": [
    "Answers:\n",
    "Data mining could be looked at form either a commercial or scientific viewpoint. Froma  commercial viewpoint companies can collect data on users and then and use this data to provide more realivant searches to customers and also perform targeted advertising. From a scientific viewpoint data mining can help with automated analasys of massive datasets and in hypothesis formation, one example of this could be to use past data of MRI scans to have a model accurately determine medical differences.\n",
    "\n"
   ]
  },
  {
   "cell_type": "markdown",
   "metadata": {},
   "source": [
    "## Question 2\n",
    "\n",
    "```\n",
    "What do you think are the pros and cons of data mining? Name at least two for each category and explain why you think so.\n",
    "```"
   ]
  },
  {
   "cell_type": "markdown",
   "metadata": {},
   "source": [
    "Answers: \n",
    "The pros of data mining include the ability to work to solve society's major problems like finding new ways to predict the impact of climate change or to find the best alternative energy solutions for specific areas. Also if a problem is worked through correctly, then the accuruacy that a model can produce may surpass the accuracy that a human can provide.\n",
    "\n",
    "The cons of data mining include the time it could take to find meaningful information from the large ammount of data availible. Another con is that there can be inaccuracies in the results especially if the data chosen is not cleand properly, which is a difficult task in it of itself."
   ]
  },
  {
   "cell_type": "markdown",
   "metadata": {},
   "source": [
    "## Question 3\n",
    "\n",
    "```\n",
    "List at least 5 data mining techniques and try to explain what you can do with each technique with examples.\n",
    "```"
   ]
  },
  {
   "cell_type": "markdown",
   "metadata": {},
   "source": [
    "Answers:\n",
    "Data cleaning and preparation- This technique is used to prepare data in a way that is useful to build a predictive model with. These steps could include dealing with null values, fitting and transforming data, and feature selection. This allows for a greater accuracy in developing models.\n",
    "\n",
    "Classification- Classification is used to find a model for class attribute as a function of the values of other attributes, example: based on employed statis, level of educatio, and years at address is someone credit worthy\n",
    "\n",
    "Regression- Regression is used to predict a value of a given continuous valued variable based on the values of other variables, assuming a \n",
    "linear or nonlinear model of dependency, example: predicting sales amounts of new product based on advertising expenditure\n",
    "\n",
    "Clustering: Clustering is used to find groups of objects such that the objects in a group will be related to one another and unrelated to the objects in other groups, example: finding groups of documents that are similar to each other based on the important terms appearing in them.\n",
    "\n",
    "Association- The goal of association is to produce dependency rules which will predict occurrence of an item based on occurrences of other \n",
    "items given a set of records each of which contain some number of items from a given collection, example: Market-basket analysis finds rules for sales promotion, shelf management, and inventory management such as putting milk near coke or far away from coke\n",
    "\n",
    "\n"
   ]
  },
  {
   "cell_type": "markdown",
   "metadata": {},
   "source": [
    "## Question 4\n",
    "\n",
    "```\n",
    "Describe a high-level pipeline of data mining using a diagram AND corresponding descriptions. Upload your diagram as a separate file on Canvas. \n",
    "```\n",
    "\n",
    "You can use [link](https://app.diagrams.net/) to draw a diagram."
   ]
  },
  {
   "cell_type": "markdown",
   "metadata": {},
   "source": [
    "Answers: Contained in file"
   ]
  },
  {
   "cell_type": "markdown",
   "metadata": {},
   "source": [
    "## Question 5\n",
    "\n",
    "```\n",
    "Conduct literature search by ussing ACM digital library (https://dl.acm.org/). Describe in details THREE classification use cases from papers in recent five years. You need to use list the cited paper in reference. \n",
    "```"
   ]
  },
  {
   "cell_type": "markdown",
   "metadata": {},
   "source": [
    "Answers:\n",
    "In this paper a large malware dataset from Microsoft in 2015 was used to put malware into these 9 classes: (1) Ramnit, (2) Lollipop, (3) Kelihos_ver3, (4)Vundo, (5) Simda, (6) Tracur, (7) Kelihos_ver1, (8) Obfuscator.ACY,(9) Gatak. Using a refined Gradient Boosting Machine for the classification task and k-fold cross-validation to evaluate performance, 96% accuracy was achieved.\n",
    "https://dl.acm.org/doi/10.1145/3190645.3190692\n",
    "\n",
    "This approach at classification chose a dataset with 2000 cases and split them into a 60-40 train test split. They chose 4 classifying features: sex age education, and district in order to determine musical prefrence. Four different algorythms were used to solve this problem: Classification and regression tree, K-Nearest Neighbor, Logistic Regression, and Random Forest.\n",
    "With random forest acheiving the highest accuracy at 86.8%.\n",
    "https://dl.acm.org/doi/10.5555/3213200.3213202\n",
    "\n",
    "This paper classified patients into 4 different categories of levels of Alzheimer's disease based on MRI data. They also tested data imputation which is the filling of null values instead of dropping those values. Using a simple multinomial logistic regression and Enhanced Multinomial Logistic Regression models. They concluded with 88.39% accuracy on the EMLR model with data imputation as compared to the 39.28% from the MLR without data imputation.\n",
    "https://dl.acm.org/doi/10.1145/3479645.3479676"
   ]
  },
  {
   "cell_type": "markdown",
   "metadata": {},
   "source": [
    "## Question 6\n",
    "\n",
    "```\n",
    "Summarize in a table what are the levels of measurement of data, and how they are different from each other with CONCRETE EXAMPLES.\n",
    "```"
   ]
  },
  {
   "cell_type": "markdown",
   "metadata": {},
   "source": [
    "Answers:\n",
    "Contained in file"
   ]
  },
  {
   "cell_type": "markdown",
   "metadata": {},
   "source": [
    "## Question 7\n",
    "\n",
    "```\n",
    "Find out three societal concerns of data mining from any three of the following categories: ethics, security, legality, economics and equity. Also find existing solutions for each concern. \n",
    "```"
   ]
  },
  {
   "cell_type": "markdown",
   "metadata": {},
   "source": [
    "Answers:\n",
    "\n",
    "One security concern for data mining is the data collection process. The person may not know what data is being collected or how it will be used and they have no opertunity to consent to this. A current solution to this is Apple implimentiing a privacy feature for applications on their app store in order to disclose this information and stop collection if unwanted.\n",
    "\n",
    "An ethics issue that companies face is deciding weather to tell a consumer that their data is being used for data mining. On one hand they can gain a advantage over the rest of the market by using this data, but they may also lose customer trust. Again a solution is implimentiing a privacy feature for applications on their app store in order to disclose this information and stop collection if unwanted.\n",
    "\n",
    "A legal issue is that once data is collected and sent to a data warehouse, who can access this information. A consumer wouldn't want anyone to acces this potentially personal information. A soultion for this is to randomize the consumers personal information before sending it to the data warehouse.\n"
   ]
  },
  {
   "cell_type": "markdown",
   "metadata": {},
   "source": [
    "## Question 8\n",
    "\n",
    "```\n",
    "Find at least 3 candidate datasets with URLs and descriptions for your final project. Discuss for each dataset 1) what goals you can achieve; 2) the feasibility; and 3) the major obstacles.\n",
    "```"
   ]
  },
  {
   "cell_type": "markdown",
   "metadata": {},
   "source": [
    "Answers:\n",
    "Drug Classification-\n",
    "The goal for this data set is to predict a drug to perscribe to a patient based on their health records. This seems feesible because it seems to only have a few features to predict from. The major obsticle is that 46% of the data is for one specific drug, so the data set may be imbalanced. \n",
    "https://www.kaggle.com/datasets/prathamtripathi/drug-classification\n",
    "\n",
    "Credit Card Fraud-\n",
    "The goal for this data is to determine if a user is valid or commiting credit card fraud for a purchase. This seems to be more a of a difficult problem as you can not always track distance from purchase while online. The major obsticle would be to determine if an online purchase is fradulant, also there are more valid purchases than fraud purchases.\n",
    "https://www.kaggle.com/datasets/dhanushnarayananr/credit-card-fraud\n",
    "\n",
    "Milk Quality Prediction-\n",
    "Use the 7 independent variables to determine if the quality of milk is bad, moderate, or good. One hot encoding would be used to determine what the quality of milk is, this is also the major obstacle.\n",
    "https://www.kaggle.com/datasets/cpluzshrijayan/milkquality\n"
   ]
  },
  {
   "cell_type": "markdown",
   "metadata": {},
   "source": [
    "## Question 9\n",
    "\n",
    "```\n",
    "Take one dataset from Question 8 and describe in great detail how you can materialize your idea. Details must include: 1) what kinds of data cleaning you need to perform; 2) how would you preprocess the data; 3) what kind of data mining problem it belongs to; 4) what analytical models (at least two) you can implement; 5) how to evaluate and present the results generated by the models; and 6) what kind of application you can design with the models. \n",
    "```"
   ]
  },
  {
   "cell_type": "markdown",
   "metadata": {},
   "source": [
    "Answers: First I would look for null values and drop those rows. Then normalize the data. I would also look into EDA to draw conclusions on the data and look for corelations. This would be a classification problem. With this type of problem I could impliment K-Nearest Neighbours or  Decision Tree like I used in my DS200 final project. Because, this is supervised learning the preision and F1-score will be used to deterimne quality of model. This can then be applyed in order for all companies that use credit card transactions to run their data through and determine if a purchase is fraud. This problem sticks out to me because I use paypal as a way to recieve payments and they no longer offer fraud protection to their customers, so this would save me time and money."
   ]
  },
  {
   "cell_type": "markdown",
   "metadata": {},
   "source": [
    "## Question 10\n",
    "\n",
    "```\n",
    "List at least 3 places that you can do differently from \"DS 200 Intro to Data Science\" in the final project for this course.\n",
    "```"
   ]
  },
  {
   "cell_type": "markdown",
   "metadata": {},
   "source": [
    "Answers: I would like to fully develop a working application portion, as my application from DS200 wasn't how I would have liked. \n",
    "I would try to focus my predictions and refine the aspect of online credit card orders. Finally, I would like to apply this to a real life situation with actual data oustide of the chosen data set."
   ]
  }
 ],
 "metadata": {
  "kernelspec": {
   "display_name": "Python 3 (ipykernel)",
   "language": "python",
   "name": "python3"
  },
  "language_info": {
   "codemirror_mode": {
    "name": "ipython",
    "version": 3
   },
   "file_extension": ".py",
   "mimetype": "text/x-python",
   "name": "python",
   "nbconvert_exporter": "python",
   "pygments_lexer": "ipython3",
   "version": "3.9.12"
  },
  "toc": {
   "base_numbering": 1,
   "nav_menu": {},
   "number_sections": true,
   "sideBar": true,
   "skip_h1_title": false,
   "title_cell": "Table of Contents",
   "title_sidebar": "Contents",
   "toc_cell": false,
   "toc_position": {},
   "toc_section_display": true,
   "toc_window_display": false
  },
  "varInspector": {
   "cols": {
    "lenName": 16,
    "lenType": 16,
    "lenVar": 40
   },
   "kernels_config": {
    "python": {
     "delete_cmd_postfix": "",
     "delete_cmd_prefix": "del ",
     "library": "var_list.py",
     "varRefreshCmd": "print(var_dic_list())"
    },
    "r": {
     "delete_cmd_postfix": ") ",
     "delete_cmd_prefix": "rm(",
     "library": "var_list.r",
     "varRefreshCmd": "cat(var_dic_list()) "
    }
   },
   "types_to_exclude": [
    "module",
    "function",
    "builtin_function_or_method",
    "instance",
    "_Feature"
   ],
   "window_display": false
  }
 },
 "nbformat": 4,
 "nbformat_minor": 2
}
